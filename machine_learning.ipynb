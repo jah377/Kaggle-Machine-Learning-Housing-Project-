{
 "cells": [
  {
   "cell_type": "markdown",
   "metadata": {},
   "source": [
    "# Housing ML Notebook\n",
    "\n",
    "https://github.com/LefanCheng/ML-Project-Predicting-Housing-Prices-Kaggle/blob/master/ML_Project_Housing_Prices_Prediction_Kaggle.ipynb\n",
    "\n",
    "https://github.com/AidenFather/Machine-Learning-Project_Ames-House-Price-Prediction/blob/master/1_Prediction_Models.ipynb"
   ]
  },
  {
   "cell_type": "code",
   "execution_count": 1,
   "metadata": {},
   "outputs": [],
   "source": [
    "# Setup Packages\n",
    "import numpy as np\n",
    "import pandas as pd\n",
    "import matplotlib.pyplot as plt\n",
    "import seaborn as sns\n",
    "from scipy import stats\n",
    "\n",
    "%matplotlib inline\n",
    "\n",
    "# Display all rows and columns\n",
    "pd.set_option(\"display.max_columns\", None)\n",
    "\n",
    "# Suppress warnings\n",
    "import warnings\n",
    "warnings.filterwarnings(\"ignore\")"
   ]
  },
  {
   "cell_type": "code",
   "execution_count": 2,
   "metadata": {},
   "outputs": [],
   "source": [
    "from sklearn.linear_model import Lasso, Ridge, ElasticNet\n",
    "from sklearn.model_selection import KFold, cross_val_score, GridSearchCV, RandomizedSearchCV\n",
    "from sklearn.metrics import mean_squared_error\n",
    "from sklearn.base import BaseEstimator, TransformerMixin, RegressorMixin, clone\n",
    "from sklearn.ensemble import GradientBoostingRegressor\n",
    "from mlxtend.regressor import StackingCVRegressor\n",
    "import xgboost as xgb\n",
    "import pickle"
   ]
  },
  {
   "cell_type": "markdown",
   "metadata": {},
   "source": [
    "**saving models**\n",
    "https://medium.com/fintechexplained/how-to-save-trained-machine-learning-models-649c3ad1c018"
   ]
  },
  {
   "cell_type": "code",
   "execution_count": 3,
   "metadata": {},
   "outputs": [],
   "source": [
    "# For autoreloading modules\n",
    "%load_ext autoreload\n",
    "%autoreload 2"
   ]
  },
  {
   "cell_type": "code",
   "execution_count": 4,
   "metadata": {},
   "outputs": [],
   "source": [
    "# # Used for auto-formatting code\n",
    "# # terminal - pip install nb_black\n",
    "# %load_ext nb_black"
   ]
  },
  {
   "cell_type": "code",
   "execution_count": 5,
   "metadata": {},
   "outputs": [],
   "source": [
    "# Import data csvs\n",
    "X = pd.read_csv(\"data/predictors.csv\")  # id=1 to 1460\n",
    "Y = pd.read_csv(\"data/response.csv\")  # id=1461-2919\n",
    "\n",
    "# Save figures within notebook?\n",
    "save_figures = 0  # 1 (yes); 0 (no)"
   ]
  },
  {
   "cell_type": "code",
   "execution_count": 6,
   "metadata": {},
   "outputs": [],
   "source": [
    "# Dummify categorical predictors\n",
    "X = pd.get_dummies(X, drop_first=True)  # dummify\n"
   ]
  },
  {
   "cell_type": "code",
   "execution_count": 7,
   "metadata": {},
   "outputs": [],
   "source": [
    "# Separate train and test.csv dataframes\n",
    "train_df = X.loc[X.Id <= 1460].drop(\"Id\", axis=1)  # train.csv\n",
    "test_df = X.loc[X.Id > 1460].drop(\"Id\", axis=1)  # test.csv\n",
    "response = Y\n",
    "\n",
    "# Test-Train split **TRAIN.CSV DATA**\n",
    "from sklearn.model_selection import train_test_split\n",
    "\n",
    "x_train, x_test, y_train, y_test = train_test_split(\n",
    "    train_df, response, test_size=0.3, random_state=0\n",
    ")"
   ]
  },
  {
   "cell_type": "markdown",
   "metadata": {},
   "source": [
    "## Basic Models"
   ]
  },
  {
   "cell_type": "markdown",
   "metadata": {},
   "source": [
    "### Lasso Regularized Regression"
   ]
  },
  {
   "cell_type": "code",
   "execution_count": 88,
   "metadata": {
    "scrolled": false
   },
   "outputs": [
    {
     "name": "stdout",
     "output_type": "stream",
     "text": [
      "Fitting 5 folds for each of 100 candidates, totalling 500 fits\n"
     ]
    },
    {
     "name": "stderr",
     "output_type": "stream",
     "text": [
      "[Parallel(n_jobs=-1)]: Using backend LokyBackend with 8 concurrent workers.\n",
      "[Parallel(n_jobs=-1)]: Done  34 tasks      | elapsed:    3.1s\n",
      "[Parallel(n_jobs=-1)]: Done 184 tasks      | elapsed:    6.9s\n",
      "[Parallel(n_jobs=-1)]: Done 500 out of 500 | elapsed:   10.5s finished\n"
     ]
    },
    {
     "name": "stdout",
     "output_type": "stream",
     "text": [
      "Lasso: All Features\n",
      "Best Lambda:0.00012045\n",
      "Train RMSE:0.10938\n"
     ]
    },
    {
     "data": {
      "image/png": "[encoded data removed]",
      "text/plain": [
       "<Figure size 720x432 with 1 Axes>"
      ]
     },
     "metadata": {
      "needs_background": "light"
     },
     "output_type": "display_data"
    }
   ],
   "source": [
    "#New instance of model\n",
    "lasso = Lasso(normalize=True, random_state=0)\n",
    "\n",
    "#Perform gridsearch\n",
    "# min_a = -7\n",
    "# max_a = -2\n",
    "# param_grid = {\"alpha\": np.logspace(min_a, max_a, 100)} #hyperparameter\n",
    "param_grid = {\"alpha\": np.linspace(10**-5, 10**-2, 1000)}\n",
    "grid = GridSearchCV(estimator=lasso, \n",
    "                    param_grid=param_grid, \n",
    "                    scoring=\"neg_root_mean_squared_error\", #eval metric\n",
    "                    verbose=True, #return status update\n",
    "                    cv=5, \n",
    "                    n_jobs=-1) #create grid search\n",
    "grid.fit(x_train, y_train) #fit training data to model\n",
    "lasso_allFeatures = grid.best_estimator_ #assign tuned parameter to model\n",
    "pickle.dump(lasso_allFeatures, open('saved_models/lasso_allFeatures', 'wb')) #save the model\n",
    "\n",
    "# Isolate results for plot\n",
    "rmse_train = -grid.best_score_  # best rmse of training dataset\n",
    "print(\"Lasso: All Features\")\n",
    "print(\"Best Lambda:{0}\".format(round(grid.best_params_[\"alpha\"], 8)))\n",
    "print(\"Train RMSE:{0}\".format(round(rmse_train, 5)))\n",
    "\n",
    "# Plot Lambda vs RMSE\n",
    "alpha = grid.cv_results_[\"param_alpha\"].tolist()  # for plot\n",
    "rmse = (grid.cv_results_[\"mean_test_score\"] * -1)  # for plot\n",
    "\n",
    "plt.figure(figsize=(10, 6))\n",
    "g = sns.lineplot(x=alpha, y=rmse, color=\"#3498db\")\n",
    "sns.set(style=\"whitegrid\", font_scale=1.5)\n",
    "g.set(xscale=\"log\")\n",
    "plt.xlim(10 ** min_a, 10 ** max_a)\n",
    "plt.ylim(0.10, 0.350)\n",
    "plt.title(\"Lasso without Feature Selection: RMSE vs Lambda Value\")\n",
    "plt.xlabel(\"Lambda\")\n",
    "plt.ylabel(\"RMSE\")\n",
    "\n",
    "if save_figures:\n",
    "    plt.savefig(\"saved_figures/lasso_allFeat_RMSEvLambda.tiff\", bbox_inches=\"tight\", dpi=300)\n",
    "\n",
    "    \n",
    "#Export Data for kaggle\n",
    "y_pred = lasso_allFeatures.predict(test_df) #predict submission saleprices\n",
    "predict = pd.DataFrame({'Id':range(1461,2920),\n",
    "                        'SalePrice': np.exp(y_pred).tolist()})\n",
    "predict.to_csv('lasso_allFeat_results.csv',index=False)\n"
   ]
  },
  {
   "cell_type": "markdown",
   "metadata": {},
   "source": [
    "### Lasso Regularized Regression with Feature Selection"
   ]
  },
  {
   "cell_type": "code",
   "execution_count": 89,
   "metadata": {
    "scrolled": false
   },
   "outputs": [
    {
     "name": "stdout",
     "output_type": "stream",
     "text": [
      "Number of selected features: 81\n",
      "Number of dropped features: 137\n"
     ]
    },
    {
     "data": {
      "image/png": "[encoded data removed]",
      "text/plain": [
       "<Figure size 720x432 with 1 Axes>"
      ]
     },
     "metadata": {},
     "output_type": "display_data"
    }
   ],
   "source": [
    "# Feature Selection\n",
    "lasso_allFeatures.fit(x_train, y_train)  # fit model with training data\n",
    "coefs_df = pd.DataFrame(lasso_allFeatures.coef_, index=x_train.columns, columns=[\"coef\"]) #df of parameter coefficients\n",
    "coefs_df.sort_values(ascending=False, by=\"coef\", inplace=True)  # sort df\n",
    "n_select = sum(coefs_df.coef != 0)  # features selected\n",
    "n_drop = sum(coefs_df.coef == 0)  # features dropped\n",
    "print('Number of selected features: {0}'.format(n_select))\n",
    "print('Number of dropped features: {0}'.format(n_drop))\n",
    "\n",
    "# Important features\n",
    "imp_feat = coefs_df.loc[coefs_df.coef != 0].index.tolist()\n",
    "\n",
    "# Plot coefficients of top 20 important features\n",
    "plt.figure(figsize=(10, 6))\n",
    "data = pd.concat([coefs_df.head(10), coefs_df.tail(10)], axis=0)\n",
    "sns.barplot(x=data.coef, y=data.index, color=\"#3498db\")\n",
    "sns.set(style=\"whitegrid\", font_scale=1.5)\n",
    "plt.title(\"Lasso Model: Feature Importance\")\n",
    "plt.xlabel(\"Coefficient Value\")\n",
    "plt.xlim(-0.3, 0.3)\n",
    "\n",
    "if save_figures:\n",
    "    plt.savefig(\"saved_figures/lasso_feat_importance.tiff\", bbox_inches=\"tight\")"
   ]
  },
  {
   "cell_type": "code",
   "execution_count": 90,
   "metadata": {},
   "outputs": [
    {
     "name": "stdout",
     "output_type": "stream",
     "text": [
      "Fitting 5 folds for each of 100 candidates, totalling 500 fits\n"
     ]
    },
    {
     "name": "stderr",
     "output_type": "stream",
     "text": [
      "[Parallel(n_jobs=-1)]: Using backend LokyBackend with 8 concurrent workers.\n",
      "[Parallel(n_jobs=-1)]: Done 500 out of 500 | elapsed:    1.4s finished\n"
     ]
    },
    {
     "name": "stdout",
     "output_type": "stream",
     "text": [
      "Lasso: All Features\n",
      "Best Lambda:1.322e-05\n",
      "Train RMSE:0.10371\n"
     ]
    },
    {
     "data": {
      "image/png": "[encoded data removed]",
      "text/plain": [
       "<Figure size 720x432 with 1 Axes>"
      ]
     },
     "metadata": {},
     "output_type": "display_data"
    }
   ],
   "source": [
    "#New instance of model\n",
    "lasso = Lasso(normalize=True, random_state=0)\n",
    "\n",
    "#Perform gridsearch\n",
    "# min_a = -7\n",
    "# max_a = -2\n",
    "# param_grid = {\"alpha\": np.logspace(min_a, max_a, 100)} #hyperparameter\n",
    "param_grid = {\"alpha\": np.linspace(10**-7, 10**-5, 1000)} #hyperparameter\n",
    "grid = GridSearchCV(estimator=lasso, \n",
    "                    param_grid=param_grid, \n",
    "                    scoring=\"neg_root_mean_squared_error\", #eval metric\n",
    "                    verbose=True, #return status update\n",
    "                    cv=5, \n",
    "                    n_jobs=-1) #create grid search\n",
    "grid.fit(x_train[imp_feat], y_train) #fit training data to model\n",
    "lasso_selectFeatures = grid.best_estimator_ #assign tuned parameter to model\n",
    "pickle.dump(lasso_selectFeatures, open('saved_models/lasso_selectFeatures', 'wb')) #save the model\n",
    "\n",
    "# Isolate results for plot\n",
    "rmse_train = -grid.best_score_  # best rmse of training dataset\n",
    "print(\"Lasso: All Features\")\n",
    "print(\"Best Lambda:{0}\".format(round(grid.best_params_[\"alpha\"], 8)))\n",
    "print(\"Train RMSE:{0}\".format(round(rmse_train, 5)))\n",
    "\n",
    "# Plot Lambda vs RMSE\n",
    "alpha = grid.cv_results_[\"param_alpha\"].tolist()  # for plot\n",
    "rmse = (grid.cv_results_[\"mean_test_score\"] * -1)  # for plot\n",
    "\n",
    "plt.figure(figsize=(10, 6))\n",
    "g = sns.lineplot(x=alpha, y=rmse, color=\"#3498db\")\n",
    "sns.set(style=\"whitegrid\", font_scale=1.5)\n",
    "g.set(xscale=\"log\")\n",
    "plt.xlim(10 ** min_a, 10 ** max_a)\n",
    "plt.ylim(0.10, 0.350)\n",
    "plt.title(\"Lasso with Feature Selection : RMSE vs Lambda Value\")\n",
    "plt.xlabel(\"Lambda\")\n",
    "plt.ylabel(\"RMSE\")\n",
    "\n",
    "if save_figures:\n",
    "    plt.savefig(\"saved_figures/lasso_selectFeat_RMSEvLambda.tiff\", bbox_inches=\"tight\", dpi=300)\n",
    "\n",
    "    \n",
    "#Export Data for kaggle\n",
    "y_pred = lasso_selectFeatures.predict(test_df[imp_feat]) #predict submission saleprices\n",
    "predict = pd.DataFrame({'Id':range(1461,2920),\n",
    "                        'SalePrice': np.exp(y_pred).tolist()})\n",
    "predict.to_csv('saved_predictions/lasso_selectFeat_results.csv',index=False)"
   ]
  },
  {
   "cell_type": "markdown",
   "metadata": {},
   "source": [
    "### Ridge Regularized Regression\n"
   ]
  },
  {
   "cell_type": "code",
   "execution_count": 92,
   "metadata": {},
   "outputs": [
    {
     "name": "stdout",
     "output_type": "stream",
     "text": [
      "Fitting 5 folds for each of 100 candidates, totalling 500 fits\n"
     ]
    },
    {
     "name": "stderr",
     "output_type": "stream",
     "text": [
      "[Parallel(n_jobs=-1)]: Using backend LokyBackend with 8 concurrent workers.\n",
      "[Parallel(n_jobs=-1)]: Done 232 tasks      | elapsed:    0.7s\n",
      "[Parallel(n_jobs=-1)]: Done 500 out of 500 | elapsed:    1.1s finished\n"
     ]
    },
    {
     "name": "stdout",
     "output_type": "stream",
     "text": [
      "Ridge: All Features\n",
      "Best Lambda:0.2009233\n",
      "Train RMSE:0.113\n"
     ]
    },
    {
     "data": {
      "image/png": "[encoded data removed]",
      "text/plain": [
       "<Figure size 720x432 with 1 Axes>"
      ]
     },
     "metadata": {},
     "output_type": "display_data"
    }
   ],
   "source": [
    "#New instance of model\n",
    "ridge = Ridge(normalize=True, random_state=0)\n",
    "\n",
    "#Perform gridsearch\n",
    "# min_a = -3\n",
    "# max_a = 3\n",
    "# param_grid = {\"alpha\": np.logspace(min_a, max_a, 100)} #hyperparameter\n",
    "\n",
    "param_grid = {\"alpha\": np.linspace(-1, 1, 1000)} #hyperparameter\n",
    "grid = GridSearchCV(estimator=ridge, \n",
    "                    param_grid=param_grid, \n",
    "                    scoring=\"neg_root_mean_squared_error\", #eval metric\n",
    "                    verbose=True, #return status update\n",
    "                    cv=5, \n",
    "                    n_jobs=-1) #create grid search\n",
    "grid.fit(x_train, y_train) #fit training data to model\n",
    "ridge_allFeatures = grid.best_estimator_ #assign tuned parameter to model\n",
    "pickle.dump(ridge_allFeatures, open('saved_models/ridge_allFeatures', 'wb')) #save the model\n",
    "\n",
    "# Isolate results for plot\n",
    "rmse_train = -grid.best_score_  # best rmse of training dataset\n",
    "print(\"Ridge: All Features\")\n",
    "print(\"Best Lambda:{0}\".format(round(grid.best_params_[\"alpha\"], 8)))\n",
    "print(\"Train RMSE:{0}\".format(round(rmse_train, 5)))\n",
    "\n",
    "# Plot Lambda vs RMSE\n",
    "alpha = grid.cv_results_[\"param_alpha\"].tolist()  # for plot\n",
    "rmse = (grid.cv_results_[\"mean_test_score\"] * -1)  # for plot\n",
    "\n",
    "plt.figure(figsize=(10, 6))\n",
    "g = sns.lineplot(x=alpha, y=rmse, color=\"#3498db\")\n",
    "sns.set(style=\"whitegrid\", font_scale=1.5)\n",
    "g.set(xscale=\"log\")\n",
    "plt.xlim(10 ** min_a, 10 ** max_a)\n",
    "plt.ylim(0.10, 0.40)\n",
    "plt.title(\"Ridge without Feature Selection: RMSE vs Lambda Value\")\n",
    "plt.xlabel(\"Lambda\")\n",
    "plt.ylabel(\"RMSE\")\n",
    "\n",
    "if save_figures:\n",
    "    plt.savefig(\"saved_figures/ridge_allFeat_RMSEvLambda.tiff\", bbox_inches=\"tight\", dpi=300)\n",
    "\n",
    "    \n",
    "#Export Data for kaggle\n",
    "y_pred = ridge_allFeatures.predict(test_df).squeeze() #predict submission saleprices\n",
    "predict = pd.DataFrame({'Id':range(1461,2920),\n",
    "                        'SalePrice': np.exp(y_pred).tolist()})\n",
    "predict.to_csv('saved_predictions/ridge_allFeat_results.csv',index=False)\n"
   ]
  },
  {
   "cell_type": "markdown",
   "metadata": {},
   "source": [
    "### Ridge Regularized Regression with Feature Selection\n",
    "- Feature importance determined with Lasso model"
   ]
  },
  {
   "cell_type": "code",
   "execution_count": 93,
   "metadata": {},
   "outputs": [
    {
     "name": "stdout",
     "output_type": "stream",
     "text": [
      "Fitting 5 folds for each of 100 candidates, totalling 500 fits\n"
     ]
    },
    {
     "name": "stderr",
     "output_type": "stream",
     "text": [
      "[Parallel(n_jobs=-1)]: Using backend LokyBackend with 8 concurrent workers.\n",
      "[Parallel(n_jobs=-1)]: Done 500 out of 500 | elapsed:    0.9s finished\n"
     ]
    },
    {
     "name": "stdout",
     "output_type": "stream",
     "text": [
      "Ridge: Selected Features\n",
      "Best Lambda:0.03764936\n",
      "Train RMSE:0.10355\n"
     ]
    },
    {
     "data": {
      "image/png": "[encoded data removed]",
      "text/plain": [
       "<Figure size 720x432 with 1 Axes>"
      ]
     },
     "metadata": {},
     "output_type": "display_data"
    }
   ],
   "source": [
    "#New instance of model\n",
    "ridge = Ridge(normalize=True, random_state=0)\n",
    "\n",
    "#Perform gridsearch\n",
    "# min_a = -3\n",
    "# max_a = 3\n",
    "# param_grid = {\"alpha\": np.logspace(min_a, max_a, 100)} #hyperparameter\n",
    "\n",
    "\n",
    "param_grid = {\"alpha\": np.logspace(-1, 1, 1000)} #hyperparameter\n",
    "grid = GridSearchCV(estimator=ridge, \n",
    "                    param_grid=param_grid, \n",
    "                    scoring=\"neg_root_mean_squared_error\", #eval metric\n",
    "                    verbose=True, #return status update\n",
    "                    cv=5, \n",
    "                    n_jobs=-1) #create grid search\n",
    "grid.fit(x_train[imp_feat], y_train) #fit training data to model\n",
    "ridge_selectFeatures = grid.best_estimator_ #assign tuned parameter to model\n",
    "pickle.dump(ridge_selectFeatures, open('saved_models/ridge_selectFeatures', 'wb')) #save the model\n",
    "\n",
    "# Isolate results for plot\n",
    "rmse_train = -grid.best_score_  # best rmse of training dataset\n",
    "print(\"Ridge: Selected Features\")\n",
    "print(\"Best Lambda:{0}\".format(round(grid.best_params_[\"alpha\"], 8)))\n",
    "print(\"Train RMSE:{0}\".format(round(rmse_train, 5)))\n",
    "\n",
    "# Plot Lambda vs RMSE\n",
    "alpha = grid.cv_results_[\"param_alpha\"].tolist()  # for plot\n",
    "rmse = (grid.cv_results_[\"mean_test_score\"] * -1)  # for plot\n",
    "\n",
    "plt.figure(figsize=(10, 6))\n",
    "g = sns.lineplot(x=alpha, y=rmse, color=\"#3498db\")\n",
    "sns.set(style=\"whitegrid\", font_scale=1.5)\n",
    "g.set(xscale=\"log\")\n",
    "plt.xlim(10 ** min_a, 10 ** max_a)\n",
    "plt.ylim(0.10, 0.40)\n",
    "plt.title(\"Ridge with Feature Selection: RMSE vs Lambda Value\")\n",
    "plt.xlabel(\"Lambda\")\n",
    "plt.ylabel(\"RMSE\")\n",
    "\n",
    "if save_figures:\n",
    "    plt.savefig(\"saved_figures/ridge_selectFeat_RMSEvLambda.tiff\", bbox_inches=\"tight\", dpi=300)\n",
    "\n",
    "    \n",
    "#Export Data for kaggle\n",
    "y_pred = ridge_selectFeatures.predict(test_df[imp_feat]).squeeze() #predict submission saleprices\n",
    "predict = pd.DataFrame({'Id':range(1461,2920),\n",
    "                        'SalePrice': np.exp(y_pred).tolist()})\n",
    "predict.to_csv('saved_predictions/ridge_selectFeat_results.csv',index=False)\n"
   ]
  },
  {
   "cell_type": "markdown",
   "metadata": {},
   "source": [
    "### ElasticNet Regularized Regression "
   ]
  },
  {
   "cell_type": "code",
   "execution_count": 94,
   "metadata": {},
   "outputs": [
    {
     "name": "stdout",
     "output_type": "stream",
     "text": [
      "Fitting 5 folds for each of 100 candidates, totalling 500 fits\n"
     ]
    },
    {
     "name": "stderr",
     "output_type": "stream",
     "text": [
      "[Parallel(n_jobs=-1)]: Using backend LokyBackend with 8 concurrent workers.\n",
      "[Parallel(n_jobs=-1)]: Done  34 tasks      | elapsed:    1.3s\n",
      "[Parallel(n_jobs=-1)]: Done 184 tasks      | elapsed:    5.8s\n"
     ]
    },
    {
     "name": "stdout",
     "output_type": "stream",
     "text": [
      "ElasticNet: All Features\n",
      "Best Lambda:0.00019179\n",
      "Train RMSE:0.10914\n"
     ]
    },
    {
     "name": "stderr",
     "output_type": "stream",
     "text": [
      "[Parallel(n_jobs=-1)]: Done 500 out of 500 | elapsed:    7.8s finished\n"
     ]
    }
   ],
   "source": [
    "#New instance of model\n",
    "elastic = ElasticNet(normalize=True, random_state=0)\n",
    "\n",
    "# #Perform gridsearch\n",
    "# min_a = -7\n",
    "# max_a = -2\n",
    "# param_grid = {\"alpha\": np.logspace(min_a, max_a, 100)} #hyperparameter\n",
    "\n",
    "\n",
    "\n",
    "param_grid = {'alpha': np.linspace(10**-5, 10**-2, 600),\n",
    "              'l1_ratio': [x / 100 for x in range(55, 75, 1)]}\n",
    "grid = GridSearchCV(estimator=elastic, \n",
    "                    param_grid=param_grid, \n",
    "                    scoring=\"neg_root_mean_squared_error\", #eval metric\n",
    "                    verbose=True, #return status update\n",
    "                    cv=5, \n",
    "                    n_jobs=-1) #create grid search\n",
    "grid.fit(x_train, y_train) #fit training data to model\n",
    "elastic_allFeatures = grid.best_estimator_ #assign tuned parameter to model\n",
    "pickle.dump(elastic_allFeatures, open('saved_models/elastic_allFeatures', 'wb')) #save the model\n",
    "\n",
    "# Isolate results for plot\n",
    "rmse_train = -grid.best_score_  # best rmse of training dataset\n",
    "print(\"ElasticNet: All Features\")\n",
    "print(\"Best Lambda:{0}\".format(round(grid.best_params_[\"alpha\"], 8)))\n",
    "print(\"Train RMSE:{0}\".format(round(rmse_train, 5)))\n",
    "\n",
    "#Export Data for kaggle\n",
    "y_pred = elastic_allFeatures.predict(test_df) #predict submission saleprices\n",
    "predict = pd.DataFrame({'Id':range(1461,2920),\n",
    "                        'SalePrice': np.exp(y_pred).tolist()})\n",
    "predict.to_csv('saved_predictions/elastic_allFeat_results.csv',index=False)\n"
   ]
  },
  {
   "cell_type": "markdown",
   "metadata": {},
   "source": [
    "### Gradient Boosting Regression"
   ]
  },
  {
   "cell_type": "code",
   "execution_count": 96,
   "metadata": {},
   "outputs": [
    {
     "name": "stdout",
     "output_type": "stream",
     "text": [
      "Fitting 5 folds for each of 10 candidates, totalling 50 fits\n"
     ]
    },
    {
     "name": "stderr",
     "output_type": "stream",
     "text": [
      "[Parallel(n_jobs=-1)]: Using backend LokyBackend with 8 concurrent workers.\n",
      "[Parallel(n_jobs=-1)]: Done  34 tasks      | elapsed:    9.0s\n",
      "[Parallel(n_jobs=-1)]: Done  50 out of  50 | elapsed:   13.8s finished\n"
     ]
    },
    {
     "name": "stdout",
     "output_type": "stream",
     "text": [
      "XGB: All Features\n",
      "Best learning_rate:0.01\n",
      "Best loss:ls\n",
      "Best max_depth:4\n",
      "Best max_features:log2\n",
      "Best min_samples_leaf:9\n",
      "Best min_samples_split:6\n",
      "Best n_estimators:2700\n",
      "Train RMSE:0.10998\n"
     ]
    }
   ],
   "source": [
    "# New instance of model\n",
    "gb_model = GradientBoostingRegressor(random_state=0)\n",
    "\n",
    "#Perform randomized search due to numbe of hyperparameters\n",
    "param_grid = {'learning_rate': np.linspace(0.01, 1, 20),\n",
    "              'loss': ['ls','huber'],\n",
    "              'max_depth': range(2,11,2), #max depth of tree\n",
    "              'max_features': ['sqrt','log2'], #n for considering a best split\n",
    "              'min_samples_leaf': range(1,10,2),\n",
    "              'min_samples_split': range(1,31, 5),\n",
    "              'n_estimators': range(100,3500, 100)\n",
    "             }\n",
    "\n",
    "grid = RandomizedSearchCV(estimator=gb_model,\n",
    "                          param_distributions=param_grid, \n",
    "                          n_iter=2000, #n parameter settings sampled\n",
    "                          scoring=\"neg_root_mean_squared_error\", #eval metric\n",
    "                          verbose=True, #return status update\n",
    "                          cv=5,\n",
    "                          n_jobs=-1)\n",
    "grid.fit(x_train, y_train) #fit training data to model\n",
    "gb_allFeatures = grid.best_estimator_ #assign tuned parameter to model\n",
    "pickle.dump(gb_allFeatures, open('saved_models/gb_allFeatures', 'wb')) #save the model\n",
    "\n",
    "\n",
    "# Print results\n",
    "rmse_train = -grid.best_score_  # best rmse of training dataset\n",
    "\n",
    "print(\"XGB: All Features\")\n",
    "print(\"Best learning_rate:{0}\".format(round(grid.best_params_[\"learning_rate\"], 8)))\n",
    "print(\"Best loss:{0}\".format(grid.best_params_[\"loss\"]))\n",
    "print(\"Best max_depth:{0}\".format(round(grid.best_params_[\"max_depth\"], 8)))\n",
    "print(\"Best max_features:{0}\".format(grid.best_params_[\"max_features\"]))\n",
    "print(\"Best min_samples_leaf:{0}\".format(round(grid.best_params_[\"min_samples_leaf\"], 8)))\n",
    "print(\"Best min_samples_split:{0}\".format(round(grid.best_params_[\"min_samples_split\"], 8)))\n",
    "print(\"Best n_estimators:{0}\".format(round(grid.best_params_[\"n_estimators\"], 8)))\n",
    "print(\"Train RMSE:{0}\".format(round(rmse_train, 5)))\n",
    "\n",
    "# Export Data for kaggle\n",
    "y_pred = gb_allFeatures.predict(test_df)\n",
    "predict = pd.DataFrame({\"Id\": range(1461, 2920),\n",
    "                        \"SalePrice\": np.exp(y_pred).tolist()})\n",
    "predict.to_csv(\"saved_predictions/gb_allFeatures_results.csv\", index=False)\n"
   ]
  },
  {
   "cell_type": "markdown",
   "metadata": {},
   "source": [
    "### XGBoost Regression"
   ]
  },
  {
   "cell_type": "code",
   "execution_count": 98,
   "metadata": {},
   "outputs": [
    {
     "name": "stdout",
     "output_type": "stream",
     "text": [
      "Fitting 5 folds for each of 10 candidates, totalling 50 fits\n"
     ]
    },
    {
     "name": "stderr",
     "output_type": "stream",
     "text": [
      "[Parallel(n_jobs=-1)]: Using backend LokyBackend with 8 concurrent workers.\n",
      "[Parallel(n_jobs=-1)]: Done  34 tasks      | elapsed:   29.4s\n",
      "[Parallel(n_jobs=-1)]: Done  50 out of  50 | elapsed:   46.2s finished\n"
     ]
    },
    {
     "name": "stdout",
     "output_type": "stream",
     "text": [
      "XGB: All Features\n",
      "Best alpha:0.42684211\n",
      "Best colsample_bytree:0.11421053\n",
      "Best eta:0.89578947\n",
      "Best gamma:0.06210526\n",
      "Best max_depth:4\n",
      "Best min_child_weight:1.5\n",
      "Best n_estimators:1250\n",
      "Best subsample:0.58315789\n",
      "\n",
      "Train RMSE:0.11553\n"
     ]
    }
   ],
   "source": [
    "# New instance of model\n",
    "xgb_model = xgb.XGBRegressor(normalize=True, \n",
    "                             random_state=0, \n",
    "                             objective ='reg:squarederror')\n",
    "\n",
    "#Perform randomized search due to numbe of hyperparameters\n",
    "param_grid = {'alpha': np.linspace(0.01, 1, 20), #L1 Lasso regularization\n",
    "              'colsample_bytree': np.linspace(0.01, 1, 20), #frac of col. used per tree\n",
    "              'eta': np.linspace(0.01, 1, 20), # learning rate\n",
    "              'gamma': np.linspace(0.01, 1, 20), #specifies min loss reduction for split\n",
    "              'lambda': np.linspace(0.01, 1, 20), #L2 Ridge regularization\n",
    "              'max_depth': range(2,11,2), #max depth of tree\n",
    "              'min_child_weight': [1, 1.5, 1.75, 2, 3], #min sum weights required in child\n",
    "              'subsample': np.linspace(0.01, 1, 20), #frac of obvs. randomly sampled per tree\n",
    "              'n_estimators': range(50,1500, 50), #number of trees\n",
    "             }\n",
    "grid = RandomizedSearchCV(estimator=xgb_model,\n",
    "                          param_distributions=param_grid, \n",
    "                          n_iter=2000, #n parameter settings sampled\n",
    "                          scoring=\"neg_root_mean_squared_error\", #eval metric\n",
    "                          verbose=True, #return status update\n",
    "                          cv=5,\n",
    "                          n_jobs=-1)\n",
    "grid.fit(x_train, y_train) #fit training data to model\n",
    "xgb_allFeatures = grid.best_estimator_ #assign tuned parameter to model\n",
    "pickle.dump(xgb_allFeatures, open('saved_models/xgb_allFeatures', 'wb')) #save the model\n",
    "\n",
    "\n",
    "# Print results\n",
    "rmse_train = -grid.best_score_  # best rmse of training dataset\n",
    "\n",
    "print(\"XGB: All Features\")\n",
    "print(\"Best alpha:{0}\".format(round(grid.best_params_[\"alpha\"], 8)))\n",
    "print(\"Best colsample_bytree:{0}\".format(round(grid.best_params_[\"colsample_bytree\"], 8)))\n",
    "print(\"Best eta:{0}\".format(round(grid.best_params_[\"eta\"], 8)))\n",
    "print(\"Best gamma:{0}\".format(round(grid.best_params_[\"gamma\"], 8)))\n",
    "print(\"Best max_depth:{0}\".format(round(grid.best_params_[\"max_depth\"], 8)))\n",
    "print(\"Best min_child_weight:{0}\".format(round(grid.best_params_[\"min_child_weight\"], 8)))\n",
    "print(\"Best n_estimators:{0}\".format(round(grid.best_params_[\"n_estimators\"], 8)))\n",
    "print(\"Best subsample:{0}\\n\".format(round(grid.best_params_[\"subsample\"], 8)))\n",
    "print(\"Train RMSE:{0}\".format(round(rmse_train, 5)))\n",
    "\n",
    "# Export Data for kaggle\n",
    "y_pred = xgb_allFeatures.predict(test_df)\n",
    "predict = pd.DataFrame({\"Id\": range(1461, 2920),\n",
    "                        \"SalePrice\": np.exp(y_pred).tolist()})\n",
    "predict.to_csv(\"saved_predictions/xgb_allFeatures_results.csv\", index=False)\n"
   ]
  },
  {
   "cell_type": "markdown",
   "metadata": {},
   "source": [
    "## Higher Level Models"
   ]
  },
  {
   "cell_type": "markdown",
   "metadata": {},
   "source": [
    "### Average Model"
   ]
  },
  {
   "cell_type": "code",
   "execution_count": 99,
   "metadata": {},
   "outputs": [],
   "source": [
    "class AveragingModels(BaseEstimator, RegressorMixin, TransformerMixin):\n",
    "    def __init__(self, models):\n",
    "        self.models = models\n",
    "        \n",
    "    # we define clones of the original models to fit the data in\n",
    "    def fit(self, X, y):\n",
    "        self.models_ = [clone(x) for x in self.models]\n",
    "        \n",
    "        # Train cloned base models\n",
    "        for model in self.models_:\n",
    "            model.fit(X, y)\n",
    "\n",
    "        return self\n",
    "    \n",
    "    #Now we do the predictions for cloned models and average them\n",
    "    def predict(self, X):\n",
    "        predictions = np.column_stack([\n",
    "            model.predict(X) for model in self.models_\n",
    "        ])\n",
    "        return np.mean(predictions, axis=1) "
   ]
  },
  {
   "cell_type": "code",
   "execution_count": 160,
   "metadata": {},
   "outputs": [
    {
     "name": "stdout",
     "output_type": "stream",
     "text": [
      "Train RMSE:0.10538\n",
      "Mean Error: $69558.06\n"
     ]
    }
   ],
   "source": [
    "avg_stack_model = AveragingModels(models = (lasso_allFeatures, \n",
    "                                            ridge_allFeatures, \n",
    "                                            elastic_allFeatures, \n",
    "                                            gb_allFeatures, \n",
    "                                            xgb_allFeatures))\n",
    "\n",
    "# Train model\n",
    "avg_stack_model.fit(train_df, response)\n",
    "\n",
    "# Assess performance\n",
    "from preprocess_module import calc_rmse\n",
    "rmse_train, error_train = calc_rmse(avg_stack_model, train_df, response)\n",
    "print(\"Train RMSE:{0}\".format(round(rmse_train, 5)))\n",
    "print(\"Mean Error: ${0}\".format(round(error_train, 2)))\n",
    "y_pred = avg_stack_model.predict(test_df)\n",
    "\n",
    "# Export Data for kaggle\n",
    "y_pred = avg_stack_model.predict(test_df)\n",
    "predict = pd.DataFrame({\"Id\": range(1461, 2920),\n",
    "                        \"SalePrice\": np.exp(y_pred).tolist()})\n",
    "predict.to_csv(\"saved_predictions/avg_stack_results.csv\", index=False)\n"
   ]
  },
  {
   "cell_type": "markdown",
   "metadata": {},
   "source": [
    "### StackedRegressor: Lasso Meta-Regressor"
   ]
  },
  {
   "cell_type": "code",
   "execution_count": 177,
   "metadata": {
    "scrolled": false
   },
   "outputs": [
    {
     "name": "stdout",
     "output_type": "stream",
     "text": [
      "5-fold cross validation scores:\n",
      "\n",
      "RMSE Score:0.1076 [Lasso]\n",
      "RMSE Score:0.1122 [Ridge]\n",
      "RMSE Score:0.1082 [ElasticNet]\n",
      "RMSE Score:0.10741 [GradientBoost]\n",
      "RMSE Score:0.11054 [XGBoost]\n",
      "RMSE Score:0.1053 [StackingCVRegressor]\n"
     ]
    }
   ],
   "source": [
    "stack_reg_lasso_model = StackingCVRegressor(regressors=(lasso_allFeatures,\n",
    "                                                        ridge_allFeatures,\n",
    "                                                        elastic_allFeatures,\n",
    "                                                        gb_allFeatures,\n",
    "                                                        xgb_allFeatures),\n",
    "                                      meta_regressor=lasso_allFeatures,\n",
    "                                      random_state=0, \n",
    "                                      use_features_in_secondary=True)\n",
    "\n",
    "\n",
    "print('5-fold cross validation scores:\\n')\n",
    "for clf, label in zip([lasso_allFeatures, \n",
    "                       ridge_allFeatures, \n",
    "                       elastic_allFeatures, \n",
    "                       gb_allFeatures,\n",
    "                       xgb_allFeatures, \n",
    "                       stack_reg_lasso_model], ['Lasso',\n",
    "                                                'Ridge',\n",
    "                                                'ElasticNet',\n",
    "                                                'GradientBoost',\n",
    "                                                'XGBoost',\n",
    "                                                'StackingCVRegressor']):\n",
    "    scores = cross_val_score(clf, np.array(train_df), np.array(response), cv=5, scoring='neg_root_mean_squared_error')\n",
    "    print(\"RMSE Score:{0} [{1}]\".format(round(-scores.mean(),5), label))\n",
    "\n",
    "# Train model\n",
    "stack_reg_lasso_model.fit(np.array(train_df), np.array(response))\n",
    "y_pred = stack_reg_lasso_model.predict(np.array(train_df))\n",
    "\n",
    "# Export Data for kaggle\n",
    "y_pred = stack_reg_lasso_model.predict(np.array(test_df))\n",
    "predict = pd.DataFrame({\"Id\": range(1461, 2920),\n",
    "                        \"SalePrice\": np.exp(y_pred).tolist()})\n",
    "predict.to_csv(\"saved_predictions/stack_reg_lasso_results.csv\", index=False)\n"
   ]
  },
  {
   "cell_type": "markdown",
   "metadata": {},
   "source": [
    "### StackedRegressor: XGBoost Meta-Regressor"
   ]
  },
  {
   "cell_type": "code",
   "execution_count": null,
   "metadata": {},
   "outputs": [],
   "source": [
    "stack_reg_xgb_model = StackingCVRegressor(regressors=(lasso_allFeatures,\n",
    "                                                        ridge_allFeatures,\n",
    "                                                        elastic_allFeatures,\n",
    "                                                        gb_allFeatures,\n",
    "                                                        xgb_allFeatures),\n",
    "                                      meta_regressor=xgb_allFeatures,\n",
    "                                      random_state=0, \n",
    "                                      use_features_in_secondary=True)\n",
    "\n",
    "\n",
    "print('5-fold cross validation scores:\\n')\n",
    "for clf, label in zip([lasso_allFeatures, \n",
    "                       ridge_allFeatures, \n",
    "                       elastic_allFeatures, \n",
    "                       gb_allFeatures,\n",
    "                       xgb_allFeatures, \n",
    "                       stack_reg_xgb_model], ['Lasso',\n",
    "                                              'Ridge',\n",
    "                                              'ElasticNet',\n",
    "                                              'GradientBoost',\n",
    "                                              'XGBoost',\n",
    "                                              'StackingCVRegressor']):\n",
    "    scores = cross_val_score(clf, np.array(train_df), np.array(response), cv=5, scoring='neg_root_mean_squared_error')\n",
    "    print(\"RMSE Score:{0} [{1}]\".format(round(-scores.mean(),5), label))\n",
    "\n",
    "# Train model\n",
    "stack_reg_xgb_model.fit(np.array(train_df), np.array(response))\n",
    "y_pred = stack_reg_xgb_model.predict(np.array(train_df))\n",
    "\n",
    "# Export Data for kaggle\n",
    "y_pred = stack_reg_xgb_model.predict(np.array(test_df))\n",
    "predict = pd.DataFrame({\"Id\": range(1461, 2920),\n",
    "                        \"SalePrice\": np.exp(y_pred).tolist()})\n",
    "predict.to_csv(\"saved_predictions/stack_reg_xgb_model.csv\", index=False)\n",
    "\n"
   ]
  },
  {
   "cell_type": "code",
   "execution_count": null,
   "metadata": {},
   "outputs": [],
   "source": []
  },
  {
   "cell_type": "code",
   "execution_count": null,
   "metadata": {},
   "outputs": [],
   "source": []
  },
  {
   "cell_type": "code",
   "execution_count": null,
   "metadata": {},
   "outputs": [],
   "source": []
  },
  {
   "cell_type": "code",
   "execution_count": null,
   "metadata": {},
   "outputs": [],
   "source": []
  },
  {
   "cell_type": "code",
   "execution_count": null,
   "metadata": {},
   "outputs": [],
   "source": []
  },
  {
   "cell_type": "code",
   "execution_count": null,
   "metadata": {},
   "outputs": [],
   "source": []
  },
  {
   "cell_type": "code",
   "execution_count": null,
   "metadata": {},
   "outputs": [],
   "source": []
  },
  {
   "cell_type": "code",
   "execution_count": null,
   "metadata": {},
   "outputs": [],
   "source": []
  },
  {
   "cell_type": "code",
   "execution_count": null,
   "metadata": {},
   "outputs": [],
   "source": []
  },
  {
   "cell_type": "code",
   "execution_count": null,
   "metadata": {},
   "outputs": [],
   "source": []
  },
  {
   "cell_type": "code",
   "execution_count": null,
   "metadata": {},
   "outputs": [],
   "source": []
  },
  {
   "cell_type": "code",
   "execution_count": null,
   "metadata": {},
   "outputs": [],
   "source": []
  },
  {
   "cell_type": "code",
   "execution_count": null,
   "metadata": {},
   "outputs": [],
   "source": []
  },
  {
   "cell_type": "code",
   "execution_count": null,
   "metadata": {},
   "outputs": [],
   "source": []
  },
  {
   "cell_type": "code",
   "execution_count": null,
   "metadata": {},
   "outputs": [],
   "source": []
  },
  {
   "cell_type": "code",
   "execution_count": null,
   "metadata": {},
   "outputs": [],
   "source": []
  },
  {
   "cell_type": "code",
   "execution_count": null,
   "metadata": {},
   "outputs": [],
   "source": []
  },
  {
   "cell_type": "code",
   "execution_count": null,
   "metadata": {},
   "outputs": [],
   "source": []
  },
  {
   "cell_type": "code",
   "execution_count": null,
   "metadata": {},
   "outputs": [],
   "source": []
  },
  {
   "cell_type": "code",
   "execution_count": null,
   "metadata": {},
   "outputs": [],
   "source": []
  },
  {
   "cell_type": "code",
   "execution_count": null,
   "metadata": {},
   "outputs": [],
   "source": []
  },
  {
   "cell_type": "code",
   "execution_count": null,
   "metadata": {},
   "outputs": [],
   "source": []
  },
  {
   "cell_type": "code",
   "execution_count": null,
   "metadata": {},
   "outputs": [],
   "source": []
  },
  {
   "cell_type": "code",
   "execution_count": null,
   "metadata": {},
   "outputs": [],
   "source": []
  },
  {
   "cell_type": "code",
   "execution_count": null,
   "metadata": {},
   "outputs": [],
   "source": []
  },
  {
   "cell_type": "code",
   "execution_count": null,
   "metadata": {},
   "outputs": [],
   "source": []
  },
  {
   "cell_type": "code",
   "execution_count": null,
   "metadata": {},
   "outputs": [],
   "source": []
  },
  {
   "cell_type": "code",
   "execution_count": null,
   "metadata": {},
   "outputs": [],
   "source": []
  },
  {
   "cell_type": "code",
   "execution_count": null,
   "metadata": {},
   "outputs": [],
   "source": []
  },
  {
   "cell_type": "code",
   "execution_count": null,
   "metadata": {},
   "outputs": [],
   "source": []
  },
  {
   "cell_type": "code",
   "execution_count": null,
   "metadata": {},
   "outputs": [],
   "source": []
  },
  {
   "cell_type": "code",
   "execution_count": null,
   "metadata": {},
   "outputs": [],
   "source": []
  },
  {
   "cell_type": "code",
   "execution_count": null,
   "metadata": {},
   "outputs": [],
   "source": []
  },
  {
   "cell_type": "code",
   "execution_count": null,
   "metadata": {},
   "outputs": [],
   "source": []
  },
  {
   "cell_type": "code",
   "execution_count": null,
   "metadata": {},
   "outputs": [],
   "source": []
  },
  {
   "cell_type": "code",
   "execution_count": null,
   "metadata": {},
   "outputs": [],
   "source": []
  },
  {
   "cell_type": "code",
   "execution_count": null,
   "metadata": {},
   "outputs": [],
   "source": []
  },
  {
   "cell_type": "code",
   "execution_count": null,
   "metadata": {},
   "outputs": [],
   "source": []
  },
  {
   "cell_type": "code",
   "execution_count": null,
   "metadata": {},
   "outputs": [],
   "source": []
  },
  {
   "cell_type": "code",
   "execution_count": null,
   "metadata": {},
   "outputs": [],
   "source": []
  },
  {
   "cell_type": "code",
   "execution_count": null,
   "metadata": {},
   "outputs": [],
   "source": []
  },
  {
   "cell_type": "code",
   "execution_count": null,
   "metadata": {},
   "outputs": [],
   "source": []
  },
  {
   "cell_type": "code",
   "execution_count": null,
   "metadata": {},
   "outputs": [],
   "source": []
  },
  {
   "cell_type": "code",
   "execution_count": null,
   "metadata": {},
   "outputs": [],
   "source": []
  },
  {
   "cell_type": "code",
   "execution_count": null,
   "metadata": {},
   "outputs": [],
   "source": []
  },
  {
   "cell_type": "code",
   "execution_count": null,
   "metadata": {},
   "outputs": [],
   "source": []
  },
  {
   "cell_type": "code",
   "execution_count": null,
   "metadata": {},
   "outputs": [],
   "source": []
  },
  {
   "cell_type": "code",
   "execution_count": null,
   "metadata": {},
   "outputs": [],
   "source": []
  },
  {
   "cell_type": "code",
   "execution_count": null,
   "metadata": {},
   "outputs": [],
   "source": []
  },
  {
   "cell_type": "code",
   "execution_count": null,
   "metadata": {},
   "outputs": [],
   "source": []
  },
  {
   "cell_type": "code",
   "execution_count": null,
   "metadata": {},
   "outputs": [],
   "source": []
  },
  {
   "cell_type": "code",
   "execution_count": null,
   "metadata": {},
   "outputs": [],
   "source": []
  },
  {
   "cell_type": "code",
   "execution_count": null,
   "metadata": {},
   "outputs": [],
   "source": []
  },
  {
   "cell_type": "code",
   "execution_count": null,
   "metadata": {},
   "outputs": [],
   "source": []
  },
  {
   "cell_type": "code",
   "execution_count": null,
   "metadata": {},
   "outputs": [],
   "source": []
  },
  {
   "cell_type": "code",
   "execution_count": null,
   "metadata": {},
   "outputs": [],
   "source": []
  },
  {
   "cell_type": "code",
   "execution_count": null,
   "metadata": {},
   "outputs": [],
   "source": []
  },
  {
   "cell_type": "code",
   "execution_count": null,
   "metadata": {},
   "outputs": [],
   "source": []
  },
  {
   "cell_type": "code",
   "execution_count": null,
   "metadata": {},
   "outputs": [],
   "source": []
  },
  {
   "cell_type": "code",
   "execution_count": null,
   "metadata": {},
   "outputs": [],
   "source": []
  },
  {
   "cell_type": "code",
   "execution_count": null,
   "metadata": {},
   "outputs": [],
   "source": []
  },
  {
   "cell_type": "code",
   "execution_count": null,
   "metadata": {},
   "outputs": [],
   "source": []
  },
  {
   "cell_type": "code",
   "execution_count": null,
   "metadata": {},
   "outputs": [],
   "source": []
  },
  {
   "cell_type": "code",
   "execution_count": null,
   "metadata": {},
   "outputs": [],
   "source": []
  },
  {
   "cell_type": "code",
   "execution_count": null,
   "metadata": {},
   "outputs": [],
   "source": []
  },
  {
   "cell_type": "code",
   "execution_count": null,
   "metadata": {},
   "outputs": [],
   "source": []
  },
  {
   "cell_type": "code",
   "execution_count": null,
   "metadata": {},
   "outputs": [],
   "source": []
  },
  {
   "cell_type": "markdown",
   "metadata": {},
   "source": [
    "### Model Tuning of Only Selected Features"
   ]
  },
  {
   "cell_type": "code",
   "execution_count": null,
   "metadata": {},
   "outputs": [],
   "source": [
    "# Isolate all important features\n",
    "imp_feat = coefs_df.loc[coefs_df.coef != 0].index.tolist()\n",
    "\n",
    "# Input for CV\n",
    "min_a = -7  # used for plot\n",
    "max_a = -2  # used for plot\n",
    "param_grid = {\"alpha\": np.logspace(min_a, max_a, 1000)}\n",
    "\n",
    "# Instantiate model, cross validation, and grid search\n",
    "grid = GridSearchCV(estimator=lasso, \n",
    "                    param_grid=param_grid, \n",
    "                    scoring=\"neg_root_mean_squared_error\", #eval metric\n",
    "                    verbose=True, #return status update\n",
    "                    cv=cv, \n",
    "                    n_jobs=-1)\n",
    "\n",
    "lasso_selectFeat = grid.fit(x_train[imp_feat], y_train) #fit training data to model\n",
    "\n",
    "# Isolate results\n",
    "lasso_selectFeat_alpha = lasso_selectFeat.cv_results_[\"param_alpha\"].tolist()  # list of all alphas\n",
    "rmse = (lasso_selectFeat.cv_results_[\"mean_test_score\"] * -1)  # list of mean rmse of training data\n",
    "rmse_train = -lasso_selectFeat.best_score_  # best rmse of training dataset\n",
    "\n",
    "# Fit test data to model\n",
    "lasso_selectFeat_model = lasso_selectFeat.best_estimator_\n",
    "pickle.dump(lasso_selectFeat_model, open('saved_models/lasso_Feat_model', 'wb')) #save the model\n",
    "y_pred = lasso_selectFeat_model.predict(x_test[imp_feat])  # GridSearchCV uses best parameters\n",
    "rmse_test = np.sqrt(mean_squared_error(y_test, y_pred))\n",
    "\n",
    "# Print results\n",
    "print(\"Lasso: All Features\")\n",
    "print(\"Best Lambda:{0}\".format(round(lasso_selectFeat.best_params_[\"alpha\"], 8)))\n",
    "print(\"Train RMSE:{0}\".format(round(rmse_train, 5)))\n",
    "print(\"Test RMSE:{0}\\n\".format(round(rmse_test, 5)))\n",
    "\n",
    "# Plot Lambda vs RMSE\n",
    "plt.figure(figsize=(10, 6))\n",
    "g = sns.lineplot(x=lasso_selectFeat_alpha, y=rmse, color=\"#3498db\")\n",
    "sns.set(style=\"whitegrid\", font_scale=1.5)\n",
    "g.set(xscale=\"log\")\n",
    "plt.xlim(10 ** min_a, 10 ** max_a)\n",
    "plt.ylim(0.10, 0.350)\n",
    "plt.title(\"Lasso (Selected Features): RMSE vs Lambda Value\")\n",
    "plt.xlabel(\"Lambda\")\n",
    "plt.ylabel(\"RMSE\")\n",
    "\n",
    "if save_figures:\n",
    "    plt.savefig(\"saved_figures/lasso_selectFeat_RMSEvLambda.tiff\", bbox_inches=\"tight\", dpi=300)\n",
    "\n",
    "#Export Data for kaggle\n",
    "y_pred = lasso_selectFeat_model.predict(test_df[imp_feat])\n",
    "predict = pd.DataFrame({'Id':range(1461,2920),\n",
    "                        'SalePrice': np.exp(y_pred).tolist()})\n",
    "predict.to_csv('lasso_selectFeat.csv',index=False)\n"
   ]
  },
  {
   "cell_type": "markdown",
   "metadata": {},
   "source": [
    "## RIDGE REGRESSION"
   ]
  },
  {
   "cell_type": "markdown",
   "metadata": {},
   "source": [
    "### Ridge Before Feature Selection"
   ]
  },
  {
   "cell_type": "code",
   "execution_count": null,
   "metadata": {},
   "outputs": [],
   "source": [
    "# Input for CV\n",
    "min_a = -3  # used for plot\n",
    "max_a = 3  # used for plot\n",
    "param_grid = {\"alpha\": np.logspace(min_a, max_a,100)}\n",
    "\n",
    "# Instantiate model, cross validation, and grid search\n",
    "ridge = Ridge(normalize=True, random_state=0)\n",
    "cv = KFold(5, shuffle=True, random_state=0)\n",
    "grid = GridSearchCV(estimator=ridge,\n",
    "                    param_grid=param_grid, \n",
    "                    scoring=\"neg_root_mean_squared_error\", #eval metric\n",
    "                    verbose=True, #return status update\n",
    "                    cv=cv,\n",
    "                    n_jobs=-1)\n",
    "\n",
    "ridge_allFeat = grid.fit(x_train, y_train) #fit training data to model\n",
    "\n",
    "# Isolate results\n",
    "ridge_allFeat_alpha = ridge_allFeat.cv_results_[\"param_alpha\"].tolist()  # list of all alphas\n",
    "rmse = (ridge_allFeat.cv_results_[\"mean_test_score\"] * -1)  # list of mean rmse of training data\n",
    "rmse_train = -ridge_allFeat.best_score_  # best rmse of training dataset\n",
    "\n",
    "# Fit test data to model\n",
    "ridge_allFeat_model = ridge_allFeat.best_estimator_\n",
    "pickle.dump(ridge_allFeat_model, open('saved_models/ridge_allFeat_model', 'wb')) #save the model\n",
    "y_pred = ridge_allFeat_model.predict(x_test)  # GridSearchCV uses best parameters\n",
    "rmse_test = np.sqrt(mean_squared_error(y_test, y_pred))\n",
    "\n",
    "# Print results\n",
    "print(\"Ridge: All Features\")\n",
    "print(\"Best Lambda:{0}\".format(round(ridge_allFeat.best_params_[\"alpha\"], 8)))\n",
    "print(\"Train RMSE:{0}\".format(round(rmse_train, 5)))\n",
    "print(\"Test RMSE:{0}\\n\".format(round(rmse_test, 5)))\n",
    "\n",
    "\n",
    "# Plot Lambda vs RMSE\n",
    "plt.figure(figsize=(10, 6))\n",
    "g = sns.lineplot(x=ridge_allFeat_alpha, y=rmse, color=\"#3498db\")\n",
    "sns.set(style=\"whitegrid\", font_scale=1.5)\n",
    "g.set(xscale=\"log\")\n",
    "plt.xlim(10 ** min_a, 10 ** max_a)\n",
    "plt.ylim(0.10, 0.4)\n",
    "plt.title(\"Ridge (All Features): RMSE vs Lambda Value\")\n",
    "plt.xlabel(\"Lambda\")\n",
    "plt.ylabel(\"RMSE\")\n",
    "\n",
    "if save_figures:\n",
    "    plt.savefig(\"saved_figures/ridge_allFeat_RMSEvLambda.tiff\", bbox_inches=\"tight\", dpi=300)\n",
    "\n",
    "    \n",
    "#Export Data for kaggle\n",
    "y_pred = ridge_allFeat_model.predict(test_df)\n",
    "predict = pd.DataFrame({'Id':range(1461,2920),\n",
    "                        'SalePrice': np.exp(y_pred).tolist()})\n",
    "predict.to_csv('ridge_allFeat.csv',index=False)\n"
   ]
  },
  {
   "cell_type": "markdown",
   "metadata": {},
   "source": [
    "### Ridge After Feature Selection"
   ]
  },
  {
   "cell_type": "code",
   "execution_count": null,
   "metadata": {},
   "outputs": [],
   "source": [
    "# Input for CV\n",
    "min_a = -3  # used for plot\n",
    "max_a = 3  # used for plot\n",
    "param_grid = {\"alpha\": np.logspace(min_a, max_a, 1000)}\n",
    "\n",
    "# Instantiate model, cross validation, and grid search\n",
    "ridge = Ridge(normalize=True, random_state=0)\n",
    "cv = KFold(5, shuffle=True, random_state=0)\n",
    "grid = GridSearchCV(\n",
    "    estimator=ridge,\n",
    "    param_grid=param_grid,\n",
    "    scoring=\"neg_root_mean_squared_error\",  # eval metric\n",
    "    verbose=True,  # return status update\n",
    "    cv=cv,\n",
    "    n_jobs=-1,\n",
    ")\n",
    "\n",
    "ridge_selectFeat = grid.fit(x_train[imp_feat], y_train)  # fit training data to model\n",
    "\n",
    "# Isolate results\n",
    "ridge_selectFeat_alpha = ridge_selectFeat.cv_results_[\"param_alpha\"].tolist()  # list of all alphas\n",
    "rmse = (ridge_selectFeat.cv_results_[\"mean_test_score\"] * -1)  # list of mean rmse of training data\n",
    "rmse_train = -ridge_selectFeat.best_score_  # best rmse of training dataset\n",
    "\n",
    "# Fit test data to model\n",
    "ridge_selectFeat_model = ridge_selectFeat.best_estimator_\n",
    "pickle.dump(ridge_selectFeat_model, open('saved_models/ridge_selectFeat_model', 'wb')) #save the model\n",
    "y_pred = ridge_selectFeat_model.predict(x_test[imp_feat])  # GridSearchCV uses best parameters\n",
    "rmse_test = np.sqrt(mean_squared_error(y_test, y_pred))\n",
    "\n",
    "# Print results\n",
    "print(\"Ridge: Select Features\")\n",
    "print(\"Best Lambda:{0}\".format(round(ridge_selectFeat.best_params_[\"alpha\"], 8)))\n",
    "print(\"Train RMSE:{0}\".format(round(rmse_train, 5)))\n",
    "print(\"Test RMSE:{0}\\n\".format(round(rmse_test, 5)))\n",
    "\n",
    "# Plot Lambda vs RMSE\n",
    "plt.figure(figsize=(10, 6))\n",
    "g = sns.lineplot(x=ridge_selectFeat_alpha, y=rmse, color=\"#3498db\")\n",
    "sns.set(style=\"whitegrid\", font_scale=1.5)\n",
    "g.set(xscale=\"log\")\n",
    "plt.xlim(10 ** min_a, 10 ** max_a)\n",
    "plt.ylim(0.10, 0.4)\n",
    "plt.title(\"Ridge (Select Features): RMSE vs Lambda Value\")\n",
    "plt.xlabel(\"Lambda\")\n",
    "plt.ylabel(\"RMSE\")\n",
    "\n",
    "if save_figures:\n",
    "    plt.savefig(\"saved_figures/ridge_selectFeat_RMSEvLambda.tiff\", bbox_inches=\"tight\", dpi=300)\n",
    "\n",
    "# Export Data for kaggle\n",
    "y_pred = ridge_selectFeat_model.predict(test_df[imp_feat])\n",
    "predict = pd.DataFrame({\"Id\": range(1461, 2920), \"SalePrice\": np.exp(y_pred).tolist()})\n",
    "predict.to_csv(\"ridge_selectFeat.csv\", index=False)\n"
   ]
  },
  {
   "cell_type": "markdown",
   "metadata": {},
   "source": [
    "## ELASTIC-NET REGRESSION"
   ]
  },
  {
   "cell_type": "markdown",
   "metadata": {},
   "source": [
    "### Elastic-Net Before Feature Selection"
   ]
  },
  {
   "cell_type": "code",
   "execution_count": 8,
   "metadata": {
    "scrolled": false
   },
   "outputs": [
    {
     "name": "stdout",
     "output_type": "stream",
     "text": [
      "Fitting 5 folds for each of 500 candidates, totalling 2500 fits\n"
     ]
    },
    {
     "name": "stderr",
     "output_type": "stream",
     "text": [
      "[Parallel(n_jobs=-1)]: Using backend LokyBackend with 8 concurrent workers.\n",
      "[Parallel(n_jobs=-1)]: Done  34 tasks      | elapsed:    2.9s\n",
      "[Parallel(n_jobs=-1)]: Done 184 tasks      | elapsed:    6.9s\n",
      "[Parallel(n_jobs=-1)]: Done 485 tasks      | elapsed:   12.5s\n",
      "[Parallel(n_jobs=-1)]: Done 2485 out of 2500 | elapsed:   17.7s remaining:    0.1s\n",
      "[Parallel(n_jobs=-1)]: Done 2500 out of 2500 | elapsed:   17.8s finished\n"
     ]
    },
    {
     "name": "stdout",
     "output_type": "stream",
     "text": [
      "ElasticNet: All Features\n",
      "Best Lambda:0.00019307\n",
      "Best Lambda:0.65\n",
      "Train RMSE:0.11128\n",
      "Test RMSE:0.10532\n",
      "\n"
     ]
    }
   ],
   "source": [
    "# Input for CV\n",
    "min_a = -6  # used for plot\n",
    "max_a = 2  # used for plot\n",
    "param_grid = {'alpha': np.logspace(min_a, max_a, 50),\n",
    "              'l1_ratio': [x / 100 for x in range(5, 105, 10)]}\n",
    "\n",
    "# Instantiate model, cross validation, and grid search\n",
    "elastic = ElasticNet(normalize=True, random_state=0)\n",
    "cv = KFold(5, shuffle=True, random_state=0)\n",
    "grid = GridSearchCV(estimator=elastic,\n",
    "                    param_grid=param_grid, \n",
    "                    scoring=\"neg_root_mean_squared_error\", #eval metric\n",
    "                    verbose=True, #return status update\n",
    "                    cv=cv,\n",
    "                    n_jobs=-1)\n",
    "\n",
    "elastic_allFeat = grid.fit(x_train, y_train) #fit training data to model\n",
    "\n",
    "# Isolate results\n",
    "elastic_allFeat_alpha = elastic_allFeat.cv_results_[\"param_alpha\"].tolist()  # list of all alphas\n",
    "elastic_allFeat_rho = elastic_allFeat.cv_results_[\"param_l1_ratio\"].tolist()  # list of all alphas\n",
    "rmse = (elastic_allFeat.cv_results_[\"mean_test_score\"] * -1)  # list of mean rmse of training data\n",
    "rmse_train = -elastic_allFeat.best_score_  # best rmse of training dataset\n",
    "\n",
    "# Fit test data to model\n",
    "elastic_allFeat_model = elastic_allFeat.best_estimator_\n",
    "pickle.dump(elastic_allFeat_model, open('saved_models/elastic_allFeat_model', 'wb')) #save the model\n",
    "y_pred = elastic_allFeat_model.predict(x_test)  # GridSearchCV uses best parameters\n",
    "rmse_test = np.sqrt(mean_squared_error(y_test, y_pred))\n",
    "\n",
    "# Print results\n",
    "print(\"ElasticNet: All Features\")\n",
    "print(\"Best Lambda:{0}\".format(round(elastic_allFeat.best_params_[\"alpha\"], 8)))\n",
    "print(\"Best Lambda:{0}\".format(round(elastic_allFeat.best_params_[\"l1_ratio\"],3)))\n",
    "print(\"Train RMSE:{0}\".format(round(rmse_train, 5)))\n",
    "print(\"Test RMSE:{0}\\n\".format(round(rmse_test, 5)))\n",
    "\n",
    "    \n",
    "# Export Data for kaggle\n",
    "y_pred = elastic_allFeat_model.predict(test_df)\n",
    "predict = pd.DataFrame({\"Id\": range(1461, 2920),\n",
    "                        \"SalePrice\": np.exp(y_pred).tolist()})\n",
    "predict.to_csv(\"elastic_allFeat.csv\", index=False)\n"
   ]
  },
  {
   "cell_type": "markdown",
   "metadata": {},
   "source": [
    "### Elastic-Net After Feature Selection"
   ]
  },
  {
   "cell_type": "code",
   "execution_count": null,
   "metadata": {},
   "outputs": [],
   "source": [
    "# Input for CV\n",
    "min_a = -6  # used for plot\n",
    "max_a = 6  # used for plot\n",
    "param_grid = {'alpha': np.logspace(min_a, max_a, 600),\n",
    "              'l1_ratio': [x / 1000 for x in range(0, 105, 5)]}\n",
    "\n",
    "# Instantiate model, cross validation, and grid search\n",
    "elastic = ElasticNet(normalize=True, random_state=0)\n",
    "cv = KFold(5, shuffle=True, random_state=0)\n",
    "grid = GridSearchCV(estimator=elastic,\n",
    "                    param_grid=param_grid, \n",
    "                    scoring=\"neg_root_mean_squared_error\", #eval metric\n",
    "                    verbose=True, #return status update\n",
    "                    cv=cv,\n",
    "                    n_jobs=-1)\n",
    "\n",
    "elastic_selectFeat = grid.fit(x_train[imp_feat], y_train) #fit training data to model\n",
    "\n",
    "# Isolate results\n",
    "elastic_selectFeat_alpha = elastic_selectFeat.cv_results_[\"param_alpha\"].tolist()  # list of all alphas\n",
    "elastic_selectFeat_rho = elastic_selectFeat.cv_results_[\"param_l1_ratio\"].tolist()  # list of all alphas\n",
    "rmse = (elastic_selectFeat.cv_results_[\"mean_test_score\"] * -1)  # list of mean rmse of training data\n",
    "rmse_train = -elastic_selectFeat.best_score_  # best rmse of training dataset\n",
    "\n",
    "# Fit test data to model\n",
    "elastic_selectFeat_model = elastic_selectFeat.best_estimator_\n",
    "pickle.dump(elastic_selectFeat_model, open('saved_models/elastic_selectFeat_model', 'wb')) #save the model\n",
    "y_pred = elastic_selectFeat_model.predict(x_test[imp_feat])  # GridSearchCV uses best parameters\n",
    "rmse_test = np.sqrt(mean_squared_error(y_test, y_pred))\n",
    "\n",
    "# Print results\n",
    "print(\"ElasticNet: Select Features\")\n",
    "print(\"Best Lambda:{0}\".format(round(elastic_selectFeat.best_params_[\"alpha\"], 8)))\n",
    "print(\"Best Lambda:{0}\\n\".format(round(elastic_selectFeat.best_params_[\"l1_ratio\"],3)))\n",
    "print(\"Train RMSE:{0}\".format(round(rmse_train, 5)))\n",
    "print(\"Test RMSE:{0}\\n\".format(round(rmse_test, 5)))\n",
    "\n",
    "    \n",
    "# Export Data for kaggle\n",
    "y_pred = elastic_selectFeat_model.predict(test_df[imp_feat])\n",
    "predict = pd.DataFrame({\"Id\": range(1461, 2920),\n",
    "                        \"SalePrice\": np.exp(y_pred).tolist()})\n",
    "predict.to_csv(\"elastic_selectFeat.csv\", index=False)"
   ]
  },
  {
   "cell_type": "markdown",
   "metadata": {},
   "source": [
    "## eXtremeGradientBoost Regression\n"
   ]
  },
  {
   "cell_type": "markdown",
   "metadata": {},
   "source": [
    "### XGBoost Before Feature Selection"
   ]
  },
  {
   "cell_type": "code",
   "execution_count": null,
   "metadata": {
    "scrolled": false
   },
   "outputs": [],
   "source": [
    "#Input for CV\n",
    "param_grid = {'alpha': np.linspace(0.01, 1, 20), #L1 Lasso regularization\n",
    "              'colsample_bytree': np.linspace(0.01, 1, 20), #frac of col. used per tree\n",
    "              'eta': np.linspace(0.01, 1, 20), # learning rate\n",
    "              'gamma': np.linspace(0.01, 1, 20), #specifies min loss reduction for split\n",
    "              'lambda': np.linspace(0.01, 1, 20), #L2 Ridge regularization\n",
    "              'max_depth': range(2,11,2), #max depth of tree\n",
    "              'min_child_weight': [1, 1.5, 1.75, 2, 3], #min sum weights required in child\n",
    "              'subsample': np.linspace(0.01, 1, 20), #frac of obvs. randomly sampled per tree\n",
    "              'n_estimators': range(50,1500, 50), #number of trees\n",
    "             }\n",
    "\n",
    "# param_grid = {'alpha': [0.1], #L1 Lasso regularization\n",
    "#               'colsample_bytree': [0.775], #frac of col. used per tree\n",
    "#               'eta': [.01], # learning rate\n",
    "#               'gamma': [.01], #specifies min loss reduction for split\n",
    "#               'lambda': [0.1], #L2 Ridge regularization\n",
    "#               'max_depth': [3], #max depth of tree\n",
    "#               'min_child_weight': [1.8], #min sum weights required in child\n",
    "#               'subsample': [0.775], #frac of obvs. randomly sampled per tree\n",
    "#               'n_estimators': [300], #number of trees\n",
    "#              }\n",
    "\n",
    "# Instantiate model, cross validation, and grid search\n",
    "xgb_model = xgb.XGBRegressor(normalize=True, random_state=0, objective ='reg:squarederror')\n",
    "cv = KFold(5, shuffle=True, random_state=0)\n",
    "grid = RandomizedSearchCV(estimator=xgb_model,\n",
    "                          param_distributions=param_grid, \n",
    "                          n_iter=100, #n parameter settings sampled\n",
    "                          scoring=\"neg_root_mean_squared_error\", #eval metric\n",
    "                          verbose=True, #return status update\n",
    "                          cv=cv,\n",
    "                          n_jobs=-1)\n",
    "\n",
    "xgb_allFeat = grid.fit(x_train, y_train) #fit training data to model\n",
    "\n",
    "# Isolate results\n",
    "rmse_train = -xgb_allFeat.best_score_  # best rmse of training dataset\n",
    "\n",
    "# Fit test data to model\n",
    "xgb_allFeat_model = xgb_allFeat.best_estimator_\n",
    "pickle.dump(xgb_allFeat_model, open('saved_models/xgb_allFeat_model', 'wb')) #save the model\n",
    "y_pred = xgb_allFeat_model.predict(x_test)  # GridSearchCV uses best parameters\n",
    "rmse_test = np.sqrt(mean_squared_error(y_test, y_pred))\n",
    "\n",
    "# # Print results\n",
    "print(\"XGB: All Features\")\n",
    "print(\"Best alpha:{0}\".format(round(xgb_allFeat.best_params_[\"alpha\"], 8)))\n",
    "print(\"Best colsample_bytree:{0}\".format(round(xgb_allFeat.best_params_[\"colsample_bytree\"], 8)))\n",
    "print(\"Best eta:{0}\".format(round(xgb_allFeat.best_params_[\"eta\"], 8)))\n",
    "print(\"Best gamma:{0}\".format(round(xgb_allFeat.best_params_[\"gamma\"], 8)))\n",
    "print(\"Best max_depth:{0}\".format(round(xgb_allFeat.best_params_[\"max_depth\"], 8)))\n",
    "print(\"Best min_child_weight:{0}\".format(round(xgb_allFeat.best_params_[\"min_child_weight\"], 8)))\n",
    "print(\"Best n_estimators:{0}\".format(round(xgb_allFeat.best_params_[\"n_estimators\"], 8)))\n",
    "print(\"Best subsample:{0}\\n\".format(round(xgb_allFeat.best_params_[\"subsample\"], 8)))\n",
    "print(\"Train RMSE:{0}\".format(round(rmse_train, 5)))\n",
    "print(\"Test RMSE:{0}\\n\".format(round(rmse_test, 5)))\n",
    "\n",
    "# Export Data for kaggle\n",
    "y_pred = xgb_allFeat_model.predict(test_df)\n",
    "predict = pd.DataFrame({\"Id\": range(1461, 2920),\n",
    "                        \"SalePrice\": np.exp(y_pred).tolist()})\n",
    "predict.to_csv(\"xgb_allFeat.csv\", index=False)\n",
    "\n",
    "# ==========================================\n",
    "# Single Value Group\n",
    "# Train RMSE:0.11515\n",
    "# Test RMSE:0.10895"
   ]
  },
  {
   "cell_type": "markdown",
   "metadata": {},
   "source": [
    "### Feature Importance"
   ]
  },
  {
   "cell_type": "code",
   "execution_count": null,
   "metadata": {},
   "outputs": [],
   "source": [
    "# Instantiate model\n",
    "xgb_allFeat_model.fit(x_train, y_train) #fit model with train data\n",
    "\n",
    "#Plot Feature Importance\n",
    "imp_dict = xgb_allFeat_model.get_booster().get_score(importance_type='gain') #gain=largest contribution to decision\n",
    "imp_df = [[x, imp_dict[x]] for x in imp_dict.keys()]\n",
    "imp_df = pd.DataFrame(imp_df, columns=['feature','fscore'])\n",
    "imp_df.sort_values(ascending=False, by='fscore', inplace=True)\n",
    "top_imp_df = imp_df.iloc[:20] #top 20 features\n",
    "             \n",
    "plt.figure(figsize=(10, 6))\n",
    "sns.barplot(data=top_imp_df,\n",
    "            y='feature',\n",
    "            x='fscore', \n",
    "            color=\"#3498db\")\n",
    "sns.set(style=\"whitegrid\", font_scale=1.5)\n",
    "plt.title(\"XGBoost Model: Feature Importance\")\n",
    "plt.xlabel(\"F-Score\")\n",
    "plt.ylabel(\"\")\n",
    "plt.xlim(0,1.6)\n",
    "\n",
    "if save_figures:\n",
    "    plt.savefig(\"saved_figures/xgboost_feat_importance.tiff\", bbox_inches=\"tight\", dpi=300)\n"
   ]
  },
  {
   "cell_type": "markdown",
   "metadata": {},
   "source": [
    "## Blending Results\n"
   ]
  },
  {
   "cell_type": "code",
   "execution_count": null,
   "metadata": {},
   "outputs": [],
   "source": [
    "span = range(0,105,5)\n",
    "perm = []\n",
    "for a in span:\n",
    "    for b in span:\n",
    "        for c in span:\n",
    "            for d in span:\n",
    "                perm.append([a/100,b/100,c/100,d/100])\n",
    "                \n",
    "perc_df = [perm[x] for x in range(0,len(perm)) if round(sum(perm[x]),3) == 1]\n",
    "perc_df = pd.DataFrame(perc, columns=['lasso_perc', 'ridge_perc','elastic_perc','xgb_perc'])\n",
    "perc"
   ]
  },
  {
   "cell_type": "code",
   "execution_count": null,
   "metadata": {},
   "outputs": [],
   "source": [
    "lasso_results = lasso_selectFeat_model.predict(predictors)\n",
    "ridge_results = ridge_selectFeat_model.predict(predictors)\n",
    "elastic_results = elastic_allFeat_model.predict(predictors)\n",
    "xgb_results = xgb_allFeat_model.predict(predictors)\n"
   ]
  },
  {
   "cell_type": "code",
   "execution_count": null,
   "metadata": {},
   "outputs": [],
   "source": [
    "def blend_predict(perc_df, predictors, response):\n",
    "    \n",
    "    rmse = []\n",
    "    for idx in range(0,perc_df.shape[0]):\n",
    "        \n",
    "        pred = (perc_df.lasso_perc[idx]*lasso_allFeat_model.predict(predictors)\n",
    "                + perc_df.ridge_perc[idx]*ridge_selectFeat_model.predict(predictors[imp_feat]).squeeze(axis=1)\n",
    "                + perc_df.elastic_perc[idx]*elastic_allFeat_model.predict(predictors)\n",
    "                + perc_df.xgb_perc[idx]*xgb_allFeat_model.predict(predictors))\n",
    "        \n",
    "       \n",
    "        rmse.append(np.sqrt(mean_squared_error(response, pred)))\n",
    "\n",
    "    return rmse\n",
    "\n",
    "perc_df['train_rmse'] = blend_predict(perc_df, x_train, y_train)\n",
    "perc_df['test_rmse']  = blend_predict(perc_df, x_test, y_test)"
   ]
  },
  {
   "cell_type": "code",
   "execution_count": null,
   "metadata": {},
   "outputs": [],
   "source": [
    "\n",
    "perc_df.sort_values(ascending=True, by='train_rmse', inplace=True)\n",
    "perc_df"
   ]
  },
  {
   "cell_type": "code",
   "execution_count": null,
   "metadata": {},
   "outputs": [],
   "source": []
  },
  {
   "cell_type": "markdown",
   "metadata": {},
   "source": [
    "## Stacking Algorithms"
   ]
  },
  {
   "cell_type": "code",
   "execution_count": null,
   "metadata": {},
   "outputs": [],
   "source": [
    "from mlxtend.regressor import StackingCVRegressor"
   ]
  },
  {
   "cell_type": "code",
   "execution_count": null,
   "metadata": {},
   "outputs": [],
   "source": [
    "stack = StackingCVRegressor(regressors=(lasso_allFeat_model, \n",
    "                                        ridge_selectFeat_model, \n",
    "                                        elastic_allFeat_model,\n",
    "                                        xgb_allFeat_model),\n",
    "                            meta_regressor=lasso_allFeat_model, \n",
    "                            shuffle = True,\n",
    "                            random_state = 0,\n",
    "                            use_features_in_secondary=True)"
   ]
  }
 ],
 "metadata": {
  "kernelspec": {
   "display_name": "Python 3",
   "language": "python",
   "name": "python3"
  },
  "language_info": {
   "codemirror_mode": {
    "name": "ipython",
    "version": 3
   },
   "file_extension": ".py",
   "mimetype": "text/x-python",
   "name": "python",
   "nbconvert_exporter": "python",
   "pygments_lexer": "ipython3",
   "version": "3.7.4"
  }
 },
 "nbformat": 4,
 "nbformat_minor": 2
}
