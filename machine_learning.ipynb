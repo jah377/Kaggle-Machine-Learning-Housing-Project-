{
 "cells": [
  {
   "cell_type": "markdown",
   "metadata": {},
   "source": [
    "# Housing ML Notebook"
   ]
  },
  {
   "cell_type": "code",
   "execution_count": 1,
   "metadata": {},
   "outputs": [],
   "source": [
    "# Setup Packages\n",
    "import numpy as np\n",
    "import pandas as pd\n",
    "import matplotlib.pyplot as plt\n",
    "import seaborn as sns\n",
    "from scipy import stats\n",
    "\n",
    "%matplotlib inline\n",
    "\n",
    "# Display all rows and columns\n",
    "pd.set_option(\"display.max_columns\", None)\n",
    "\n",
    "# Suppress warnings\n",
    "import warnings\n",
    "warnings.filterwarnings(\"ignore\")"
   ]
  },
  {
   "cell_type": "code",
   "execution_count": 2,
   "metadata": {},
   "outputs": [],
   "source": [
    "from sklearn.linear_model import Lasso, Ridge, ElasticNet\n",
    "from sklearn.model_selection import KFold, cross_val_score, GridSearchCV, RandomizedSearchCV\n",
    "from sklearn.metrics import mean_squared_error\n",
    "from sklearn.base import BaseEstimator, TransformerMixin, RegressorMixin, clone\n",
    "from sklearn.ensemble import GradientBoostingRegressor\n",
    "from mlxtend.regressor import StackingCVRegressor\n",
    "import xgboost as xgb\n",
    "import pickle"
   ]
  },
  {
   "cell_type": "markdown",
   "metadata": {},
   "source": [
    "**saving models**\n",
    "https://medium.com/fintechexplained/how-to-save-trained-machine-learning-models-649c3ad1c018"
   ]
  },
  {
   "cell_type": "code",
   "execution_count": 3,
   "metadata": {},
   "outputs": [],
   "source": [
    "# For autoreloading modules\n",
    "%load_ext autoreload\n",
    "%autoreload 2"
   ]
  },
  {
   "cell_type": "code",
   "execution_count": 4,
   "metadata": {},
   "outputs": [],
   "source": [
    "# # Used for auto-formatting code\n",
    "# # terminal - pip install nb_black\n",
    "# %load_ext nb_black"
   ]
  },
  {
   "cell_type": "code",
   "execution_count": 5,
   "metadata": {},
   "outputs": [],
   "source": [
    "# Import data csvs\n",
    "X = pd.read_csv(\"data/predictors.csv\")  # id=1 to 1460\n",
    "Y = pd.read_csv(\"data/response.csv\")  # id=1461-2919\n",
    "\n",
    "# Save figures within notebook?\n",
    "save_figures = 0  # 1 (yes); 0 (no)"
   ]
  },
  {
   "cell_type": "code",
   "execution_count": 6,
   "metadata": {},
   "outputs": [],
   "source": [
    "# Dummify categorical predictors\n",
    "X = pd.get_dummies(X, drop_first=True)  # dummify\n"
   ]
  },
  {
   "cell_type": "code",
   "execution_count": 7,
   "metadata": {},
   "outputs": [],
   "source": [
    "# Separate train and test.csv dataframes\n",
    "train_df = X.loc[X.Id <= 1460].drop(\"Id\", axis=1)  # train.csv\n",
    "test_df = X.loc[X.Id > 1460].drop(\"Id\", axis=1)  # test.csv\n",
    "response = Y\n",
    "\n",
    "# Test-Train split **TRAIN.CSV DATA**\n",
    "from sklearn.model_selection import train_test_split\n",
    "\n",
    "x_train, x_test, y_train, y_test = train_test_split(\n",
    "    train_df, response, test_size=0.3, random_state=0\n",
    ")"
   ]
  },
  {
   "cell_type": "markdown",
   "metadata": {},
   "source": [
    "## Basic Models"
   ]
  },
  {
   "cell_type": "markdown",
   "metadata": {},
   "source": [
    "### Lasso Regularized Regression"
   ]
  },
  {
   "cell_type": "code",
   "execution_count": 8,
   "metadata": {
    "scrolled": false
   },
   "outputs": [
    {
     "name": "stdout",
     "output_type": "stream",
     "text": [
      "Fitting 5 folds for each of 2000 candidates, totalling 10000 fits\n"
     ]
    },
    {
     "name": "stderr",
     "output_type": "stream",
     "text": [
      "[Parallel(n_jobs=-1)]: Using backend LokyBackend with 8 concurrent workers.\n",
      "[Parallel(n_jobs=-1)]: Done  34 tasks      | elapsed:    2.7s\n",
      "[Parallel(n_jobs=-1)]: Done 410 tasks      | elapsed:    5.0s\n",
      "[Parallel(n_jobs=-1)]: Done 2126 tasks      | elapsed:    9.9s\n",
      "[Parallel(n_jobs=-1)]: Done 4926 tasks      | elapsed:   16.8s\n",
      "[Parallel(n_jobs=-1)]: Done 8526 tasks      | elapsed:   23.7s\n",
      "[Parallel(n_jobs=-1)]: Done 10000 out of 10000 | elapsed:   26.5s finished\n"
     ]
    },
    {
     "name": "stdout",
     "output_type": "stream",
     "text": [
      "Lasso: All Features\n",
      "Best Lambda:0.00011994\n",
      "Train RMSE:0.11001\n"
     ]
    },
    {
     "data": {
      "image/png": "[encoded data removed]",
      "text/plain": [
       "<Figure size 720x432 with 1 Axes>"
      ]
     },
     "metadata": {
      "needs_background": "light"
     },
     "output_type": "display_data"
    }
   ],
   "source": [
    "#New instance of model\n",
    "lasso = Lasso(normalize=True, random_state=0)\n",
    "\n",
    "#Perform gridsearch\n",
    "# min_a = -7\n",
    "# max_a = -2\n",
    "# param_grid = {\"alpha\": np.logspace(min_a, max_a, 100)} #hyperparameter\n",
    "\n",
    "\n",
    "param_grid = {\"alpha\": np.linspace(10**-5, 10**-2, 2000)}\n",
    "grid = GridSearchCV(estimator=lasso, \n",
    "                    param_grid=param_grid, \n",
    "                    scoring=\"neg_root_mean_squared_error\", #eval metric\n",
    "                    verbose=True, #return status update\n",
    "                    cv=5, \n",
    "                    n_jobs=-1) #create grid search\n",
    "grid.fit(x_train, y_train) #fit training data to model\n",
    "lasso_allFeatures = grid.best_estimator_ #assign tuned parameter to model\n",
    "pickle.dump(lasso_allFeatures, open('saved_models/lasso_allFeatures', 'wb')) #save the model\n",
    "\n",
    "# Isolate results for plot\n",
    "rmse_train = -grid.best_score_  # best rmse of training dataset\n",
    "print(\"Lasso: All Features\")\n",
    "print(\"Best Lambda:{0}\".format(round(grid.best_params_[\"alpha\"], 8)))\n",
    "print(\"Train RMSE:{0}\".format(round(rmse_train, 5)))\n",
    "\n",
    "# Plot Lambda vs RMSE\n",
    "alpha = grid.cv_results_[\"param_alpha\"].tolist()  # for plot\n",
    "rmse = (grid.cv_results_[\"mean_test_score\"] * -1)  # for plot\n",
    "\n",
    "plt.figure(figsize=(10, 6))\n",
    "g = sns.lineplot(x=alpha, y=rmse, color=\"#3498db\")\n",
    "sns.set(style=\"whitegrid\", font_scale=1.5)\n",
    "g.set(xscale=\"log\")\n",
    "# plt.xlim(10 ** min_a, 10 ** max_a)\n",
    "# plt.ylim(0.10, 0.350)\n",
    "plt.title(\"Lasso without Feature Selection: RMSE vs Lambda Value\")\n",
    "plt.xlabel(\"Lambda\")\n",
    "plt.ylabel(\"RMSE\")\n",
    "\n",
    "if save_figures:\n",
    "    plt.savefig(\"saved_figures/lasso_allFeat_RMSEvLambda.tiff\", bbox_inches=\"tight\", dpi=300)\n",
    "\n",
    "    \n",
    "#Export Data for kaggle\n",
    "y_pred = lasso_allFeatures.predict(test_df) #predict submission saleprices\n",
    "predict = pd.DataFrame({'Id':range(1461,2920),\n",
    "                        'SalePrice': np.exp(y_pred).tolist()})\n",
    "predict.to_csv('lasso_allFeat_results.csv',index=False)\n"
   ]
  },
  {
   "cell_type": "markdown",
   "metadata": {},
   "source": [
    "### Lasso Regularized Regression with Feature Selection"
   ]
  },
  {
   "cell_type": "code",
   "execution_count": 9,
   "metadata": {
    "scrolled": false
   },
   "outputs": [
    {
     "name": "stdout",
     "output_type": "stream",
     "text": [
      "Number of selected features: 78\n",
      "Number of dropped features: 122\n"
     ]
    },
    {
     "data": {
      "image/png": "[encoded data removed]",
      "text/plain": [
       "<Figure size 720x432 with 1 Axes>"
      ]
     },
     "metadata": {},
     "output_type": "display_data"
    }
   ],
   "source": [
    "# Feature Selection\n",
    "lasso_allFeatures.fit(x_train, y_train)  # fit model with training data\n",
    "coefs_df = pd.DataFrame(lasso_allFeatures.coef_, index=x_train.columns, columns=[\"coef\"]) #df of parameter coefficients\n",
    "coefs_df.sort_values(ascending=False, by=\"coef\", inplace=True)  # sort df\n",
    "n_select = sum(coefs_df.coef != 0)  # features selected\n",
    "n_drop = sum(coefs_df.coef == 0)  # features dropped\n",
    "print('Number of selected features: {0}'.format(n_select))\n",
    "print('Number of dropped features: {0}'.format(n_drop))\n",
    "\n",
    "# Important features\n",
    "imp_feat = coefs_df.loc[coefs_df.coef != 0].index.tolist()\n",
    "\n",
    "# Plot coefficients of top 20 important features\n",
    "plt.figure(figsize=(10, 6))\n",
    "data = pd.concat([coefs_df.head(10), coefs_df.tail(10)], axis=0)\n",
    "sns.barplot(x=data.coef, y=data.index, color=\"#3498db\")\n",
    "sns.set(style=\"whitegrid\", font_scale=1.5)\n",
    "plt.title(\"Lasso Model: Feature Importance\")\n",
    "plt.xlabel(\"Coefficient Value\")\n",
    "plt.xlim(-0.3, 0.3)\n",
    "\n",
    "if save_figures:\n",
    "    plt.savefig(\"saved_figures/lasso_feat_importance.tiff\", bbox_inches=\"tight\")"
   ]
  },
  {
   "cell_type": "code",
   "execution_count": 10,
   "metadata": {},
   "outputs": [
    {
     "name": "stdout",
     "output_type": "stream",
     "text": [
      "Fitting 5 folds for each of 2000 candidates, totalling 10000 fits\n"
     ]
    },
    {
     "name": "stderr",
     "output_type": "stream",
     "text": [
      "[Parallel(n_jobs=-1)]: Using backend LokyBackend with 8 concurrent workers.\n",
      "[Parallel(n_jobs=-1)]: Done 232 tasks      | elapsed:    0.8s\n",
      "[Parallel(n_jobs=-1)]: Done 2032 tasks      | elapsed:    3.5s\n",
      "[Parallel(n_jobs=-1)]: Done 5032 tasks      | elapsed:    8.1s\n",
      "[Parallel(n_jobs=-1)]: Done 9232 tasks      | elapsed:   14.2s\n",
      "[Parallel(n_jobs=-1)]: Done 10000 out of 10000 | elapsed:   15.4s finished\n"
     ]
    },
    {
     "name": "stdout",
     "output_type": "stream",
     "text": [
      "Lasso: Selected Features\n",
      "Best Lambda:1.501e-05\n",
      "Train RMSE:0.10426\n"
     ]
    },
    {
     "data": {
      "image/png": "[encoded data removed]",
      "text/plain": [
       "<Figure size 720x432 with 1 Axes>"
      ]
     },
     "metadata": {},
     "output_type": "display_data"
    }
   ],
   "source": [
    "#New instance of model\n",
    "lasso = Lasso(normalize=True, random_state=0)\n",
    "\n",
    "#Perform gridsearch\n",
    "# min_a = -7\n",
    "# max_a = -2\n",
    "# param_grid = {\"alpha\": np.logspace(min_a, max_a, 100)} #hyperparameter\n",
    "\n",
    "\n",
    "\n",
    "param_grid = {\"alpha\": np.linspace(10**-10, 10**-2, 2000)} #hyperparameter\n",
    "grid = GridSearchCV(estimator=lasso, \n",
    "                    param_grid=param_grid, \n",
    "                    scoring=\"neg_root_mean_squared_error\", #eval metric\n",
    "                    verbose=True, #return status update\n",
    "                    cv=5, \n",
    "                    n_jobs=-1) #create grid search\n",
    "grid.fit(x_train[imp_feat], y_train) #fit training data to model\n",
    "lasso_selectFeatures = grid.best_estimator_ #assign tuned parameter to model\n",
    "pickle.dump(lasso_selectFeatures, open('saved_models/lasso_selectFeatures', 'wb')) #save the model\n",
    "\n",
    "# Isolate results for plot\n",
    "rmse_train = -grid.best_score_  # best rmse of training dataset\n",
    "print(\"Lasso: Selected Features\")\n",
    "print(\"Best Lambda:{0}\".format(round(grid.best_params_[\"alpha\"], 8)))\n",
    "print(\"Train RMSE:{0}\".format(round(rmse_train, 5)))\n",
    "\n",
    "# Plot Lambda vs RMSE\n",
    "alpha = grid.cv_results_[\"param_alpha\"].tolist()  # for plot\n",
    "rmse = (grid.cv_results_[\"mean_test_score\"] * -1)  # for plot\n",
    "\n",
    "plt.figure(figsize=(10, 6))\n",
    "g = sns.lineplot(x=alpha, y=rmse, color=\"#3498db\")\n",
    "sns.set(style=\"whitegrid\", font_scale=1.5)\n",
    "g.set(xscale=\"log\")\n",
    "# plt.xlim(10 ** min_a, 10 ** max_a)\n",
    "# plt.ylim(0.10, 0.350)\n",
    "plt.title(\"Lasso with Feature Selection : RMSE vs Lambda Value\")\n",
    "plt.xlabel(\"Lambda\")\n",
    "plt.ylabel(\"RMSE\")\n",
    "\n",
    "if save_figures:\n",
    "    plt.savefig(\"saved_figures/lasso_selectFeat_RMSEvLambda.tiff\", bbox_inches=\"tight\", dpi=300)\n",
    "\n",
    "    \n",
    "#Export Data for kaggle\n",
    "y_pred = lasso_selectFeatures.predict(test_df[imp_feat]) #predict submission saleprices\n",
    "predict = pd.DataFrame({'Id':range(1461,2920),\n",
    "                        'SalePrice': np.exp(y_pred).tolist()})\n",
    "predict.to_csv('saved_predictions/lasso_selectFeat_results.csv',index=False)"
   ]
  },
  {
   "cell_type": "markdown",
   "metadata": {},
   "source": [
    "### Ridge Regularized Regression\n"
   ]
  },
  {
   "cell_type": "code",
   "execution_count": 11,
   "metadata": {},
   "outputs": [
    {
     "name": "stdout",
     "output_type": "stream",
     "text": [
      "Fitting 5 folds for each of 2000 candidates, totalling 10000 fits\n"
     ]
    },
    {
     "name": "stderr",
     "output_type": "stream",
     "text": [
      "[Parallel(n_jobs=-1)]: Using backend LokyBackend with 8 concurrent workers.\n",
      "[Parallel(n_jobs=-1)]: Done 124 tasks      | elapsed:    0.8s\n",
      "[Parallel(n_jobs=-1)]: Done 1024 tasks      | elapsed:    5.8s\n",
      "[Parallel(n_jobs=-1)]: Done 2524 tasks      | elapsed:   14.3s\n",
      "[Parallel(n_jobs=-1)]: Done 4624 tasks      | elapsed:   26.2s\n",
      "[Parallel(n_jobs=-1)]: Done 7324 tasks      | elapsed:   33.4s\n",
      "[Parallel(n_jobs=-1)]: Done 10000 out of 10000 | elapsed:   39.3s finished\n"
     ]
    },
    {
     "name": "stdout",
     "output_type": "stream",
     "text": [
      "Ridge: All Features\n",
      "Best Lambda:0.2136068\n",
      "Train RMSE:0.11335\n"
     ]
    },
    {
     "data": {
      "image/png": "[encoded data removed]",
      "text/plain": [
       "<Figure size 720x432 with 1 Axes>"
      ]
     },
     "metadata": {},
     "output_type": "display_data"
    }
   ],
   "source": [
    "#New instance of model\n",
    "ridge = Ridge(normalize=True, random_state=0)\n",
    "\n",
    "# #Perform gridsearch\n",
    "# min_a = -3\n",
    "# max_a = 3\n",
    "# param_grid = {\"alpha\": np.logspace(min_a, max_a, 100)} #hyperparameter\n",
    "\n",
    "\n",
    "\n",
    "param_grid = {\"alpha\": np.linspace(-1, 1, 2000)} #hyperparameter\n",
    "grid = GridSearchCV(estimator=ridge, \n",
    "                    param_grid=param_grid, \n",
    "                    scoring=\"neg_root_mean_squared_error\", #eval metric\n",
    "                    verbose=True, #return status update\n",
    "                    cv=5, \n",
    "                    n_jobs=-1) #create grid search\n",
    "grid.fit(x_train, y_train) #fit training data to model\n",
    "ridge_allFeatures = grid.best_estimator_ #assign tuned parameter to model\n",
    "pickle.dump(ridge_allFeatures, open('saved_models/ridge_allFeatures', 'wb')) #save the model\n",
    "\n",
    "# Isolate results for plot\n",
    "rmse_train = -grid.best_score_  # best rmse of training dataset\n",
    "print(\"Ridge: All Features\")\n",
    "print(\"Best Lambda:{0}\".format(round(grid.best_params_[\"alpha\"], 8)))\n",
    "print(\"Train RMSE:{0}\".format(round(rmse_train, 5)))\n",
    "\n",
    "# Plot Lambda vs RMSE\n",
    "alpha = grid.cv_results_[\"param_alpha\"].tolist()  # for plot\n",
    "rmse = (grid.cv_results_[\"mean_test_score\"] * -1)  # for plot\n",
    "\n",
    "plt.figure(figsize=(10, 6))\n",
    "g = sns.lineplot(x=alpha, y=rmse, color=\"#3498db\")\n",
    "sns.set(style=\"whitegrid\", font_scale=1.5)\n",
    "g.set(xscale=\"log\")\n",
    "# plt.xlim(10 ** min_a, 10 ** max_a)\n",
    "# plt.ylim(0.10, 0.40)\n",
    "plt.title(\"Ridge without Feature Selection: RMSE vs Lambda Value\")\n",
    "plt.xlabel(\"Lambda\")\n",
    "plt.ylabel(\"RMSE\")\n",
    "\n",
    "if save_figures:\n",
    "    plt.savefig(\"saved_figures/ridge_allFeat_RMSEvLambda.tiff\", bbox_inches=\"tight\", dpi=300)\n",
    "\n",
    "    \n",
    "#Export Data for kaggle\n",
    "y_pred = ridge_allFeatures.predict(test_df).squeeze() #predict submission saleprices\n",
    "predict = pd.DataFrame({'Id':range(1461,2920),\n",
    "                        'SalePrice': np.exp(y_pred).tolist()})\n",
    "predict.to_csv('saved_predictions/ridge_allFeat_results.csv',index=False)\n"
   ]
  },
  {
   "cell_type": "markdown",
   "metadata": {},
   "source": [
    "### Ridge Regularized Regression with Feature Selection\n",
    "- Feature importance determined with Lasso model"
   ]
  },
  {
   "cell_type": "code",
   "execution_count": 12,
   "metadata": {
    "scrolled": false
   },
   "outputs": [
    {
     "name": "stdout",
     "output_type": "stream",
     "text": [
      "Fitting 5 folds for each of 2000 candidates, totalling 10000 fits\n"
     ]
    },
    {
     "name": "stderr",
     "output_type": "stream",
     "text": [
      "[Parallel(n_jobs=-1)]: Using backend LokyBackend with 8 concurrent workers.\n",
      "[Parallel(n_jobs=-1)]: Done 484 tasks      | elapsed:    1.2s\n",
      "[Parallel(n_jobs=-1)]: Done 4384 tasks      | elapsed:    8.9s\n",
      "[Parallel(n_jobs=-1)]: Done 10000 out of 10000 | elapsed:   16.9s finished\n"
     ]
    },
    {
     "name": "stdout",
     "output_type": "stream",
     "text": [
      "Ridge: Selected Features\n",
      "Best Lambda:0.04052026\n",
      "Train RMSE:0.10405\n"
     ]
    },
    {
     "data": {
      "image/png": "[encoded data removed]",
      "text/plain": [
       "<Figure size 720x432 with 1 Axes>"
      ]
     },
     "metadata": {},
     "output_type": "display_data"
    }
   ],
   "source": [
    "#New instance of model\n",
    "ridge = Ridge(normalize=True, random_state=0)\n",
    "\n",
    "# #Perform gridsearch\n",
    "# min_a = -3\n",
    "# max_a = 3\n",
    "# param_grid = {\"alpha\": np.logspace(min_a, max_a, 100)} #hyperparameter\n",
    "\n",
    "\n",
    "param_grid = {\"alpha\": np.linspace(-1, 1, 2000)} #hyperparameter\n",
    "grid = GridSearchCV(estimator=ridge, \n",
    "                    param_grid=param_grid, \n",
    "                    scoring=\"neg_root_mean_squared_error\", #eval metric\n",
    "                    verbose=True, #return status update\n",
    "                    cv=5, \n",
    "                    n_jobs=-1) #create grid search\n",
    "grid.fit(x_train[imp_feat], y_train) #fit training data to model\n",
    "ridge_selectFeatures = grid.best_estimator_ #assign tuned parameter to model\n",
    "pickle.dump(ridge_selectFeatures, open('saved_models/ridge_selectFeatures', 'wb')) #save the model\n",
    "\n",
    "# Isolate results for plot\n",
    "rmse_train = -grid.best_score_  # best rmse of training dataset\n",
    "print(\"Ridge: Selected Features\")\n",
    "print(\"Best Lambda:{0}\".format(round(grid.best_params_[\"alpha\"], 8)))\n",
    "print(\"Train RMSE:{0}\".format(round(rmse_train, 5)))\n",
    "\n",
    "# Plot Lambda vs RMSE\n",
    "alpha = grid.cv_results_[\"param_alpha\"].tolist()  # for plot\n",
    "rmse = (grid.cv_results_[\"mean_test_score\"] * -1)  # for plot\n",
    "\n",
    "plt.figure(figsize=(10, 6))\n",
    "g = sns.lineplot(x=alpha, y=rmse, color=\"#3498db\")\n",
    "sns.set(style=\"whitegrid\", font_scale=1.5)\n",
    "g.set(xscale=\"log\")\n",
    "# plt.xlim(10 ** min_a, 10 ** max_a)\n",
    "# plt.ylim(0.10, 0.40)\n",
    "plt.title(\"Ridge with Feature Selection: RMSE vs Lambda Value\")\n",
    "plt.xlabel(\"Lambda\")\n",
    "plt.ylabel(\"RMSE\")\n",
    "\n",
    "if save_figures:\n",
    "    plt.savefig(\"saved_figures/ridge_selectFeat_RMSEvLambda.tiff\", bbox_inches=\"tight\", dpi=300)\n",
    "\n",
    "    \n",
    "#Export Data for kaggle\n",
    "y_pred = ridge_selectFeatures.predict(test_df[imp_feat]).squeeze() #predict submission saleprices\n",
    "predict = pd.DataFrame({'Id':range(1461,2920),\n",
    "                        'SalePrice': np.exp(y_pred).tolist()})\n",
    "predict.to_csv('saved_predictions/ridge_selectFeat_results.csv',index=False)\n"
   ]
  },
  {
   "cell_type": "markdown",
   "metadata": {},
   "source": [
    "### ElasticNet Regularized Regression "
   ]
  },
  {
   "cell_type": "code",
   "execution_count": 13,
   "metadata": {},
   "outputs": [
    {
     "name": "stdout",
     "output_type": "stream",
     "text": [
      "Fitting 5 folds for each of 21000 candidates, totalling 105000 fits\n"
     ]
    },
    {
     "name": "stderr",
     "output_type": "stream",
     "text": [
      "[Parallel(n_jobs=-1)]: Using backend LokyBackend with 8 concurrent workers.\n",
      "[Parallel(n_jobs=-1)]: Done  52 tasks      | elapsed:    1.7s\n",
      "[Parallel(n_jobs=-1)]: Done 352 tasks      | elapsed:    5.8s\n",
      "[Parallel(n_jobs=-1)]: Done 1160 tasks      | elapsed:   10.5s\n",
      "[Parallel(n_jobs=-1)]: Done 2560 tasks      | elapsed:   16.7s\n",
      "[Parallel(n_jobs=-1)]: Done 4360 tasks      | elapsed:   23.7s\n",
      "[Parallel(n_jobs=-1)]: Done 6560 tasks      | elapsed:   31.2s\n",
      "[Parallel(n_jobs=-1)]: Done 11108 tasks      | elapsed:   44.4s\n",
      "[Parallel(n_jobs=-1)]: Done 17108 tasks      | elapsed:  1.0min\n",
      "[Parallel(n_jobs=-1)]: Done 23908 tasks      | elapsed:  1.3min\n",
      "[Parallel(n_jobs=-1)]: Done 31508 tasks      | elapsed:  1.6min\n",
      "[Parallel(n_jobs=-1)]: Done 39908 tasks      | elapsed:  1.9min\n",
      "[Parallel(n_jobs=-1)]: Done 49108 tasks      | elapsed:  2.2min\n",
      "[Parallel(n_jobs=-1)]: Done 59108 tasks      | elapsed:  2.5min\n",
      "[Parallel(n_jobs=-1)]: Done 69908 tasks      | elapsed:  2.9min\n",
      "[Parallel(n_jobs=-1)]: Done 81508 tasks      | elapsed:  3.3min\n",
      "[Parallel(n_jobs=-1)]: Done 93908 tasks      | elapsed:  3.7min\n"
     ]
    },
    {
     "name": "stdout",
     "output_type": "stream",
     "text": [
      "ElasticNet: All Features\n",
      "Best Lambda:0.00018116\n",
      "Best l1_ratio:0.63\n",
      "Train RMSE:0.10948\n"
     ]
    },
    {
     "name": "stderr",
     "output_type": "stream",
     "text": [
      "[Parallel(n_jobs=-1)]: Done 105000 out of 105000 | elapsed:  4.1min finished\n"
     ]
    }
   ],
   "source": [
    "#New instance of model\n",
    "elastic = ElasticNet(normalize=True, random_state=0)\n",
    "\n",
    "# #Perform gridsearch\n",
    "# min_a = -7\n",
    "# max_a = -2\n",
    "# param_grid = {\"alpha\": np.logspace(min_a, max_a, 100),\n",
    "#               'l1_ratio': [x / 100 for x in range(55, 75, 1)]} #hyperparameter\n",
    "\n",
    "\n",
    "\n",
    "param_grid = {'alpha': np.linspace(10**-6, 10**-2, 1000),\n",
    "              'l1_ratio': [x / 100 for x in range(50, 71, 1)]}\n",
    "grid = GridSearchCV(estimator=elastic, \n",
    "                    param_grid=param_grid, \n",
    "                    scoring=\"neg_root_mean_squared_error\", #eval metric\n",
    "                    verbose=True, #return status update\n",
    "                    cv=5, \n",
    "                    n_jobs=-1) #create grid search\n",
    "grid.fit(x_train, y_train) #fit training data to model\n",
    "elastic_allFeatures = grid.best_estimator_ #assign tuned parameter to model\n",
    "pickle.dump(elastic_allFeatures, open('saved_models/elastic_allFeatures', 'wb')) #save the model\n",
    "\n",
    "# Isolate results for plot\n",
    "rmse_train = -grid.best_score_  # best rmse of training dataset\n",
    "print(\"ElasticNet: All Features\")\n",
    "print(\"Best Lambda:{0}\".format(round(grid.best_params_[\"alpha\"], 8)))\n",
    "print(\"Best l1_ratio:{0}\".format(round(grid.best_params_[\"l1_ratio\"], 8)))\n",
    "print(\"Train RMSE:{0}\".format(round(rmse_train, 5)))\n",
    "\n",
    "#Export Data for kaggle\n",
    "y_pred = elastic_allFeatures.predict(test_df) #predict submission saleprices\n",
    "predict = pd.DataFrame({'Id':range(1461,2920),\n",
    "                        'SalePrice': np.exp(y_pred).tolist()})\n",
    "predict.to_csv('saved_predictions/elastic_allFeat_results.csv',index=False)\n"
   ]
  },
  {
   "cell_type": "markdown",
   "metadata": {},
   "source": [
    "### Gradient Boosting Regression"
   ]
  },
  {
   "cell_type": "code",
   "execution_count": 14,
   "metadata": {},
   "outputs": [
    {
     "name": "stdout",
     "output_type": "stream",
     "text": [
      "Fitting 5 folds for each of 1500 candidates, totalling 7500 fits\n"
     ]
    },
    {
     "name": "stderr",
     "output_type": "stream",
     "text": [
      "[Parallel(n_jobs=-1)]: Using backend LokyBackend with 8 concurrent workers.\n",
      "[Parallel(n_jobs=-1)]: Done  34 tasks      | elapsed:    8.0s\n",
      "[Parallel(n_jobs=-1)]: Done 184 tasks      | elapsed:  1.1min\n",
      "[Parallel(n_jobs=-1)]: Done 434 tasks      | elapsed:  2.1min\n",
      "[Parallel(n_jobs=-1)]: Done 784 tasks      | elapsed:  3.9min\n",
      "[Parallel(n_jobs=-1)]: Done 1234 tasks      | elapsed:  6.5min\n",
      "[Parallel(n_jobs=-1)]: Done 1784 tasks      | elapsed:  9.8min\n",
      "[Parallel(n_jobs=-1)]: Done 2434 tasks      | elapsed: 13.7min\n",
      "[Parallel(n_jobs=-1)]: Done 3184 tasks      | elapsed: 18.9min\n",
      "[Parallel(n_jobs=-1)]: Done 4034 tasks      | elapsed: 23.3min\n",
      "[Parallel(n_jobs=-1)]: Done 4984 tasks      | elapsed: 28.8min\n",
      "[Parallel(n_jobs=-1)]: Done 6034 tasks      | elapsed: 34.4min\n",
      "[Parallel(n_jobs=-1)]: Done 7184 tasks      | elapsed: 40.7min\n",
      "[Parallel(n_jobs=-1)]: Done 7500 out of 7500 | elapsed: 42.7min finished\n"
     ]
    },
    {
     "name": "stdout",
     "output_type": "stream",
     "text": [
      "XGB: All Features\n",
      "Best learning_rate:0.01\n",
      "Best loss:huber\n",
      "Best max_depth:4\n",
      "Best max_features:sqrt\n",
      "Best min_samples_leaf:9\n",
      "Best min_samples_split:26\n",
      "Best n_estimators:2500\n",
      "Train RMSE:0.1081\n"
     ]
    }
   ],
   "source": [
    "# New instance of model\n",
    "gb_model = GradientBoostingRegressor(random_state=0)\n",
    "\n",
    "#Perform randomized search due to numbe of hyperparameters\n",
    "param_grid = {'learning_rate': np.linspace(0.001, 1, 20),\n",
    "              'loss': ['ls','huber'],\n",
    "              'max_depth': range(2,11,2), #max depth of tree\n",
    "              'max_features': ['sqrt','log2'], #n for considering a best split\n",
    "              'min_samples_leaf': range(1,20,2),\n",
    "              'min_samples_split': range(1,31, 5),\n",
    "              'n_estimators': range(100,3500, 100)\n",
    "             }\n",
    "\n",
    "grid = RandomizedSearchCV(estimator=gb_model,\n",
    "                          param_distributions=param_grid, \n",
    "                          n_iter=3500, #n parameter settings sampled\n",
    "                          scoring=\"neg_root_mean_squared_error\", #eval metric\n",
    "                          verbose=True, #return status update\n",
    "                          cv=5,\n",
    "                          n_jobs=-1)\n",
    "grid.fit(x_train, y_train) #fit training data to model\n",
    "gb_allFeatures = grid.best_estimator_ #assign tuned parameter to model\n",
    "pickle.dump(gb_allFeatures, open('saved_models/gb_allFeatures', 'wb')) #save the model\n",
    "\n",
    "\n",
    "# Print results\n",
    "rmse_train = -grid.best_score_  # best rmse of training dataset\n",
    "\n",
    "print(\"XGB: All Features\")\n",
    "print(\"Best learning_rate:{0}\".format(round(grid.best_params_[\"learning_rate\"], 8)))\n",
    "print(\"Best loss:{0}\".format(grid.best_params_[\"loss\"]))\n",
    "print(\"Best max_depth:{0}\".format(round(grid.best_params_[\"max_depth\"], 8)))\n",
    "print(\"Best max_features:{0}\".format(grid.best_params_[\"max_features\"]))\n",
    "print(\"Best min_samples_leaf:{0}\".format(round(grid.best_params_[\"min_samples_leaf\"], 8)))\n",
    "print(\"Best min_samples_split:{0}\".format(round(grid.best_params_[\"min_samples_split\"], 8)))\n",
    "print(\"Best n_estimators:{0}\".format(round(grid.best_params_[\"n_estimators\"], 8)))\n",
    "print(\"Train RMSE:{0}\".format(round(rmse_train, 5)))\n",
    "\n",
    "# Export Data for kaggle\n",
    "y_pred = gb_allFeatures.predict(test_df)\n",
    "predict = pd.DataFrame({\"Id\": range(1461, 2920),\n",
    "                        \"SalePrice\": np.exp(y_pred).tolist()})\n",
    "predict.to_csv(\"saved_predictions/gb_allFeatures_results.csv\", index=False)\n"
   ]
  },
  {
   "cell_type": "markdown",
   "metadata": {},
   "source": [
    "### XGBoost Regression"
   ]
  },
  {
   "cell_type": "code",
   "execution_count": 15,
   "metadata": {},
   "outputs": [
    {
     "name": "stdout",
     "output_type": "stream",
     "text": [
      "Fitting 5 folds for each of 1500 candidates, totalling 7500 fits\n"
     ]
    },
    {
     "name": "stderr",
     "output_type": "stream",
     "text": [
      "[Parallel(n_jobs=-1)]: Using backend LokyBackend with 8 concurrent workers.\n",
      "[Parallel(n_jobs=-1)]: Done  34 tasks      | elapsed:   51.8s\n",
      "[Parallel(n_jobs=-1)]: Done 184 tasks      | elapsed:  3.1min\n",
      "[Parallel(n_jobs=-1)]: Done 434 tasks      | elapsed:  7.7min\n",
      "[Parallel(n_jobs=-1)]: Done 784 tasks      | elapsed: 14.7min\n",
      "[Parallel(n_jobs=-1)]: Done 1234 tasks      | elapsed: 22.3min\n",
      "[Parallel(n_jobs=-1)]: Done 1784 tasks      | elapsed: 31.6min\n",
      "[Parallel(n_jobs=-1)]: Done 2434 tasks      | elapsed: 44.2min\n",
      "[Parallel(n_jobs=-1)]: Done 3184 tasks      | elapsed: 58.6min\n",
      "[Parallel(n_jobs=-1)]: Done 4034 tasks      | elapsed: 75.0min\n",
      "[Parallel(n_jobs=-1)]: Done 4984 tasks      | elapsed: 94.3min\n",
      "[Parallel(n_jobs=-1)]: Done 6034 tasks      | elapsed: 114.3min\n",
      "[Parallel(n_jobs=-1)]: Done 7184 tasks      | elapsed: 134.1min\n",
      "[Parallel(n_jobs=-1)]: Done 7500 out of 7500 | elapsed: 139.4min finished\n"
     ]
    },
    {
     "name": "stdout",
     "output_type": "stream",
     "text": [
      "XGB: All Features\n",
      "Best alpha:0.63526316\n",
      "Best colsample_bytree:0.21842105\n",
      "Best eta:0.94789474\n",
      "Best gamma:0.01\n",
      "Best max_depth:4\n",
      "Best min_child_weight:3\n",
      "Best n_estimators:1300\n",
      "Best subsample:0.89578947\n",
      "\n",
      "Train RMSE:0.11334\n"
     ]
    }
   ],
   "source": [
    "# New instance of model\n",
    "xgb_model = xgb.XGBRegressor(normalize=True, \n",
    "                             random_state=0, \n",
    "                             objective ='reg:squarederror')\n",
    "\n",
    "#Perform randomized search due to numbe of hyperparameters\n",
    "param_grid = {'alpha': np.linspace(0.01, 1, 20), #L1 Lasso regularization\n",
    "              'colsample_bytree': np.linspace(0.01, 1, 20), #frac of col. used per tree\n",
    "              'eta': np.linspace(0.01, 1, 20), # learning rate\n",
    "              'gamma': np.linspace(0.01, 1, 20), #specifies min loss reduction for split\n",
    "              'lambda': np.linspace(0.01, 1, 20), #L2 Ridge regularization\n",
    "              'max_depth': range(2,11,2), #max depth of tree\n",
    "              'min_child_weight': [1, 1.5, 1.75, 2, 3], #min sum weights required in child\n",
    "              'subsample': np.linspace(0.01, 1, 20), #frac of obvs. randomly sampled per tree\n",
    "              'n_estimators': range(50,1500, 50), #number of trees\n",
    "             }\n",
    "grid = RandomizedSearchCV(estimator=xgb_model,\n",
    "                          param_distributions=param_grid, \n",
    "                          n_iter=3500, #n parameter settings sampled\n",
    "                          scoring=\"neg_root_mean_squared_error\", #eval metric\n",
    "                          verbose=True, #return status update\n",
    "                          cv=5,\n",
    "                          n_jobs=-1)\n",
    "grid.fit(x_train, y_train) #fit training data to model\n",
    "xgb_allFeatures = grid.best_estimator_ #assign tuned parameter to model\n",
    "pickle.dump(xgb_allFeatures, open('saved_models/xgb_allFeatures', 'wb')) #save the model\n",
    "\n",
    "\n",
    "# Print results\n",
    "rmse_train = -grid.best_score_  # best rmse of training dataset\n",
    "\n",
    "print(\"XGB: All Features\")\n",
    "print(\"Best alpha:{0}\".format(round(grid.best_params_[\"alpha\"], 8)))\n",
    "print(\"Best colsample_bytree:{0}\".format(round(grid.best_params_[\"colsample_bytree\"], 8)))\n",
    "print(\"Best eta:{0}\".format(round(grid.best_params_[\"eta\"], 8)))\n",
    "print(\"Best gamma:{0}\".format(round(grid.best_params_[\"gamma\"], 8)))\n",
    "print(\"Best max_depth:{0}\".format(round(grid.best_params_[\"max_depth\"], 8)))\n",
    "print(\"Best min_child_weight:{0}\".format(round(grid.best_params_[\"min_child_weight\"], 8)))\n",
    "print(\"Best n_estimators:{0}\".format(round(grid.best_params_[\"n_estimators\"], 8)))\n",
    "print(\"Best subsample:{0}\\n\".format(round(grid.best_params_[\"subsample\"], 8)))\n",
    "print(\"Train RMSE:{0}\".format(round(rmse_train, 5)))\n",
    "\n",
    "# Export Data for kaggle\n",
    "y_pred = xgb_allFeatures.predict(test_df)\n",
    "predict = pd.DataFrame({\"Id\": range(1461, 2920),\n",
    "                        \"SalePrice\": np.exp(y_pred).tolist()})\n",
    "predict.to_csv(\"saved_predictions/xgb_allFeatures_results.csv\", index=False)\n"
   ]
  },
  {
   "cell_type": "markdown",
   "metadata": {},
   "source": [
    "## Higher Level Models"
   ]
  },
  {
   "cell_type": "markdown",
   "metadata": {},
   "source": [
    "### Average Model"
   ]
  },
  {
   "cell_type": "code",
   "execution_count": 16,
   "metadata": {},
   "outputs": [],
   "source": [
    "class AveragingModels(BaseEstimator, RegressorMixin, TransformerMixin):\n",
    "    def __init__(self, models):\n",
    "        self.models = models\n",
    "        \n",
    "    # Clone the original models and fit the model with data\n",
    "    def fit(self, X, y):\n",
    "        self.models_ = [clone(x) for x in self.models]\n",
    "        \n",
    "        # Train cloned base models\n",
    "        for model in self.models_:\n",
    "            model.fit(X, y)\n",
    "\n",
    "        return self\n",
    "    \n",
    "    #Average the predictions together\n",
    "    def predict(self, X):\n",
    "        y_pred = np.column_stack([model.predict(X) for model in self.models_])\n",
    "        return np.mean(y_pred, axis=1) "
   ]
  },
  {
   "cell_type": "code",
   "execution_count": 18,
   "metadata": {},
   "outputs": [
    {
     "name": "stdout",
     "output_type": "stream",
     "text": [
      "Train RMSE:0.10493\n",
      "Mean Error: $69582.02\n"
     ]
    }
   ],
   "source": [
    "avg_stack_model = AveragingModels(models = (lasso_allFeatures, \n",
    "                                            ridge_allFeatures, \n",
    "                                            elastic_allFeatures, \n",
    "                                            gb_allFeatures, \n",
    "                                            xgb_allFeatures))\n",
    "\n",
    "# Train model\n",
    "avg_stack_model.fit(train_df, response)\n",
    "\n",
    "# Assess performance\n",
    "from preprocess_module import calc_rmse\n",
    "rmse_train, error_train = calc_rmse(avg_stack_model, train_df, response)\n",
    "print(\"Train RMSE:{0}\".format(round(rmse_train, 5)))\n",
    "print(\"Mean Error: ${0}\".format(round(error_train, 2)))\n",
    "y_pred = avg_stack_model.predict(test_df)\n",
    "\n",
    "# Export Data for kaggle\n",
    "y_pred = avg_stack_model.predict(test_df)\n",
    "predict = pd.DataFrame({\"Id\": range(1461, 2920),\n",
    "                        \"SalePrice\": np.exp(y_pred).tolist()})\n",
    "predict.to_csv(\"saved_predictions/avg_stack_results.csv\", index=False)\n"
   ]
  },
  {
   "cell_type": "markdown",
   "metadata": {},
   "source": [
    "### StackedRegressor: Lasso Meta-Regressor"
   ]
  },
  {
   "cell_type": "code",
   "execution_count": 19,
   "metadata": {
    "scrolled": false
   },
   "outputs": [
    {
     "name": "stdout",
     "output_type": "stream",
     "text": [
      "5-fold cross validation scores:\n",
      "\n",
      "RMSE Score:0.10812 [Lasso]\n",
      "RMSE Score:0.11284 [Ridge]\n",
      "RMSE Score:0.10856 [ElasticNet]\n",
      "RMSE Score:0.10481 [GradientBoost]\n",
      "RMSE Score:0.11121 [XGBoost]\n",
      "RMSE Score:0.10413 [StackingCVRegressor]\n"
     ]
    }
   ],
   "source": [
    "stack_reg_lasso_model = StackingCVRegressor(regressors=(lasso_allFeatures,\n",
    "                                                        ridge_allFeatures,\n",
    "                                                        elastic_allFeatures,\n",
    "                                                        gb_allFeatures,\n",
    "                                                        xgb_allFeatures),\n",
    "                                      meta_regressor=lasso_allFeatures,\n",
    "                                      random_state=0, \n",
    "                                      use_features_in_secondary=True)\n",
    "\n",
    "\n",
    "print('5-fold cross validation scores:\\n')\n",
    "for clf, label in zip([lasso_allFeatures, \n",
    "                       ridge_allFeatures, \n",
    "                       elastic_allFeatures, \n",
    "                       gb_allFeatures,\n",
    "                       xgb_allFeatures, \n",
    "                       stack_reg_lasso_model], ['Lasso',\n",
    "                                                'Ridge',\n",
    "                                                'ElasticNet',\n",
    "                                                'GradientBoost',\n",
    "                                                'XGBoost',\n",
    "                                                'StackingCVRegressor']):\n",
    "    scores = cross_val_score(clf, np.array(train_df), np.array(response), cv=5, scoring='neg_root_mean_squared_error')\n",
    "    print(\"RMSE Score:{0} [{1}]\".format(round(-scores.mean(),5), label))\n",
    "\n",
    "# Train model\n",
    "stack_reg_lasso_model.fit(np.array(train_df), np.array(response))\n",
    "y_pred = stack_reg_lasso_model.predict(np.array(train_df))\n",
    "\n",
    "# Export Data for kaggle\n",
    "y_pred = stack_reg_lasso_model.predict(np.array(test_df))\n",
    "predict = pd.DataFrame({\"Id\": range(1461, 2920),\n",
    "                        \"SalePrice\": np.exp(y_pred).tolist()})\n",
    "predict.to_csv(\"saved_predictions/stack_reg_lasso_results.csv\", index=False)\n"
   ]
  },
  {
   "cell_type": "markdown",
   "metadata": {},
   "source": [
    "### StackedRegressor: XGBoost Meta-Regressor"
   ]
  },
  {
   "cell_type": "code",
   "execution_count": 20,
   "metadata": {},
   "outputs": [
    {
     "name": "stdout",
     "output_type": "stream",
     "text": [
      "5-fold cross validation scores:\n",
      "\n",
      "RMSE Score:0.10812 [Lasso]\n",
      "RMSE Score:0.11284 [Ridge]\n",
      "RMSE Score:0.10856 [ElasticNet]\n",
      "RMSE Score:0.10481 [GradientBoost]\n",
      "RMSE Score:0.11121 [XGBoost]\n",
      "RMSE Score:0.10796 [StackingCVRegressor]\n"
     ]
    }
   ],
   "source": [
    "stack_reg_xgb_model = StackingCVRegressor(regressors=(lasso_allFeatures,\n",
    "                                                      ridge_allFeatures,\n",
    "                                                      elastic_allFeatures,\n",
    "                                                      gb_allFeatures,\n",
    "                                                      xgb_allFeatures),\n",
    "                                      meta_regressor=xgb_allFeatures,\n",
    "                                      random_state=0, \n",
    "                                      use_features_in_secondary=True)\n",
    "\n",
    "\n",
    "print('5-fold cross validation scores:\\n')\n",
    "for clf, label in zip([lasso_allFeatures, \n",
    "                       ridge_allFeatures, \n",
    "                       elastic_allFeatures, \n",
    "                       gb_allFeatures,\n",
    "                       xgb_allFeatures, \n",
    "                       stack_reg_xgb_model], ['Lasso',\n",
    "                                              'Ridge',\n",
    "                                              'ElasticNet',\n",
    "                                              'GradientBoost',\n",
    "                                              'XGBoost',\n",
    "                                              'StackingCVRegressor']):\n",
    "    scores = cross_val_score(clf, np.array(train_df), np.array(response), cv=5, scoring='neg_root_mean_squared_error')\n",
    "    print(\"RMSE Score:{0} [{1}]\".format(round(-scores.mean(),5), label))\n",
    "\n",
    "# Train model\n",
    "stack_reg_xgb_model.fit(np.array(train_df), np.array(response))\n",
    "y_pred = stack_reg_xgb_model.predict(np.array(train_df))\n",
    "\n",
    "# Export Data for kaggle\n",
    "y_pred = stack_reg_xgb_model.predict(np.array(test_df))\n",
    "predict = pd.DataFrame({\"Id\": range(1461, 2920),\n",
    "                        \"SalePrice\": np.exp(y_pred).tolist()})\n",
    "predict.to_csv(\"saved_predictions/stack_reg_xgb_model.csv\", index=False)\n",
    "\n"
   ]
  },
  {
   "cell_type": "code",
   "execution_count": 21,
   "metadata": {},
   "outputs": [
    {
     "name": "stdout",
     "output_type": "stream",
     "text": [
      "5-fold cross validation scores:\n",
      "\n",
      "RMSE Score:0.10812 [Lasso]\n",
      "RMSE Score:0.11284 [Ridge]\n",
      "RMSE Score:0.10856 [ElasticNet]\n",
      "RMSE Score:0.10481 [GradientBoost]\n",
      "RMSE Score:0.11121 [XGBoost]\n",
      "RMSE Score:0.10629 [StackingCVRegressor]\n"
     ]
    }
   ],
   "source": [
    "#Reduce the number of regressors\n",
    "stack_reg_xgb_model = StackingCVRegressor(regressors=(lasso_allFeatures,\n",
    "#                                                       ridge_allFeatures,\n",
    "                                                      elastic_allFeatures,\n",
    "                                                      gb_allFeatures,\n",
    "                                                      xgb_allFeatures),\n",
    "                                      meta_regressor=xgb_allFeatures,\n",
    "                                      random_state=0, \n",
    "                                      use_features_in_secondary=True)\n",
    "\n",
    "\n",
    "print('5-fold cross validation scores:\\n')\n",
    "for clf, label in zip([lasso_allFeatures, \n",
    "                       ridge_allFeatures, \n",
    "                       elastic_allFeatures, \n",
    "                       gb_allFeatures,\n",
    "                       xgb_allFeatures, \n",
    "                       stack_reg_xgb_model], ['Lasso',\n",
    "                                              'Ridge',\n",
    "                                              'ElasticNet',\n",
    "                                              'GradientBoost',\n",
    "                                              'XGBoost',\n",
    "                                              'StackingCVRegressor']):\n",
    "    scores = cross_val_score(clf, np.array(train_df), np.array(response), cv=5, scoring='neg_root_mean_squared_error')\n",
    "    print(\"RMSE Score:{0} [{1}]\".format(round(-scores.mean(),5), label))\n",
    "\n",
    "# Train model\n",
    "stack_reg_xgb_model.fit(np.array(train_df), np.array(response))\n",
    "y_pred = stack_reg_xgb_model.predict(np.array(train_df))\n",
    "\n",
    "# Export Data for kaggle\n",
    "y_pred = stack_reg_xgb_model.predict(np.array(test_df))\n",
    "predict = pd.DataFrame({\"Id\": range(1461, 2920),\n",
    "                        \"SalePrice\": np.exp(y_pred).tolist()})\n",
    "predict.to_csv(\"saved_predictions/stack_reg_xgb_model2.csv\", index=False)"
   ]
  },
  {
   "cell_type": "code",
   "execution_count": null,
   "metadata": {},
   "outputs": [],
   "source": []
  }
 ],
 "metadata": {
  "kernelspec": {
   "display_name": "Python 3",
   "language": "python",
   "name": "python3"
  },
  "language_info": {
   "codemirror_mode": {
    "name": "ipython",
    "version": 3
   },
   "file_extension": ".py",
   "mimetype": "text/x-python",
   "name": "python",
   "nbconvert_exporter": "python",
   "pygments_lexer": "ipython3",
   "version": "3.7.4"
  }
 },
 "nbformat": 4,
 "nbformat_minor": 2
}
