{
 "cells": [
  {
   "cell_type": "code",
   "execution_count": 1,
   "metadata": {},
   "outputs": [],
   "source": [
    "# import the requisites\n",
    "import pandas as pd\n",
    "from sklearn.datasets import load_boston"
   ]
  },
  {
   "cell_type": "code",
   "execution_count": 2,
   "metadata": {},
   "outputs": [],
   "source": [
    "bos = load_boston()"
   ]
  },
  {
   "cell_type": "code",
   "execution_count": 3,
   "metadata": {},
   "outputs": [],
   "source": [
    "X = pd.DataFrame( bos.data, columns = bos.feature_names )\n",
    "y = pd.Series( bos.target, name = 'medv' )"
   ]
  },
  {
   "cell_type": "code",
   "execution_count": 4,
   "metadata": {},
   "outputs": [
    {
     "data": {
      "text/html": [
       "<div>\n",
       "<style scoped>\n",
       "    .dataframe tbody tr th:only-of-type {\n",
       "        vertical-align: middle;\n",
       "    }\n",
       "\n",
       "    .dataframe tbody tr th {\n",
       "        vertical-align: top;\n",
       "    }\n",
       "\n",
       "    .dataframe thead th {\n",
       "        text-align: right;\n",
       "    }\n",
       "</style>\n",
       "<table border=\"1\" class=\"dataframe\">\n",
       "  <thead>\n",
       "    <tr style=\"text-align: right;\">\n",
       "      <th></th>\n",
       "      <th>CRIM</th>\n",
       "      <th>ZN</th>\n",
       "      <th>INDUS</th>\n",
       "      <th>CHAS</th>\n",
       "      <th>NOX</th>\n",
       "      <th>RM</th>\n",
       "      <th>AGE</th>\n",
       "      <th>DIS</th>\n",
       "      <th>RAD</th>\n",
       "      <th>TAX</th>\n",
       "      <th>PTRATIO</th>\n",
       "      <th>B</th>\n",
       "      <th>LSTAT</th>\n",
       "    </tr>\n",
       "  </thead>\n",
       "  <tbody>\n",
       "    <tr>\n",
       "      <th>0</th>\n",
       "      <td>0.00632</td>\n",
       "      <td>18.0</td>\n",
       "      <td>2.31</td>\n",
       "      <td>0.0</td>\n",
       "      <td>0.538</td>\n",
       "      <td>6.575</td>\n",
       "      <td>65.2</td>\n",
       "      <td>4.0900</td>\n",
       "      <td>1.0</td>\n",
       "      <td>296.0</td>\n",
       "      <td>15.3</td>\n",
       "      <td>396.90</td>\n",
       "      <td>4.98</td>\n",
       "    </tr>\n",
       "    <tr>\n",
       "      <th>1</th>\n",
       "      <td>0.02731</td>\n",
       "      <td>0.0</td>\n",
       "      <td>7.07</td>\n",
       "      <td>0.0</td>\n",
       "      <td>0.469</td>\n",
       "      <td>6.421</td>\n",
       "      <td>78.9</td>\n",
       "      <td>4.9671</td>\n",
       "      <td>2.0</td>\n",
       "      <td>242.0</td>\n",
       "      <td>17.8</td>\n",
       "      <td>396.90</td>\n",
       "      <td>9.14</td>\n",
       "    </tr>\n",
       "    <tr>\n",
       "      <th>2</th>\n",
       "      <td>0.02729</td>\n",
       "      <td>0.0</td>\n",
       "      <td>7.07</td>\n",
       "      <td>0.0</td>\n",
       "      <td>0.469</td>\n",
       "      <td>7.185</td>\n",
       "      <td>61.1</td>\n",
       "      <td>4.9671</td>\n",
       "      <td>2.0</td>\n",
       "      <td>242.0</td>\n",
       "      <td>17.8</td>\n",
       "      <td>392.83</td>\n",
       "      <td>4.03</td>\n",
       "    </tr>\n",
       "    <tr>\n",
       "      <th>3</th>\n",
       "      <td>0.03237</td>\n",
       "      <td>0.0</td>\n",
       "      <td>2.18</td>\n",
       "      <td>0.0</td>\n",
       "      <td>0.458</td>\n",
       "      <td>6.998</td>\n",
       "      <td>45.8</td>\n",
       "      <td>6.0622</td>\n",
       "      <td>3.0</td>\n",
       "      <td>222.0</td>\n",
       "      <td>18.7</td>\n",
       "      <td>394.63</td>\n",
       "      <td>2.94</td>\n",
       "    </tr>\n",
       "    <tr>\n",
       "      <th>4</th>\n",
       "      <td>0.06905</td>\n",
       "      <td>0.0</td>\n",
       "      <td>2.18</td>\n",
       "      <td>0.0</td>\n",
       "      <td>0.458</td>\n",
       "      <td>7.147</td>\n",
       "      <td>54.2</td>\n",
       "      <td>6.0622</td>\n",
       "      <td>3.0</td>\n",
       "      <td>222.0</td>\n",
       "      <td>18.7</td>\n",
       "      <td>396.90</td>\n",
       "      <td>5.33</td>\n",
       "    </tr>\n",
       "  </tbody>\n",
       "</table>\n",
       "</div>"
      ],
      "text/plain": [
       "      CRIM    ZN  INDUS  CHAS    NOX     RM   AGE     DIS  RAD    TAX  \\\n",
       "0  0.00632  18.0   2.31   0.0  0.538  6.575  65.2  4.0900  1.0  296.0   \n",
       "1  0.02731   0.0   7.07   0.0  0.469  6.421  78.9  4.9671  2.0  242.0   \n",
       "2  0.02729   0.0   7.07   0.0  0.469  7.185  61.1  4.9671  2.0  242.0   \n",
       "3  0.03237   0.0   2.18   0.0  0.458  6.998  45.8  6.0622  3.0  222.0   \n",
       "4  0.06905   0.0   2.18   0.0  0.458  7.147  54.2  6.0622  3.0  222.0   \n",
       "\n",
       "   PTRATIO       B  LSTAT  \n",
       "0     15.3  396.90   4.98  \n",
       "1     17.8  396.90   9.14  \n",
       "2     17.8  392.83   4.03  \n",
       "3     18.7  394.63   2.94  \n",
       "4     18.7  396.90   5.33  "
      ]
     },
     "execution_count": 4,
     "metadata": {},
     "output_type": "execute_result"
    }
   ],
   "source": [
    "X.head()"
   ]
  },
  {
   "cell_type": "code",
   "execution_count": 5,
   "metadata": {},
   "outputs": [
    {
     "data": {
      "text/plain": [
       "0.0    471\n",
       "1.0     35\n",
       "Name: CHAS, dtype: int64"
      ]
     },
     "execution_count": 5,
     "metadata": {},
     "output_type": "execute_result"
    }
   ],
   "source": [
    "X.CHAS.value_counts(dropna=False)"
   ]
  },
  {
   "cell_type": "code",
   "execution_count": 6,
   "metadata": {
    "scrolled": true
   },
   "outputs": [
    {
     "data": {
      "text/plain": [
       "0.0      372\n",
       "20.0      21\n",
       "80.0      15\n",
       "12.5      10\n",
       "22.0      10\n",
       "25.0      10\n",
       "40.0       7\n",
       "45.0       6\n",
       "30.0       6\n",
       "90.0       5\n",
       "21.0       4\n",
       "95.0       4\n",
       "60.0       4\n",
       "33.0       4\n",
       "75.0       3\n",
       "35.0       3\n",
       "28.0       3\n",
       "55.0       3\n",
       "52.5       3\n",
       "70.0       3\n",
       "34.0       3\n",
       "85.0       2\n",
       "82.5       2\n",
       "17.5       1\n",
       "100.0      1\n",
       "18.0       1\n",
       "Name: ZN, dtype: int64"
      ]
     },
     "execution_count": 6,
     "metadata": {},
     "output_type": "execute_result"
    }
   ],
   "source": [
    "X.ZN.value_counts(dropna = False)"
   ]
  },
  {
   "cell_type": "code",
   "execution_count": 7,
   "metadata": {},
   "outputs": [
    {
     "data": {
      "text/plain": [
       "24.0    132\n",
       "5.0     115\n",
       "4.0     110\n",
       "3.0      38\n",
       "6.0      26\n",
       "8.0      24\n",
       "2.0      24\n",
       "1.0      20\n",
       "7.0      17\n",
       "Name: RAD, dtype: int64"
      ]
     },
     "execution_count": 7,
     "metadata": {},
     "output_type": "execute_result"
    }
   ],
   "source": [
    "X.RAD.value_counts()"
   ]
  },
  {
   "cell_type": "code",
   "execution_count": 5,
   "metadata": {},
   "outputs": [],
   "source": [
    "# try to keep interpretable\n",
    "from sklearn.model_selection import train_test_split\n",
    "\n",
    "Xtrain, Xtest, ytrain, ytest = train_test_split( X,y, test_size = 0.2  )"
   ]
  },
  {
   "cell_type": "markdown",
   "metadata": {},
   "source": [
    "## Transform the training feature matrix"
   ]
  },
  {
   "cell_type": "markdown",
   "metadata": {},
   "source": [
    "#### One hot encoding"
   ]
  },
  {
   "cell_type": "code",
   "execution_count": 7,
   "metadata": {},
   "outputs": [
    {
     "data": {
      "text/html": [
       "<div>\n",
       "<style scoped>\n",
       "    .dataframe tbody tr th:only-of-type {\n",
       "        vertical-align: middle;\n",
       "    }\n",
       "\n",
       "    .dataframe tbody tr th {\n",
       "        vertical-align: top;\n",
       "    }\n",
       "\n",
       "    .dataframe thead th {\n",
       "        text-align: right;\n",
       "    }\n",
       "</style>\n",
       "<table border=\"1\" class=\"dataframe\">\n",
       "  <thead>\n",
       "    <tr style=\"text-align: right;\">\n",
       "      <th></th>\n",
       "      <th>CRIM</th>\n",
       "      <th>ZN</th>\n",
       "      <th>INDUS</th>\n",
       "      <th>CHAS</th>\n",
       "      <th>NOX</th>\n",
       "      <th>RM</th>\n",
       "      <th>AGE</th>\n",
       "      <th>DIS</th>\n",
       "      <th>TAX</th>\n",
       "      <th>PTRATIO</th>\n",
       "      <th>B</th>\n",
       "      <th>LSTAT</th>\n",
       "      <th>RAD_2.0</th>\n",
       "      <th>RAD_3.0</th>\n",
       "      <th>RAD_4.0</th>\n",
       "      <th>RAD_5.0</th>\n",
       "      <th>RAD_6.0</th>\n",
       "      <th>RAD_7.0</th>\n",
       "      <th>RAD_8.0</th>\n",
       "      <th>RAD_24.0</th>\n",
       "    </tr>\n",
       "  </thead>\n",
       "  <tbody>\n",
       "    <tr>\n",
       "      <th>0</th>\n",
       "      <td>0.08707</td>\n",
       "      <td>0.0</td>\n",
       "      <td>12.83</td>\n",
       "      <td>0.0</td>\n",
       "      <td>0.437</td>\n",
       "      <td>6.140</td>\n",
       "      <td>45.8</td>\n",
       "      <td>4.0905</td>\n",
       "      <td>398.0</td>\n",
       "      <td>18.7</td>\n",
       "      <td>386.96</td>\n",
       "      <td>10.27</td>\n",
       "      <td>0.0</td>\n",
       "      <td>0.0</td>\n",
       "      <td>0.0</td>\n",
       "      <td>1.0</td>\n",
       "      <td>0.0</td>\n",
       "      <td>0.0</td>\n",
       "      <td>0.0</td>\n",
       "      <td>0.0</td>\n",
       "    </tr>\n",
       "    <tr>\n",
       "      <th>1</th>\n",
       "      <td>0.06617</td>\n",
       "      <td>0.0</td>\n",
       "      <td>3.24</td>\n",
       "      <td>0.0</td>\n",
       "      <td>0.460</td>\n",
       "      <td>5.868</td>\n",
       "      <td>25.8</td>\n",
       "      <td>5.2146</td>\n",
       "      <td>430.0</td>\n",
       "      <td>16.9</td>\n",
       "      <td>382.44</td>\n",
       "      <td>9.97</td>\n",
       "      <td>0.0</td>\n",
       "      <td>0.0</td>\n",
       "      <td>1.0</td>\n",
       "      <td>0.0</td>\n",
       "      <td>0.0</td>\n",
       "      <td>0.0</td>\n",
       "      <td>0.0</td>\n",
       "      <td>0.0</td>\n",
       "    </tr>\n",
       "    <tr>\n",
       "      <th>2</th>\n",
       "      <td>0.02543</td>\n",
       "      <td>55.0</td>\n",
       "      <td>3.78</td>\n",
       "      <td>0.0</td>\n",
       "      <td>0.484</td>\n",
       "      <td>6.696</td>\n",
       "      <td>56.4</td>\n",
       "      <td>5.7321</td>\n",
       "      <td>370.0</td>\n",
       "      <td>17.6</td>\n",
       "      <td>396.90</td>\n",
       "      <td>7.18</td>\n",
       "      <td>0.0</td>\n",
       "      <td>0.0</td>\n",
       "      <td>0.0</td>\n",
       "      <td>1.0</td>\n",
       "      <td>0.0</td>\n",
       "      <td>0.0</td>\n",
       "      <td>0.0</td>\n",
       "      <td>0.0</td>\n",
       "    </tr>\n",
       "    <tr>\n",
       "      <th>3</th>\n",
       "      <td>0.01301</td>\n",
       "      <td>35.0</td>\n",
       "      <td>1.52</td>\n",
       "      <td>0.0</td>\n",
       "      <td>0.442</td>\n",
       "      <td>7.241</td>\n",
       "      <td>49.3</td>\n",
       "      <td>7.0379</td>\n",
       "      <td>284.0</td>\n",
       "      <td>15.5</td>\n",
       "      <td>394.74</td>\n",
       "      <td>5.49</td>\n",
       "      <td>0.0</td>\n",
       "      <td>0.0</td>\n",
       "      <td>0.0</td>\n",
       "      <td>0.0</td>\n",
       "      <td>0.0</td>\n",
       "      <td>0.0</td>\n",
       "      <td>0.0</td>\n",
       "      <td>0.0</td>\n",
       "    </tr>\n",
       "    <tr>\n",
       "      <th>4</th>\n",
       "      <td>0.59005</td>\n",
       "      <td>0.0</td>\n",
       "      <td>21.89</td>\n",
       "      <td>0.0</td>\n",
       "      <td>0.624</td>\n",
       "      <td>6.372</td>\n",
       "      <td>97.9</td>\n",
       "      <td>2.3274</td>\n",
       "      <td>437.0</td>\n",
       "      <td>21.2</td>\n",
       "      <td>385.76</td>\n",
       "      <td>11.12</td>\n",
       "      <td>0.0</td>\n",
       "      <td>0.0</td>\n",
       "      <td>1.0</td>\n",
       "      <td>0.0</td>\n",
       "      <td>0.0</td>\n",
       "      <td>0.0</td>\n",
       "      <td>0.0</td>\n",
       "      <td>0.0</td>\n",
       "    </tr>\n",
       "  </tbody>\n",
       "</table>\n",
       "</div>"
      ],
      "text/plain": [
       "      CRIM    ZN  INDUS  CHAS    NOX     RM   AGE     DIS    TAX  PTRATIO  \\\n",
       "0  0.08707   0.0  12.83   0.0  0.437  6.140  45.8  4.0905  398.0     18.7   \n",
       "1  0.06617   0.0   3.24   0.0  0.460  5.868  25.8  5.2146  430.0     16.9   \n",
       "2  0.02543  55.0   3.78   0.0  0.484  6.696  56.4  5.7321  370.0     17.6   \n",
       "3  0.01301  35.0   1.52   0.0  0.442  7.241  49.3  7.0379  284.0     15.5   \n",
       "4  0.59005   0.0  21.89   0.0  0.624  6.372  97.9  2.3274  437.0     21.2   \n",
       "\n",
       "        B  LSTAT  RAD_2.0  RAD_3.0  RAD_4.0  RAD_5.0  RAD_6.0  RAD_7.0  \\\n",
       "0  386.96  10.27      0.0      0.0      0.0      1.0      0.0      0.0   \n",
       "1  382.44   9.97      0.0      0.0      1.0      0.0      0.0      0.0   \n",
       "2  396.90   7.18      0.0      0.0      0.0      1.0      0.0      0.0   \n",
       "3  394.74   5.49      0.0      0.0      0.0      0.0      0.0      0.0   \n",
       "4  385.76  11.12      0.0      0.0      1.0      0.0      0.0      0.0   \n",
       "\n",
       "   RAD_8.0  RAD_24.0  \n",
       "0      0.0       0.0  \n",
       "1      0.0       0.0  \n",
       "2      0.0       0.0  \n",
       "3      0.0       0.0  \n",
       "4      0.0       0.0  "
      ]
     },
     "execution_count": 7,
     "metadata": {},
     "output_type": "execute_result"
    }
   ],
   "source": [
    "## FOR OLDER VERSIONS OF SKLEARN\n",
    "# One hot encoding of the RAD column\n",
    "from sklearn.preprocessing import OneHotEncoder\n",
    "RAD_ohe = OneHotEncoder( categories = 'auto', drop='first', sparse = False )\n",
    "RAD_enc = RAD_ohe.fit_transform( Xtrain[['RAD']] )\n",
    "RAD_enc = pd.DataFrame( RAD_enc, columns=RAD_ohe.get_feature_names(['RAD'])[1:] )\n",
    "Xtrain = pd.concat( (Xtrain.drop([\"RAD\"], axis=1).reset_index(drop = True), RAD_enc), axis = 1 )\n",
    "Xtrain.head()"
   ]
  },
  {
   "cell_type": "code",
   "execution_count": null,
   "metadata": {},
   "outputs": [],
   "source": [
    "## FOR NEWER VERSIONS OF SKLEARN\n",
    "#One hot encoding of the RAD column\n",
    "#from sklearn.preprocessing import OneHotEncoder\n",
    "RAD_ohe = OneHotEncoder( drop='first', sparse = False )\n",
    "RAD_enc = RAD_ohe.fit_transform( Xtrain[['RAD']] )\n",
    "RAD_enc = pd.DataFrame( RAD_enc, columns=RAD_ohe.get_feature_names(['RAD']) )\n",
    "Xtrain = pd.concat( (Xtrain.drop([\"RAD\"], axis=1).reset_index(drop = True), RAD_enc), axis = 1 )\n",
    "Xtrain.head()"
   ]
  },
  {
   "cell_type": "code",
   "execution_count": 8,
   "metadata": {},
   "outputs": [],
   "source": [
    "## FOR OLDER VERSIONS OF SKLEARN\n",
    "'''\n",
    "def repro_RAD_ohe( X_df ):\n",
    "    df = X_df.copy()\n",
    "    RAD_enc = RAD_ohe.transform( df[['RAD']] )\n",
    "    RAD_enc = pd.DataFrame( RAD_enc, columns=RAD_ohe.get_feature_names(['RAD'])[1:] )\n",
    "    df = pd.concat( (df.drop([\"RAD\"], axis=1).reset_index(drop = True), RAD_enc), axis = 1 )\n",
    "    return df\n",
    "'''"
   ]
  },
  {
   "cell_type": "code",
   "execution_count": null,
   "metadata": {},
   "outputs": [],
   "source": [
    "## FOR NEWER VERSIONS OF SKLEARN\n",
    "#def repro_RAD_ohe( X_df ):\n",
    "#    df = X_df.copy()\n",
    "#    RAD_enc = RAD_ohe.transform( df[['RAD']] )\n",
    "#    RAD_enc = pd.DataFrame( RAD_enc, columns=RAD_ohe.get_feature_names(['RAD']) )\n",
    "#    df = pd.concat( (df.drop([\"RAD\"], axis=1).reset_index(drop = True), RAD_enc), axis = 1 )\n",
    "#    return df"
   ]
  },
  {
   "cell_type": "code",
   "execution_count": 12,
   "metadata": {},
   "outputs": [
    {
     "data": {
      "text/html": [
       "<div>\n",
       "<style scoped>\n",
       "    .dataframe tbody tr th:only-of-type {\n",
       "        vertical-align: middle;\n",
       "    }\n",
       "\n",
       "    .dataframe tbody tr th {\n",
       "        vertical-align: top;\n",
       "    }\n",
       "\n",
       "    .dataframe thead th {\n",
       "        text-align: right;\n",
       "    }\n",
       "</style>\n",
       "<table border=\"1\" class=\"dataframe\">\n",
       "  <thead>\n",
       "    <tr style=\"text-align: right;\">\n",
       "      <th></th>\n",
       "      <th>CRIM</th>\n",
       "      <th>ZN</th>\n",
       "      <th>INDUS</th>\n",
       "      <th>CHAS</th>\n",
       "      <th>NOX</th>\n",
       "      <th>RM</th>\n",
       "      <th>AGE</th>\n",
       "      <th>DIS</th>\n",
       "      <th>TAX</th>\n",
       "      <th>PTRATIO</th>\n",
       "      <th>B</th>\n",
       "      <th>LSTAT</th>\n",
       "      <th>RAD_2.0</th>\n",
       "      <th>RAD_3.0</th>\n",
       "      <th>RAD_4.0</th>\n",
       "      <th>RAD_5.0</th>\n",
       "      <th>RAD_6.0</th>\n",
       "      <th>RAD_7.0</th>\n",
       "      <th>RAD_8.0</th>\n",
       "      <th>RAD_24.0</th>\n",
       "    </tr>\n",
       "  </thead>\n",
       "  <tbody>\n",
       "    <tr>\n",
       "      <th>0</th>\n",
       "      <td>0.15098</td>\n",
       "      <td>0.0</td>\n",
       "      <td>10.01</td>\n",
       "      <td>0.0</td>\n",
       "      <td>0.547</td>\n",
       "      <td>6.021</td>\n",
       "      <td>82.6</td>\n",
       "      <td>2.7474</td>\n",
       "      <td>432.0</td>\n",
       "      <td>17.8</td>\n",
       "      <td>394.51</td>\n",
       "      <td>10.3</td>\n",
       "      <td>0.0</td>\n",
       "      <td>0.0</td>\n",
       "      <td>0.0</td>\n",
       "      <td>0.0</td>\n",
       "      <td>1.0</td>\n",
       "      <td>0.0</td>\n",
       "      <td>0.0</td>\n",
       "      <td>0.0</td>\n",
       "    </tr>\n",
       "  </tbody>\n",
       "</table>\n",
       "</div>"
      ],
      "text/plain": [
       "      CRIM   ZN  INDUS  CHAS    NOX     RM   AGE     DIS    TAX  PTRATIO  \\\n",
       "0  0.15098  0.0  10.01   0.0  0.547  6.021  82.6  2.7474  432.0     17.8   \n",
       "\n",
       "        B  LSTAT  RAD_2.0  RAD_3.0  RAD_4.0  RAD_5.0  RAD_6.0  RAD_7.0  \\\n",
       "0  394.51   10.3      0.0      0.0      0.0      0.0      1.0      0.0   \n",
       "\n",
       "   RAD_8.0  RAD_24.0  \n",
       "0      0.0       0.0  "
      ]
     },
     "execution_count": 12,
     "metadata": {},
     "output_type": "execute_result"
    }
   ],
   "source": [
    "repro_RAD_ohe(Xtest.iloc[3:4])"
   ]
  },
  {
   "cell_type": "markdown",
   "metadata": {},
   "source": [
    "#### Transform and Remove Cols ZN and CHAS"
   ]
  },
  {
   "cell_type": "code",
   "execution_count": 13,
   "metadata": {},
   "outputs": [
    {
     "data": {
      "text/html": [
       "<div>\n",
       "<style scoped>\n",
       "    .dataframe tbody tr th:only-of-type {\n",
       "        vertical-align: middle;\n",
       "    }\n",
       "\n",
       "    .dataframe tbody tr th {\n",
       "        vertical-align: top;\n",
       "    }\n",
       "\n",
       "    .dataframe thead th {\n",
       "        text-align: right;\n",
       "    }\n",
       "</style>\n",
       "<table border=\"1\" class=\"dataframe\">\n",
       "  <thead>\n",
       "    <tr style=\"text-align: right;\">\n",
       "      <th></th>\n",
       "      <th>CRIM</th>\n",
       "      <th>INDUS</th>\n",
       "      <th>NOX</th>\n",
       "      <th>RM</th>\n",
       "      <th>AGE</th>\n",
       "      <th>DIS</th>\n",
       "      <th>TAX</th>\n",
       "      <th>PTRATIO</th>\n",
       "      <th>B</th>\n",
       "      <th>LSTAT</th>\n",
       "      <th>RAD_2.0</th>\n",
       "      <th>RAD_3.0</th>\n",
       "      <th>RAD_4.0</th>\n",
       "      <th>RAD_5.0</th>\n",
       "      <th>RAD_6.0</th>\n",
       "      <th>RAD_7.0</th>\n",
       "      <th>RAD_8.0</th>\n",
       "      <th>RAD_24.0</th>\n",
       "      <th>ZN_bool</th>\n",
       "    </tr>\n",
       "  </thead>\n",
       "  <tbody>\n",
       "    <tr>\n",
       "      <th>0</th>\n",
       "      <td>0.08707</td>\n",
       "      <td>12.83</td>\n",
       "      <td>0.437</td>\n",
       "      <td>6.140</td>\n",
       "      <td>45.8</td>\n",
       "      <td>4.0905</td>\n",
       "      <td>398.0</td>\n",
       "      <td>18.7</td>\n",
       "      <td>386.96</td>\n",
       "      <td>10.27</td>\n",
       "      <td>0.0</td>\n",
       "      <td>0.0</td>\n",
       "      <td>0.0</td>\n",
       "      <td>1.0</td>\n",
       "      <td>0.0</td>\n",
       "      <td>0.0</td>\n",
       "      <td>0.0</td>\n",
       "      <td>0.0</td>\n",
       "      <td>0</td>\n",
       "    </tr>\n",
       "    <tr>\n",
       "      <th>1</th>\n",
       "      <td>0.06617</td>\n",
       "      <td>3.24</td>\n",
       "      <td>0.460</td>\n",
       "      <td>5.868</td>\n",
       "      <td>25.8</td>\n",
       "      <td>5.2146</td>\n",
       "      <td>430.0</td>\n",
       "      <td>16.9</td>\n",
       "      <td>382.44</td>\n",
       "      <td>9.97</td>\n",
       "      <td>0.0</td>\n",
       "      <td>0.0</td>\n",
       "      <td>1.0</td>\n",
       "      <td>0.0</td>\n",
       "      <td>0.0</td>\n",
       "      <td>0.0</td>\n",
       "      <td>0.0</td>\n",
       "      <td>0.0</td>\n",
       "      <td>0</td>\n",
       "    </tr>\n",
       "    <tr>\n",
       "      <th>2</th>\n",
       "      <td>0.02543</td>\n",
       "      <td>3.78</td>\n",
       "      <td>0.484</td>\n",
       "      <td>6.696</td>\n",
       "      <td>56.4</td>\n",
       "      <td>5.7321</td>\n",
       "      <td>370.0</td>\n",
       "      <td>17.6</td>\n",
       "      <td>396.90</td>\n",
       "      <td>7.18</td>\n",
       "      <td>0.0</td>\n",
       "      <td>0.0</td>\n",
       "      <td>0.0</td>\n",
       "      <td>1.0</td>\n",
       "      <td>0.0</td>\n",
       "      <td>0.0</td>\n",
       "      <td>0.0</td>\n",
       "      <td>0.0</td>\n",
       "      <td>1</td>\n",
       "    </tr>\n",
       "    <tr>\n",
       "      <th>3</th>\n",
       "      <td>0.01301</td>\n",
       "      <td>1.52</td>\n",
       "      <td>0.442</td>\n",
       "      <td>7.241</td>\n",
       "      <td>49.3</td>\n",
       "      <td>7.0379</td>\n",
       "      <td>284.0</td>\n",
       "      <td>15.5</td>\n",
       "      <td>394.74</td>\n",
       "      <td>5.49</td>\n",
       "      <td>0.0</td>\n",
       "      <td>0.0</td>\n",
       "      <td>0.0</td>\n",
       "      <td>0.0</td>\n",
       "      <td>0.0</td>\n",
       "      <td>0.0</td>\n",
       "      <td>0.0</td>\n",
       "      <td>0.0</td>\n",
       "      <td>1</td>\n",
       "    </tr>\n",
       "    <tr>\n",
       "      <th>4</th>\n",
       "      <td>0.59005</td>\n",
       "      <td>21.89</td>\n",
       "      <td>0.624</td>\n",
       "      <td>6.372</td>\n",
       "      <td>97.9</td>\n",
       "      <td>2.3274</td>\n",
       "      <td>437.0</td>\n",
       "      <td>21.2</td>\n",
       "      <td>385.76</td>\n",
       "      <td>11.12</td>\n",
       "      <td>0.0</td>\n",
       "      <td>0.0</td>\n",
       "      <td>1.0</td>\n",
       "      <td>0.0</td>\n",
       "      <td>0.0</td>\n",
       "      <td>0.0</td>\n",
       "      <td>0.0</td>\n",
       "      <td>0.0</td>\n",
       "      <td>0</td>\n",
       "    </tr>\n",
       "  </tbody>\n",
       "</table>\n",
       "</div>"
      ],
      "text/plain": [
       "      CRIM  INDUS    NOX     RM   AGE     DIS    TAX  PTRATIO       B  LSTAT  \\\n",
       "0  0.08707  12.83  0.437  6.140  45.8  4.0905  398.0     18.7  386.96  10.27   \n",
       "1  0.06617   3.24  0.460  5.868  25.8  5.2146  430.0     16.9  382.44   9.97   \n",
       "2  0.02543   3.78  0.484  6.696  56.4  5.7321  370.0     17.6  396.90   7.18   \n",
       "3  0.01301   1.52  0.442  7.241  49.3  7.0379  284.0     15.5  394.74   5.49   \n",
       "4  0.59005  21.89  0.624  6.372  97.9  2.3274  437.0     21.2  385.76  11.12   \n",
       "\n",
       "   RAD_2.0  RAD_3.0  RAD_4.0  RAD_5.0  RAD_6.0  RAD_7.0  RAD_8.0  RAD_24.0  \\\n",
       "0      0.0      0.0      0.0      1.0      0.0      0.0      0.0       0.0   \n",
       "1      0.0      0.0      1.0      0.0      0.0      0.0      0.0       0.0   \n",
       "2      0.0      0.0      0.0      1.0      0.0      0.0      0.0       0.0   \n",
       "3      0.0      0.0      0.0      0.0      0.0      0.0      0.0       0.0   \n",
       "4      0.0      0.0      1.0      0.0      0.0      0.0      0.0       0.0   \n",
       "\n",
       "   ZN_bool  \n",
       "0        0  \n",
       "1        0  \n",
       "2        1  \n",
       "3        1  \n",
       "4        0  "
      ]
     },
     "execution_count": 13,
     "metadata": {},
     "output_type": "execute_result"
    }
   ],
   "source": [
    "Xtrain['ZN_bool'] = Xtrain.ZN.apply( lambda x: 1 if x > 0 else 0 )\n",
    "Xtrain = Xtrain.drop(['ZN', 'CHAS'], axis = 1)\n",
    "Xtrain.head()"
   ]
  },
  {
   "cell_type": "code",
   "execution_count": 14,
   "metadata": {},
   "outputs": [],
   "source": [
    "def repro_ZN_CHAS( X_df ):\n",
    "    df = X_df.copy()\n",
    "    df['ZN_bool'] = df.ZN.apply( lambda x: 1 if x > 0 else 0 )\n",
    "    return df.drop( ['ZN','CHAS'], axis = 1 )"
   ]
  },
  {
   "cell_type": "markdown",
   "metadata": {},
   "source": [
    "#### Standardize Scale Columns"
   ]
  },
  {
   "cell_type": "code",
   "execution_count": 15,
   "metadata": {},
   "outputs": [
    {
     "data": {
      "text/html": [
       "<div>\n",
       "<style scoped>\n",
       "    .dataframe tbody tr th:only-of-type {\n",
       "        vertical-align: middle;\n",
       "    }\n",
       "\n",
       "    .dataframe tbody tr th {\n",
       "        vertical-align: top;\n",
       "    }\n",
       "\n",
       "    .dataframe thead th {\n",
       "        text-align: right;\n",
       "    }\n",
       "</style>\n",
       "<table border=\"1\" class=\"dataframe\">\n",
       "  <thead>\n",
       "    <tr style=\"text-align: right;\">\n",
       "      <th></th>\n",
       "      <th>CRIM</th>\n",
       "      <th>INDUS</th>\n",
       "      <th>NOX</th>\n",
       "      <th>RM</th>\n",
       "      <th>AGE</th>\n",
       "      <th>DIS</th>\n",
       "      <th>TAX</th>\n",
       "      <th>PTRATIO</th>\n",
       "      <th>B</th>\n",
       "      <th>LSTAT</th>\n",
       "      <th>RAD_2.0</th>\n",
       "      <th>RAD_3.0</th>\n",
       "      <th>RAD_4.0</th>\n",
       "      <th>RAD_5.0</th>\n",
       "      <th>RAD_6.0</th>\n",
       "      <th>RAD_7.0</th>\n",
       "      <th>RAD_8.0</th>\n",
       "      <th>RAD_24.0</th>\n",
       "      <th>ZN_bool</th>\n",
       "    </tr>\n",
       "  </thead>\n",
       "  <tbody>\n",
       "    <tr>\n",
       "      <th>0</th>\n",
       "      <td>-0.458933</td>\n",
       "      <td>0.246458</td>\n",
       "      <td>-0.996666</td>\n",
       "      <td>-0.202272</td>\n",
       "      <td>-0.771223</td>\n",
       "      <td>0.119037</td>\n",
       "      <td>-0.078972</td>\n",
       "      <td>0.106428</td>\n",
       "      <td>0.342351</td>\n",
       "      <td>-0.325517</td>\n",
       "      <td>-0.239983</td>\n",
       "      <td>-0.272888</td>\n",
       "      <td>-0.500773</td>\n",
       "      <td>1.841549</td>\n",
       "      <td>-0.228218</td>\n",
       "      <td>-0.203069</td>\n",
       "      <td>-0.209589</td>\n",
       "      <td>-0.611678</td>\n",
       "      <td>-0.607858</td>\n",
       "    </tr>\n",
       "    <tr>\n",
       "      <th>1</th>\n",
       "      <td>-0.461667</td>\n",
       "      <td>-1.151097</td>\n",
       "      <td>-0.801629</td>\n",
       "      <td>-0.591011</td>\n",
       "      <td>-1.473980</td>\n",
       "      <td>0.645012</td>\n",
       "      <td>0.109987</td>\n",
       "      <td>-0.733904</td>\n",
       "      <td>0.295129</td>\n",
       "      <td>-0.367229</td>\n",
       "      <td>-0.239983</td>\n",
       "      <td>-0.272888</td>\n",
       "      <td>1.996911</td>\n",
       "      <td>-0.543021</td>\n",
       "      <td>-0.228218</td>\n",
       "      <td>-0.203069</td>\n",
       "      <td>-0.209589</td>\n",
       "      <td>-0.611678</td>\n",
       "      <td>-0.607858</td>\n",
       "    </tr>\n",
       "    <tr>\n",
       "      <th>2</th>\n",
       "      <td>-0.466997</td>\n",
       "      <td>-1.072403</td>\n",
       "      <td>-0.598114</td>\n",
       "      <td>0.592355</td>\n",
       "      <td>-0.398762</td>\n",
       "      <td>0.887155</td>\n",
       "      <td>-0.244310</td>\n",
       "      <td>-0.407108</td>\n",
       "      <td>0.446199</td>\n",
       "      <td>-0.755152</td>\n",
       "      <td>-0.239983</td>\n",
       "      <td>-0.272888</td>\n",
       "      <td>-0.500773</td>\n",
       "      <td>1.841549</td>\n",
       "      <td>-0.228218</td>\n",
       "      <td>-0.203069</td>\n",
       "      <td>-0.209589</td>\n",
       "      <td>-0.611678</td>\n",
       "      <td>1.645121</td>\n",
       "    </tr>\n",
       "    <tr>\n",
       "      <th>3</th>\n",
       "      <td>-0.468621</td>\n",
       "      <td>-1.401754</td>\n",
       "      <td>-0.954266</td>\n",
       "      <td>1.371262</td>\n",
       "      <td>-0.648241</td>\n",
       "      <td>1.498149</td>\n",
       "      <td>-0.752137</td>\n",
       "      <td>-1.387496</td>\n",
       "      <td>0.423632</td>\n",
       "      <td>-0.990130</td>\n",
       "      <td>-0.239983</td>\n",
       "      <td>-0.272888</td>\n",
       "      <td>-0.500773</td>\n",
       "      <td>-0.543021</td>\n",
       "      <td>-0.228218</td>\n",
       "      <td>-0.203069</td>\n",
       "      <td>-0.209589</td>\n",
       "      <td>-0.611678</td>\n",
       "      <td>1.645121</td>\n",
       "    </tr>\n",
       "    <tr>\n",
       "      <th>4</th>\n",
       "      <td>-0.393133</td>\n",
       "      <td>1.566775</td>\n",
       "      <td>0.589063</td>\n",
       "      <td>0.129299</td>\n",
       "      <td>1.059458</td>\n",
       "      <td>-0.705931</td>\n",
       "      <td>0.151322</td>\n",
       "      <td>1.273557</td>\n",
       "      <td>0.329814</td>\n",
       "      <td>-0.207332</td>\n",
       "      <td>-0.239983</td>\n",
       "      <td>-0.272888</td>\n",
       "      <td>1.996911</td>\n",
       "      <td>-0.543021</td>\n",
       "      <td>-0.228218</td>\n",
       "      <td>-0.203069</td>\n",
       "      <td>-0.209589</td>\n",
       "      <td>-0.611678</td>\n",
       "      <td>-0.607858</td>\n",
       "    </tr>\n",
       "  </tbody>\n",
       "</table>\n",
       "</div>"
      ],
      "text/plain": [
       "       CRIM     INDUS       NOX        RM       AGE       DIS       TAX  \\\n",
       "0 -0.458933  0.246458 -0.996666 -0.202272 -0.771223  0.119037 -0.078972   \n",
       "1 -0.461667 -1.151097 -0.801629 -0.591011 -1.473980  0.645012  0.109987   \n",
       "2 -0.466997 -1.072403 -0.598114  0.592355 -0.398762  0.887155 -0.244310   \n",
       "3 -0.468621 -1.401754 -0.954266  1.371262 -0.648241  1.498149 -0.752137   \n",
       "4 -0.393133  1.566775  0.589063  0.129299  1.059458 -0.705931  0.151322   \n",
       "\n",
       "    PTRATIO         B     LSTAT   RAD_2.0   RAD_3.0   RAD_4.0   RAD_5.0  \\\n",
       "0  0.106428  0.342351 -0.325517 -0.239983 -0.272888 -0.500773  1.841549   \n",
       "1 -0.733904  0.295129 -0.367229 -0.239983 -0.272888  1.996911 -0.543021   \n",
       "2 -0.407108  0.446199 -0.755152 -0.239983 -0.272888 -0.500773  1.841549   \n",
       "3 -1.387496  0.423632 -0.990130 -0.239983 -0.272888 -0.500773 -0.543021   \n",
       "4  1.273557  0.329814 -0.207332 -0.239983 -0.272888  1.996911 -0.543021   \n",
       "\n",
       "    RAD_6.0   RAD_7.0   RAD_8.0  RAD_24.0   ZN_bool  \n",
       "0 -0.228218 -0.203069 -0.209589 -0.611678 -0.607858  \n",
       "1 -0.228218 -0.203069 -0.209589 -0.611678 -0.607858  \n",
       "2 -0.228218 -0.203069 -0.209589 -0.611678  1.645121  \n",
       "3 -0.228218 -0.203069 -0.209589 -0.611678  1.645121  \n",
       "4 -0.228218 -0.203069 -0.209589 -0.611678 -0.607858  "
      ]
     },
     "execution_count": 15,
     "metadata": {},
     "output_type": "execute_result"
    }
   ],
   "source": [
    "from sklearn.preprocessing import StandardScaler\n",
    "\n",
    "ss = StandardScaler()\n",
    "\n",
    "Xtrain = pd.DataFrame( ss.fit_transform( Xtrain ), columns = Xtrain.columns )\n",
    "\n",
    "Xtrain.head()"
   ]
  },
  {
   "cell_type": "code",
   "execution_count": 16,
   "metadata": {},
   "outputs": [],
   "source": [
    "def repro_SS( X_df ):\n",
    "    df = X_df.copy()\n",
    "    return pd.DataFrame( ss.transform( df ), columns = df.columns )"
   ]
  },
  {
   "cell_type": "markdown",
   "metadata": {},
   "source": [
    "## Create a Preprocessing Pipeline for all future testing"
   ]
  },
  {
   "cell_type": "code",
   "execution_count": 18,
   "metadata": {},
   "outputs": [],
   "source": [
    "def preprocess_new_data( X_mat ):\n",
    "    df = X_mat.copy()\n",
    "    df = repro_RAD_ohe( df )\n",
    "    df = repro_ZN_CHAS( df )\n",
    "    df = repro_SS( df )\n",
    "    return df"
   ]
  },
  {
   "cell_type": "code",
   "execution_count": 19,
   "metadata": {},
   "outputs": [
    {
     "data": {
      "text/html": [
       "<div>\n",
       "<style scoped>\n",
       "    .dataframe tbody tr th:only-of-type {\n",
       "        vertical-align: middle;\n",
       "    }\n",
       "\n",
       "    .dataframe tbody tr th {\n",
       "        vertical-align: top;\n",
       "    }\n",
       "\n",
       "    .dataframe thead th {\n",
       "        text-align: right;\n",
       "    }\n",
       "</style>\n",
       "<table border=\"1\" class=\"dataframe\">\n",
       "  <thead>\n",
       "    <tr style=\"text-align: right;\">\n",
       "      <th></th>\n",
       "      <th>CRIM</th>\n",
       "      <th>INDUS</th>\n",
       "      <th>NOX</th>\n",
       "      <th>RM</th>\n",
       "      <th>AGE</th>\n",
       "      <th>DIS</th>\n",
       "      <th>TAX</th>\n",
       "      <th>PTRATIO</th>\n",
       "      <th>B</th>\n",
       "      <th>LSTAT</th>\n",
       "      <th>RAD_2.0</th>\n",
       "      <th>RAD_3.0</th>\n",
       "      <th>RAD_4.0</th>\n",
       "      <th>RAD_5.0</th>\n",
       "      <th>RAD_6.0</th>\n",
       "      <th>RAD_7.0</th>\n",
       "      <th>RAD_8.0</th>\n",
       "      <th>RAD_24.0</th>\n",
       "      <th>ZN_bool</th>\n",
       "    </tr>\n",
       "  </thead>\n",
       "  <tbody>\n",
       "    <tr>\n",
       "      <th>0</th>\n",
       "      <td>-0.367734</td>\n",
       "      <td>-0.437018</td>\n",
       "      <td>-0.140203</td>\n",
       "      <td>-0.416650</td>\n",
       "      <td>0.490225</td>\n",
       "      <td>0.197365</td>\n",
       "      <td>-0.616323</td>\n",
       "      <td>1.180187</td>\n",
       "      <td>0.340157</td>\n",
       "      <td>0.286262</td>\n",
       "      <td>-0.239983</td>\n",
       "      <td>-0.272888</td>\n",
       "      <td>1.996911</td>\n",
       "      <td>-0.543021</td>\n",
       "      <td>-0.228218</td>\n",
       "      <td>-0.203069</td>\n",
       "      <td>-0.209589</td>\n",
       "      <td>-0.611678</td>\n",
       "      <td>-0.607858</td>\n",
       "    </tr>\n",
       "    <tr>\n",
       "      <th>1</th>\n",
       "      <td>-0.341017</td>\n",
       "      <td>-0.437018</td>\n",
       "      <td>-0.140203</td>\n",
       "      <td>-0.669616</td>\n",
       "      <td>1.133247</td>\n",
       "      <td>0.121236</td>\n",
       "      <td>-0.616323</td>\n",
       "      <td>1.180187</td>\n",
       "      <td>0.421543</td>\n",
       "      <td>1.010663</td>\n",
       "      <td>-0.239983</td>\n",
       "      <td>-0.272888</td>\n",
       "      <td>1.996911</td>\n",
       "      <td>-0.543021</td>\n",
       "      <td>-0.228218</td>\n",
       "      <td>-0.203069</td>\n",
       "      <td>-0.209589</td>\n",
       "      <td>-0.611678</td>\n",
       "      <td>-0.607858</td>\n",
       "    </tr>\n",
       "    <tr>\n",
       "      <th>2</th>\n",
       "      <td>-0.278886</td>\n",
       "      <td>1.230138</td>\n",
       "      <td>0.427946</td>\n",
       "      <td>1.725701</td>\n",
       "      <td>0.809979</td>\n",
       "      <td>-0.872741</td>\n",
       "      <td>-0.049447</td>\n",
       "      <td>-1.760977</td>\n",
       "      <td>0.211445</td>\n",
       "      <td>-1.512923</td>\n",
       "      <td>-0.239983</td>\n",
       "      <td>-0.272888</td>\n",
       "      <td>-0.500773</td>\n",
       "      <td>1.841549</td>\n",
       "      <td>-0.228218</td>\n",
       "      <td>-0.203069</td>\n",
       "      <td>-0.209589</td>\n",
       "      <td>-0.611678</td>\n",
       "      <td>-0.607858</td>\n",
       "    </tr>\n",
       "    <tr>\n",
       "      <th>3</th>\n",
       "      <td>-0.450572</td>\n",
       "      <td>-0.164502</td>\n",
       "      <td>-0.063884</td>\n",
       "      <td>-0.372346</td>\n",
       "      <td>0.521849</td>\n",
       "      <td>-0.509410</td>\n",
       "      <td>0.121797</td>\n",
       "      <td>-0.313738</td>\n",
       "      <td>0.421229</td>\n",
       "      <td>-0.321345</td>\n",
       "      <td>-0.239983</td>\n",
       "      <td>-0.272888</td>\n",
       "      <td>-0.500773</td>\n",
       "      <td>-0.543021</td>\n",
       "      <td>4.381780</td>\n",
       "      <td>-0.203069</td>\n",
       "      <td>-0.209589</td>\n",
       "      <td>-0.611678</td>\n",
       "      <td>-0.607858</td>\n",
       "    </tr>\n",
       "    <tr>\n",
       "      <th>4</th>\n",
       "      <td>-0.432268</td>\n",
       "      <td>1.566775</td>\n",
       "      <td>0.589063</td>\n",
       "      <td>-0.153680</td>\n",
       "      <td>0.908365</td>\n",
       "      <td>-1.040720</td>\n",
       "      <td>0.151322</td>\n",
       "      <td>1.273557</td>\n",
       "      <td>0.354052</td>\n",
       "      <td>1.605757</td>\n",
       "      <td>-0.239983</td>\n",
       "      <td>-0.272888</td>\n",
       "      <td>1.996911</td>\n",
       "      <td>-0.543021</td>\n",
       "      <td>-0.228218</td>\n",
       "      <td>-0.203069</td>\n",
       "      <td>-0.209589</td>\n",
       "      <td>-0.611678</td>\n",
       "      <td>-0.607858</td>\n",
       "    </tr>\n",
       "  </tbody>\n",
       "</table>\n",
       "</div>"
      ],
      "text/plain": [
       "       CRIM     INDUS       NOX        RM       AGE       DIS       TAX  \\\n",
       "0 -0.367734 -0.437018 -0.140203 -0.416650  0.490225  0.197365 -0.616323   \n",
       "1 -0.341017 -0.437018 -0.140203 -0.669616  1.133247  0.121236 -0.616323   \n",
       "2 -0.278886  1.230138  0.427946  1.725701  0.809979 -0.872741 -0.049447   \n",
       "3 -0.450572 -0.164502 -0.063884 -0.372346  0.521849 -0.509410  0.121797   \n",
       "4 -0.432268  1.566775  0.589063 -0.153680  0.908365 -1.040720  0.151322   \n",
       "\n",
       "    PTRATIO         B     LSTAT   RAD_2.0   RAD_3.0   RAD_4.0   RAD_5.0  \\\n",
       "0  1.180187  0.340157  0.286262 -0.239983 -0.272888  1.996911 -0.543021   \n",
       "1  1.180187  0.421543  1.010663 -0.239983 -0.272888  1.996911 -0.543021   \n",
       "2 -1.760977  0.211445 -1.512923 -0.239983 -0.272888 -0.500773  1.841549   \n",
       "3 -0.313738  0.421229 -0.321345 -0.239983 -0.272888 -0.500773 -0.543021   \n",
       "4  1.273557  0.354052  1.605757 -0.239983 -0.272888  1.996911 -0.543021   \n",
       "\n",
       "    RAD_6.0   RAD_7.0   RAD_8.0  RAD_24.0   ZN_bool  \n",
       "0 -0.228218 -0.203069 -0.209589 -0.611678 -0.607858  \n",
       "1 -0.228218 -0.203069 -0.209589 -0.611678 -0.607858  \n",
       "2 -0.228218 -0.203069 -0.209589 -0.611678 -0.607858  \n",
       "3  4.381780 -0.203069 -0.209589 -0.611678 -0.607858  \n",
       "4 -0.228218 -0.203069 -0.209589 -0.611678 -0.607858  "
      ]
     },
     "execution_count": 19,
     "metadata": {},
     "output_type": "execute_result"
    }
   ],
   "source": [
    "preprocess_new_data( Xtest ).head()"
   ]
  },
  {
   "cell_type": "markdown",
   "metadata": {},
   "source": [
    "## Lasso Regression"
   ]
  },
  {
   "cell_type": "code",
   "execution_count": 20,
   "metadata": {},
   "outputs": [],
   "source": [
    "from sklearn.linear_model import Lasso\n",
    "from sklearn.model_selection import GridSearchCV"
   ]
  },
  {
   "cell_type": "code",
   "execution_count": 21,
   "metadata": {},
   "outputs": [
    {
     "name": "stderr",
     "output_type": "stream",
     "text": [
      "/anaconda3/lib/python3.6/site-packages/sklearn/model_selection/_split.py:1978: FutureWarning: The default value of cv will change from 3 to 5 in version 0.22. Specify it explicitly to silence this warning.\n",
      "  warnings.warn(CV_WARNING, FutureWarning)\n",
      "/anaconda3/lib/python3.6/site-packages/sklearn/model_selection/_search.py:813: DeprecationWarning: The default of the `iid` parameter will change from True to False in version 0.22 and will be removed in 0.24. This will change numeric results when test-set sizes are unequal.\n",
      "  DeprecationWarning)\n"
     ]
    },
    {
     "data": {
      "text/plain": [
       "GridSearchCV(cv='warn', error_score='raise-deprecating',\n",
       "             estimator=Lasso(alpha=1.0, copy_X=True, fit_intercept=True,\n",
       "                             max_iter=1000, normalize=False, positive=False,\n",
       "                             precompute=False, random_state=None,\n",
       "                             selection='cyclic', tol=0.0001, warm_start=False),\n",
       "             iid='warn', n_jobs=None,\n",
       "             param_grid={'alpha': (0.1, 0.5, 1, 2, 10),\n",
       "                         'fit_intercept': [True, False]},\n",
       "             pre_dispatch='2*n_jobs', refit=True, return_train_score=False,\n",
       "             scoring=None, verbose=0)"
      ]
     },
     "execution_count": 21,
     "metadata": {},
     "output_type": "execute_result"
    }
   ],
   "source": [
    "lasso = Lasso()\n",
    "\n",
    "params = {'alpha':(0.1,0.5,1,2,10), 'fit_intercept':[True,False]}\n",
    "grid_search_lasso = GridSearchCV( estimator=lasso, param_grid=params )\n",
    "grid_search_lasso.fit(Xtrain,ytrain)"
   ]
  },
  {
   "cell_type": "code",
   "execution_count": 22,
   "metadata": {},
   "outputs": [
    {
     "data": {
      "text/plain": [
       "{'alpha': 0.1, 'fit_intercept': True}"
      ]
     },
     "execution_count": 22,
     "metadata": {},
     "output_type": "execute_result"
    }
   ],
   "source": [
    "grid_search_lasso.best_params_"
   ]
  },
  {
   "cell_type": "code",
   "execution_count": 23,
   "metadata": {},
   "outputs": [
    {
     "data": {
      "text/plain": [
       "0.7003738455703424"
      ]
     },
     "execution_count": 23,
     "metadata": {},
     "output_type": "execute_result"
    }
   ],
   "source": [
    "grid_search_lasso.best_score_"
   ]
  },
  {
   "cell_type": "markdown",
   "metadata": {},
   "source": [
    "## KNN regressor"
   ]
  },
  {
   "cell_type": "code",
   "execution_count": 24,
   "metadata": {},
   "outputs": [
    {
     "name": "stderr",
     "output_type": "stream",
     "text": [
      "/anaconda3/lib/python3.6/site-packages/sklearn/model_selection/_split.py:1978: FutureWarning: The default value of cv will change from 3 to 5 in version 0.22. Specify it explicitly to silence this warning.\n",
      "  warnings.warn(CV_WARNING, FutureWarning)\n"
     ]
    },
    {
     "data": {
      "text/plain": [
       "GridSearchCV(cv='warn', error_score='raise-deprecating',\n",
       "             estimator=KNeighborsRegressor(algorithm='auto', leaf_size=30,\n",
       "                                           metric='minkowski',\n",
       "                                           metric_params=None, n_jobs=None,\n",
       "                                           n_neighbors=5, p=2,\n",
       "                                           weights='uniform'),\n",
       "             iid='warn', n_jobs=None, param_grid={'n_neighbors': [1, 2, 5, 10]},\n",
       "             pre_dispatch='2*n_jobs', refit=True, return_train_score=False,\n",
       "             scoring=None, verbose=0)"
      ]
     },
     "execution_count": 24,
     "metadata": {},
     "output_type": "execute_result"
    }
   ],
   "source": [
    "from sklearn.neighbors import KNeighborsRegressor\n",
    "\n",
    "knn = KNeighborsRegressor()\n",
    "\n",
    "knn_params = {'n_neighbors':[1,2,5,10]}\n",
    "grid_search_knn = GridSearchCV( estimator=knn, param_grid=knn_params )\n",
    "grid_search_knn.fit(Xtrain,ytrain)"
   ]
  },
  {
   "cell_type": "code",
   "execution_count": 25,
   "metadata": {},
   "outputs": [
    {
     "data": {
      "text/plain": [
       "{'n_neighbors': 1}"
      ]
     },
     "execution_count": 25,
     "metadata": {},
     "output_type": "execute_result"
    }
   ],
   "source": [
    "grid_search_knn.best_params_"
   ]
  },
  {
   "cell_type": "code",
   "execution_count": 26,
   "metadata": {},
   "outputs": [
    {
     "data": {
      "text/plain": [
       "0.7765970955349616"
      ]
     },
     "execution_count": 26,
     "metadata": {},
     "output_type": "execute_result"
    }
   ],
   "source": [
    "grid_search_knn.best_score_"
   ]
  },
  {
   "cell_type": "code",
   "execution_count": 27,
   "metadata": {},
   "outputs": [],
   "source": [
    "### CHOOSE KNN (BETTER CV SCORE)\n",
    "knn_model = grid_search_knn.best_estimator_"
   ]
  },
  {
   "cell_type": "code",
   "execution_count": 28,
   "metadata": {},
   "outputs": [
    {
     "data": {
      "text/plain": [
       "0.8706179391229838"
      ]
     },
     "execution_count": 28,
     "metadata": {},
     "output_type": "execute_result"
    }
   ],
   "source": [
    "knn_model.score( preprocess_new_data(Xtest), ytest )"
   ]
  },
  {
   "cell_type": "code",
   "execution_count": 29,
   "metadata": {},
   "outputs": [
    {
     "data": {
      "text/plain": [
       "0.7020902198407593"
      ]
     },
     "execution_count": 29,
     "metadata": {},
     "output_type": "execute_result"
    }
   ],
   "source": [
    "## JUST CHECKING\n",
    "grid_search_lasso.best_estimator_.score(preprocess_new_data(Xtest),ytest)"
   ]
  }
 ],
 "metadata": {
  "kernelspec": {
   "display_name": "Python 3",
   "language": "python",
   "name": "python3"
  },
  "language_info": {
   "codemirror_mode": {
    "name": "ipython",
    "version": 3
   },
   "file_extension": ".py",
   "mimetype": "text/x-python",
   "name": "python",
   "nbconvert_exporter": "python",
   "pygments_lexer": "ipython3",
   "version": "3.7.4"
  }
 },
 "nbformat": 4,
 "nbformat_minor": 4
}
