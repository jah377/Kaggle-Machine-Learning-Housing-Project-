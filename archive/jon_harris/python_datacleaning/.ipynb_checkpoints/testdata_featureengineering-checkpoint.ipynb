{
 "cells": [
  {
   "cell_type": "markdown",
   "metadata": {},
   "source": [
    "## Import Data"
   ]
  },
  {
   "cell_type": "code",
   "execution_count": 93,
   "metadata": {},
   "outputs": [
    {
     "name": "stdout",
     "output_type": "stream",
     "text": [
      "The nb_black extension is already loaded. To reload it, use:\n",
      "  %reload_ext nb_black\n"
     ]
    },
    {
     "data": {
      "application/javascript": [
       "\n",
       "            setTimeout(function() {\n",
       "                var nbb_cell_id = 93;\n",
       "                var nbb_unformatted_code = \"# Setup Packages\\nimport numpy as np\\nimport pandas as pd\\nimport math\\nimport matplotlib.pyplot as plt\\n\\n%matplotlib inline\\n\\n# Used for auto-formatting code\\n# terminal - pip install nb_black\\n%load_ext nb_black\\n\\n# Display all rows and columns\\npd.set_option(\\\"display.max_columns\\\", None)\\npd.set_option(\\\"display.max_rows\\\", None)\";\n",
       "                var nbb_formatted_code = \"# Setup Packages\\nimport numpy as np\\nimport pandas as pd\\nimport math\\nimport matplotlib.pyplot as plt\\n\\n%matplotlib inline\\n\\n# Used for auto-formatting code\\n# terminal - pip install nb_black\\n%load_ext nb_black\\n\\n# Display all rows and columns\\npd.set_option(\\\"display.max_columns\\\", None)\\npd.set_option(\\\"display.max_rows\\\", None)\";\n",
       "                var nbb_cells = Jupyter.notebook.get_cells();\n",
       "                for (var i = 0; i < nbb_cells.length; ++i) {\n",
       "                    if (nbb_cells[i].input_prompt_number == nbb_cell_id) {\n",
       "                        if (nbb_cells[i].get_text() == nbb_unformatted_code) {\n",
       "                             nbb_cells[i].set_text(nbb_formatted_code);\n",
       "                        }\n",
       "                        break;\n",
       "                    }\n",
       "                }\n",
       "            }, 500);\n",
       "            "
      ],
      "text/plain": [
       "<IPython.core.display.Javascript object>"
      ]
     },
     "metadata": {},
     "output_type": "display_data"
    }
   ],
   "source": [
    "# Setup Packages\n",
    "import numpy as np\n",
    "import pandas as pd\n",
    "import math\n",
    "import matplotlib.pyplot as plt\n",
    "\n",
    "%matplotlib inline\n",
    "\n",
    "# Used for auto-formatting code\n",
    "# terminal - pip install nb_black\n",
    "%load_ext nb_black\n",
    "\n",
    "# Display all rows and columns\n",
    "pd.set_option(\"display.max_columns\", None)\n",
    "pd.set_option(\"display.max_rows\", None)"
   ]
  },
  {
   "cell_type": "code",
   "execution_count": 94,
   "metadata": {},
   "outputs": [
    {
     "data": {
      "application/javascript": [
       "\n",
       "            setTimeout(function() {\n",
       "                var nbb_cell_id = 94;\n",
       "                var nbb_unformatted_code = \"house_data = pd.read_csv(\\\"test.csv\\\")\";\n",
       "                var nbb_formatted_code = \"house_data = pd.read_csv(\\\"test.csv\\\")\";\n",
       "                var nbb_cells = Jupyter.notebook.get_cells();\n",
       "                for (var i = 0; i < nbb_cells.length; ++i) {\n",
       "                    if (nbb_cells[i].input_prompt_number == nbb_cell_id) {\n",
       "                        if (nbb_cells[i].get_text() == nbb_unformatted_code) {\n",
       "                             nbb_cells[i].set_text(nbb_formatted_code);\n",
       "                        }\n",
       "                        break;\n",
       "                    }\n",
       "                }\n",
       "            }, 500);\n",
       "            "
      ],
      "text/plain": [
       "<IPython.core.display.Javascript object>"
      ]
     },
     "metadata": {},
     "output_type": "display_data"
    }
   ],
   "source": [
    "house_data = pd.read_csv(\"test.csv\")"
   ]
  },
  {
   "cell_type": "code",
   "execution_count": 95,
   "metadata": {},
   "outputs": [
    {
     "data": {
      "application/javascript": [
       "\n",
       "            setTimeout(function() {\n",
       "                var nbb_cell_id = 95;\n",
       "                var nbb_unformatted_code = \"# Separate predictors by numerical and categorical features\\nfrom functions_file import categorize\\n\\ncat_features, num_cont_features, num_disc_features = categorize(house_data)\";\n",
       "                var nbb_formatted_code = \"# Separate predictors by numerical and categorical features\\nfrom functions_file import categorize\\n\\ncat_features, num_cont_features, num_disc_features = categorize(house_data)\";\n",
       "                var nbb_cells = Jupyter.notebook.get_cells();\n",
       "                for (var i = 0; i < nbb_cells.length; ++i) {\n",
       "                    if (nbb_cells[i].input_prompt_number == nbb_cell_id) {\n",
       "                        if (nbb_cells[i].get_text() == nbb_unformatted_code) {\n",
       "                             nbb_cells[i].set_text(nbb_formatted_code);\n",
       "                        }\n",
       "                        break;\n",
       "                    }\n",
       "                }\n",
       "            }, 500);\n",
       "            "
      ],
      "text/plain": [
       "<IPython.core.display.Javascript object>"
      ]
     },
     "metadata": {},
     "output_type": "display_data"
    }
   ],
   "source": [
    "# Separate predictors by numerical and categorical features\n",
    "from functions_file import categorize\n",
    "\n",
    "cat_features, num_cont_features, num_disc_features = categorize(house_data)"
   ]
  },
  {
   "cell_type": "code",
   "execution_count": 96,
   "metadata": {},
   "outputs": [
    {
     "data": {
      "application/javascript": [
       "\n",
       "            setTimeout(function() {\n",
       "                var nbb_cell_id = 96;\n",
       "                var nbb_unformatted_code = \"def miss_features(x):\\n    data = house_data[x]\\n    n_missing = pd.Series(data.isna().sum())  # number of missing values\\n    perc_missing = n_missing / data.shape[0] * 100  # percent of missing values\\n\\n    # Convert to dataframe\\n    missing_stats = pd.DataFrame([n_missing, perc_missing]).T.rename(\\n        columns={0: \\\"n_missing\\\", 1: \\\"perc_missing\\\"}\\n    )\\n\\n    # Isolate only variables missing values\\n    missing_stats.loc[missing_stats.n_missing != 0].sort_values(\\n        by=\\\"perc_missing\\\", ascending=False\\n    )\\n\\n    return missing_stats\";\n",
       "                var nbb_formatted_code = \"def miss_features(x):\\n    data = house_data[x]\\n    n_missing = pd.Series(data.isna().sum())  # number of missing values\\n    perc_missing = n_missing / data.shape[0] * 100  # percent of missing values\\n\\n    # Convert to dataframe\\n    missing_stats = pd.DataFrame([n_missing, perc_missing]).T.rename(\\n        columns={0: \\\"n_missing\\\", 1: \\\"perc_missing\\\"}\\n    )\\n\\n    # Isolate only variables missing values\\n    missing_stats.loc[missing_stats.n_missing != 0].sort_values(\\n        by=\\\"perc_missing\\\", ascending=False\\n    )\\n\\n    return missing_stats\";\n",
       "                var nbb_cells = Jupyter.notebook.get_cells();\n",
       "                for (var i = 0; i < nbb_cells.length; ++i) {\n",
       "                    if (nbb_cells[i].input_prompt_number == nbb_cell_id) {\n",
       "                        if (nbb_cells[i].get_text() == nbb_unformatted_code) {\n",
       "                             nbb_cells[i].set_text(nbb_formatted_code);\n",
       "                        }\n",
       "                        break;\n",
       "                    }\n",
       "                }\n",
       "            }, 500);\n",
       "            "
      ],
      "text/plain": [
       "<IPython.core.display.Javascript object>"
      ]
     },
     "metadata": {},
     "output_type": "display_data"
    }
   ],
   "source": [
    "def miss_features(x):\n",
    "    data = house_data[x]\n",
    "    n_missing = pd.Series(data.isna().sum())  # number of missing values\n",
    "    perc_missing = n_missing / data.shape[0] * 100  # percent of missing values\n",
    "\n",
    "    # Convert to dataframe\n",
    "    missing_stats = pd.DataFrame([n_missing, perc_missing]).T.rename(\n",
    "        columns={0: \"n_missing\", 1: \"perc_missing\"}\n",
    "    )\n",
    "\n",
    "    # Isolate only variables missing values\n",
    "    missing_stats.loc[missing_stats.n_missing != 0].sort_values(\n",
    "        by=\"perc_missing\", ascending=False\n",
    "    )\n",
    "\n",
    "    return missing_stats"
   ]
  },
  {
   "cell_type": "code",
   "execution_count": 97,
   "metadata": {},
   "outputs": [
    {
     "name": "stdout",
     "output_type": "stream",
     "text": [
      "              n_missing  perc_missing\n",
      "OverallQual         0.0       0.00000\n",
      "OverallCond         0.0       0.00000\n",
      "LowQualFinSF        0.0       0.00000\n",
      "BsmtFullBath        2.0       0.13708\n",
      "BsmtHalfBath        2.0       0.13708\n",
      "FullBath            0.0       0.00000\n",
      "HalfBath            0.0       0.00000\n",
      "BedroomAbvGr        0.0       0.00000\n",
      "KitchenAbvGr        0.0       0.00000\n",
      "TotRmsAbvGrd        0.0       0.00000\n",
      "Fireplaces          0.0       0.00000\n",
      "GarageCars          1.0       0.06854\n",
      "3SsnPorch           0.0       0.00000\n",
      "PoolArea            0.0       0.00000\n",
      "               n_missing  perc_missing\n",
      "Id                   0.0      0.000000\n",
      "MSSubClass           0.0      0.000000\n",
      "LotFrontage        227.0     15.558602\n",
      "LotArea              0.0      0.000000\n",
      "YearBuilt            0.0      0.000000\n",
      "YearRemodAdd         0.0      0.000000\n",
      "MasVnrArea          15.0      1.028101\n",
      "BsmtFinSF1           1.0      0.068540\n",
      "BsmtFinSF2           1.0      0.068540\n",
      "BsmtUnfSF            1.0      0.068540\n",
      "TotalBsmtSF          1.0      0.068540\n",
      "1stFlrSF             0.0      0.000000\n",
      "2ndFlrSF             0.0      0.000000\n",
      "GrLivArea            0.0      0.000000\n",
      "GarageYrBlt         78.0      5.346127\n",
      "GarageArea           1.0      0.068540\n",
      "WoodDeckSF           0.0      0.000000\n",
      "OpenPorchSF          0.0      0.000000\n",
      "EnclosedPorch        0.0      0.000000\n",
      "ScreenPorch          0.0      0.000000\n",
      "MiscVal              0.0      0.000000\n"
     ]
    },
    {
     "data": {
      "application/javascript": [
       "\n",
       "            setTimeout(function() {\n",
       "                var nbb_cell_id = 97;\n",
       "                var nbb_unformatted_code = \"print(miss_features(num_disc_features))\\nprint(miss_features(num_cont_features))\";\n",
       "                var nbb_formatted_code = \"print(miss_features(num_disc_features))\\nprint(miss_features(num_cont_features))\";\n",
       "                var nbb_cells = Jupyter.notebook.get_cells();\n",
       "                for (var i = 0; i < nbb_cells.length; ++i) {\n",
       "                    if (nbb_cells[i].input_prompt_number == nbb_cell_id) {\n",
       "                        if (nbb_cells[i].get_text() == nbb_unformatted_code) {\n",
       "                             nbb_cells[i].set_text(nbb_formatted_code);\n",
       "                        }\n",
       "                        break;\n",
       "                    }\n",
       "                }\n",
       "            }, 500);\n",
       "            "
      ],
      "text/plain": [
       "<IPython.core.display.Javascript object>"
      ]
     },
     "metadata": {},
     "output_type": "display_data"
    }
   ],
   "source": [
    "print(miss_features(num_disc_features))\n",
    "print(miss_features(num_cont_features))\n"
   ]
  },
  {
   "cell_type": "markdown",
   "metadata": {},
   "source": [
    "## Missing Values\n",
    "- BsmtFullBath (discreet)\n",
    "- BsmtHalfBath (discreet)\n",
    "- GarageCars (discreet)\n",
    "- LotFrontage (cont)\n",
    "- MasVnrArea (cont)\n",
    "- BsmtFinSF1 (cont)\n",
    "- BsmtFinSF2 (cont)\n",
    "- GarageYrBlt (discreet)\n",
    "- GarageArea (cont) **Nan due to data entry error**"
   ]
  },
  {
   "cell_type": "code",
   "execution_count": 98,
   "metadata": {},
   "outputs": [
    {
     "data": {
      "text/plain": [
       "Index(['Id', 'MSSubClass', 'MSZoning', 'LotFrontage', 'LotArea', 'Street',\n",
       "       'Alley', 'LotShape', 'LandContour', 'Utilities', 'LotConfig',\n",
       "       'LandSlope', 'Neighborhood', 'Condition1', 'Condition2', 'BldgType',\n",
       "       'HouseStyle', 'OverallQual', 'OverallCond', 'YearBuilt', 'YearRemodAdd',\n",
       "       'RoofStyle', 'RoofMatl', 'Exterior1st', 'Exterior2nd', 'MasVnrType',\n",
       "       'MasVnrArea', 'ExterQual', 'ExterCond', 'Foundation', 'BsmtQual',\n",
       "       'BsmtCond', 'BsmtExposure', 'BsmtFinType1', 'BsmtFinSF1',\n",
       "       'BsmtFinType2', 'BsmtFinSF2', 'BsmtUnfSF', 'TotalBsmtSF', 'Heating',\n",
       "       'HeatingQC', 'CentralAir', 'Electrical', '1stFlrSF', '2ndFlrSF',\n",
       "       'LowQualFinSF', 'GrLivArea', 'BsmtFullBath', 'BsmtHalfBath', 'FullBath',\n",
       "       'HalfBath', 'BedroomAbvGr', 'KitchenAbvGr', 'KitchenQual',\n",
       "       'TotRmsAbvGrd', 'Functional', 'Fireplaces', 'FireplaceQu', 'GarageType',\n",
       "       'GarageYrBlt', 'GarageFinish', 'GarageCars', 'GarageArea', 'GarageQual',\n",
       "       'GarageCond', 'PavedDrive', 'WoodDeckSF', 'OpenPorchSF',\n",
       "       'EnclosedPorch', '3SsnPorch', 'ScreenPorch', 'PoolArea', 'PoolQC',\n",
       "       'Fence', 'MiscFeature', 'MiscVal', 'MoSold', 'YrSold', 'SaleType',\n",
       "       'SaleCondition'],\n",
       "      dtype='object')"
      ]
     },
     "execution_count": 98,
     "metadata": {},
     "output_type": "execute_result"
    },
    {
     "data": {
      "application/javascript": [
       "\n",
       "            setTimeout(function() {\n",
       "                var nbb_cell_id = 98;\n",
       "                var nbb_unformatted_code = \"house_data.columns\";\n",
       "                var nbb_formatted_code = \"house_data.columns\";\n",
       "                var nbb_cells = Jupyter.notebook.get_cells();\n",
       "                for (var i = 0; i < nbb_cells.length; ++i) {\n",
       "                    if (nbb_cells[i].input_prompt_number == nbb_cell_id) {\n",
       "                        if (nbb_cells[i].get_text() == nbb_unformatted_code) {\n",
       "                             nbb_cells[i].set_text(nbb_formatted_code);\n",
       "                        }\n",
       "                        break;\n",
       "                    }\n",
       "                }\n",
       "            }, 500);\n",
       "            "
      ],
      "text/plain": [
       "<IPython.core.display.Javascript object>"
      ]
     },
     "metadata": {},
     "output_type": "display_data"
    }
   ],
   "source": [
    "house_data.columns"
   ]
  },
  {
   "cell_type": "markdown",
   "metadata": {},
   "source": [
    "#### Impute Discreet Variables"
   ]
  },
  {
   "cell_type": "code",
   "execution_count": 99,
   "metadata": {},
   "outputs": [
    {
     "data": {
      "application/javascript": [
       "\n",
       "            setTimeout(function() {\n",
       "                var nbb_cell_id = 99;\n",
       "                var nbb_unformatted_code = \"# Impute BsmtFullBath\\nidx = house_data.index[house_data[\\\"BsmtFullBath\\\"].isna()]\\n# house_data[\\\"BsmtCond\\\"][idx] #Observation doesn't have a garage, so impute with 0\\nhouse_data[\\\"BsmtFullBath\\\"].fillna(0, inplace=True)\";\n",
       "                var nbb_formatted_code = \"# Impute BsmtFullBath\\nidx = house_data.index[house_data[\\\"BsmtFullBath\\\"].isna()]\\n# house_data[\\\"BsmtCond\\\"][idx] #Observation doesn't have a garage, so impute with 0\\nhouse_data[\\\"BsmtFullBath\\\"].fillna(0, inplace=True)\";\n",
       "                var nbb_cells = Jupyter.notebook.get_cells();\n",
       "                for (var i = 0; i < nbb_cells.length; ++i) {\n",
       "                    if (nbb_cells[i].input_prompt_number == nbb_cell_id) {\n",
       "                        if (nbb_cells[i].get_text() == nbb_unformatted_code) {\n",
       "                             nbb_cells[i].set_text(nbb_formatted_code);\n",
       "                        }\n",
       "                        break;\n",
       "                    }\n",
       "                }\n",
       "            }, 500);\n",
       "            "
      ],
      "text/plain": [
       "<IPython.core.display.Javascript object>"
      ]
     },
     "metadata": {},
     "output_type": "display_data"
    }
   ],
   "source": [
    "# Impute BsmtFullBath\n",
    "idx = house_data.index[house_data[\"BsmtFullBath\"].isna()]\n",
    "# house_data[\"BsmtCond\"][idx] #Observation doesn't have a garage, so impute with 0\n",
    "house_data[\"BsmtFullBath\"].fillna(0, inplace=True)"
   ]
  },
  {
   "cell_type": "code",
   "execution_count": 100,
   "metadata": {},
   "outputs": [
    {
     "data": {
      "application/javascript": [
       "\n",
       "            setTimeout(function() {\n",
       "                var nbb_cell_id = 100;\n",
       "                var nbb_unformatted_code = \"# Impute BsmtHalfBath\\nidx = house_data.index[house_data[\\\"BsmtHalfBath\\\"].isna()]\\n# house_data[\\\"BsmtCond\\\"][idx]  # Observation doesn't have a garage, so impute with 0\\nhouse_data[\\\"BsmtHalfBath\\\"].fillna(0, inplace=True)\";\n",
       "                var nbb_formatted_code = \"# Impute BsmtHalfBath\\nidx = house_data.index[house_data[\\\"BsmtHalfBath\\\"].isna()]\\n# house_data[\\\"BsmtCond\\\"][idx]  # Observation doesn't have a garage, so impute with 0\\nhouse_data[\\\"BsmtHalfBath\\\"].fillna(0, inplace=True)\";\n",
       "                var nbb_cells = Jupyter.notebook.get_cells();\n",
       "                for (var i = 0; i < nbb_cells.length; ++i) {\n",
       "                    if (nbb_cells[i].input_prompt_number == nbb_cell_id) {\n",
       "                        if (nbb_cells[i].get_text() == nbb_unformatted_code) {\n",
       "                             nbb_cells[i].set_text(nbb_formatted_code);\n",
       "                        }\n",
       "                        break;\n",
       "                    }\n",
       "                }\n",
       "            }, 500);\n",
       "            "
      ],
      "text/plain": [
       "<IPython.core.display.Javascript object>"
      ]
     },
     "metadata": {},
     "output_type": "display_data"
    }
   ],
   "source": [
    "# Impute BsmtHalfBath\n",
    "idx = house_data.index[house_data[\"BsmtHalfBath\"].isna()]\n",
    "# house_data[\"BsmtCond\"][idx]  # Observation doesn't have a garage, so impute with 0\n",
    "house_data[\"BsmtHalfBath\"].fillna(0, inplace=True)"
   ]
  },
  {
   "cell_type": "code",
   "execution_count": 101,
   "metadata": {},
   "outputs": [
    {
     "name": "stderr",
     "output_type": "stream",
     "text": [
      "/Users/jonathanharris/opt/anaconda3/lib/python3.7/site-packages/ipykernel_launcher.py:3: SettingWithCopyWarning: \n",
      "A value is trying to be set on a copy of a slice from a DataFrame\n",
      "\n",
      "See the caveats in the documentation: http://pandas.pydata.org/pandas-docs/stable/user_guide/indexing.html#returning-a-view-versus-a-copy\n",
      "  This is separate from the ipykernel package so we can avoid doing imports until\n",
      "/Users/jonathanharris/opt/anaconda3/lib/python3.7/site-packages/ipykernel_launcher.py:4: SettingWithCopyWarning: \n",
      "A value is trying to be set on a copy of a slice from a DataFrame\n",
      "\n",
      "See the caveats in the documentation: http://pandas.pydata.org/pandas-docs/stable/user_guide/indexing.html#returning-a-view-versus-a-copy\n",
      "  after removing the cwd from sys.path.\n"
     ]
    },
    {
     "data": {
      "application/javascript": [
       "\n",
       "            setTimeout(function() {\n",
       "                var nbb_cell_id = 101;\n",
       "                var nbb_unformatted_code = \"# Garage Observation Mixup\\n# GarageArea (nan) @ n=1116 is switched with GarageType (number)\\nhouse_data[\\\"GarageArea\\\"][1116] = house_data[\\\"GarageType\\\"][1116]\\nhouse_data[\\\"GarageType\\\"][1116] = np.nan #value of GarageArea[1116]\";\n",
       "                var nbb_formatted_code = \"# Garage Observation Mixup\\n# GarageArea (nan) @ n=1116 is switched with GarageType (number)\\nhouse_data[\\\"GarageArea\\\"][1116] = house_data[\\\"GarageType\\\"][1116]\\nhouse_data[\\\"GarageType\\\"][1116] = np.nan  # value of GarageArea[1116]\";\n",
       "                var nbb_cells = Jupyter.notebook.get_cells();\n",
       "                for (var i = 0; i < nbb_cells.length; ++i) {\n",
       "                    if (nbb_cells[i].input_prompt_number == nbb_cell_id) {\n",
       "                        if (nbb_cells[i].get_text() == nbb_unformatted_code) {\n",
       "                             nbb_cells[i].set_text(nbb_formatted_code);\n",
       "                        }\n",
       "                        break;\n",
       "                    }\n",
       "                }\n",
       "            }, 500);\n",
       "            "
      ],
      "text/plain": [
       "<IPython.core.display.Javascript object>"
      ]
     },
     "metadata": {},
     "output_type": "display_data"
    }
   ],
   "source": [
    "# Garage Observation Mixup\n",
    "# GarageArea (nan) @ n=1116 is switched with GarageType (number)\n",
    "house_data[\"GarageArea\"][1116] = house_data[\"GarageType\"][1116]\n",
    "house_data[\"GarageType\"][1116] = np.nan #value of GarageArea[1116]\n"
   ]
  },
  {
   "cell_type": "code",
   "execution_count": 102,
   "metadata": {},
   "outputs": [
    {
     "data": {
      "application/javascript": [
       "\n",
       "            setTimeout(function() {\n",
       "                var nbb_cell_id = 102;\n",
       "                var nbb_unformatted_code = \"# Impute GarageCars\\nidx = house_data.index[house_data[\\\"GarageCars\\\"].isna()]\\n#house_data[\\\"GarageType\\\"][idx]  # Observation doesn't have a garage, so impute with 0\\nhouse_data[\\\"GarageCars\\\"].fillna(0, inplace=True)\";\n",
       "                var nbb_formatted_code = \"# Impute GarageCars\\nidx = house_data.index[house_data[\\\"GarageCars\\\"].isna()]\\n# house_data[\\\"GarageType\\\"][idx]  # Observation doesn't have a garage, so impute with 0\\nhouse_data[\\\"GarageCars\\\"].fillna(0, inplace=True)\";\n",
       "                var nbb_cells = Jupyter.notebook.get_cells();\n",
       "                for (var i = 0; i < nbb_cells.length; ++i) {\n",
       "                    if (nbb_cells[i].input_prompt_number == nbb_cell_id) {\n",
       "                        if (nbb_cells[i].get_text() == nbb_unformatted_code) {\n",
       "                             nbb_cells[i].set_text(nbb_formatted_code);\n",
       "                        }\n",
       "                        break;\n",
       "                    }\n",
       "                }\n",
       "            }, 500);\n",
       "            "
      ],
      "text/plain": [
       "<IPython.core.display.Javascript object>"
      ]
     },
     "metadata": {},
     "output_type": "display_data"
    }
   ],
   "source": [
    "# Impute GarageCars\n",
    "idx = house_data.index[house_data[\"GarageCars\"].isna()]\n",
    "#house_data[\"GarageType\"][idx]  # Observation doesn't have a garage, so impute with 0\n",
    "house_data[\"GarageCars\"].fillna(0, inplace=True)\n"
   ]
  },
  {
   "cell_type": "code",
   "execution_count": 103,
   "metadata": {
    "scrolled": true
   },
   "outputs": [
    {
     "data": {
      "application/javascript": [
       "\n",
       "            setTimeout(function() {\n",
       "                var nbb_cell_id = 103;\n",
       "                var nbb_unformatted_code = \"# Impute Garage: Assume GarageYrBlt the same as YearBuilt\\nidx = house_data.index[house_data[\\\"GarageYrBlt\\\"].isna()]\\nhouse_data[\\\"GarageYrBlt\\\"].fillna(house_data[\\\"YearBuilt\\\"][idx], inplace=True)\";\n",
       "                var nbb_formatted_code = \"# Impute Garage: Assume GarageYrBlt the same as YearBuilt\\nidx = house_data.index[house_data[\\\"GarageYrBlt\\\"].isna()]\\nhouse_data[\\\"GarageYrBlt\\\"].fillna(house_data[\\\"YearBuilt\\\"][idx], inplace=True)\";\n",
       "                var nbb_cells = Jupyter.notebook.get_cells();\n",
       "                for (var i = 0; i < nbb_cells.length; ++i) {\n",
       "                    if (nbb_cells[i].input_prompt_number == nbb_cell_id) {\n",
       "                        if (nbb_cells[i].get_text() == nbb_unformatted_code) {\n",
       "                             nbb_cells[i].set_text(nbb_formatted_code);\n",
       "                        }\n",
       "                        break;\n",
       "                    }\n",
       "                }\n",
       "            }, 500);\n",
       "            "
      ],
      "text/plain": [
       "<IPython.core.display.Javascript object>"
      ]
     },
     "metadata": {},
     "output_type": "display_data"
    }
   ],
   "source": [
    "# Impute Garage: Assume GarageYrBlt the same as YearBuilt\n",
    "idx = house_data.index[house_data[\"GarageYrBlt\"].isna()]\n",
    "house_data[\"GarageYrBlt\"].fillna(house_data[\"YearBuilt\"][idx], inplace=True)\n"
   ]
  },
  {
   "cell_type": "markdown",
   "metadata": {},
   "source": [
    "#### Impute Continuous Variables"
   ]
  },
  {
   "cell_type": "code",
   "execution_count": 104,
   "metadata": {},
   "outputs": [
    {
     "data": {
      "application/javascript": [
       "\n",
       "            setTimeout(function() {\n",
       "                var nbb_cell_id = 104;\n",
       "                var nbb_unformatted_code = \"# LotFrontage\\navg_LotFrontage = house_data['LotFrontage'].mean()\\nhouse_data['LotFrontage'].fillna(avg_LotFrontage, inplace=True)\\n\\n# MasVnrArea\\navg_MasVnrArea = house_data['MasVnrArea'].mean()\\nhouse_data['MasVnrArea'].fillna(avg_MasVnrArea, inplace=True)\";\n",
       "                var nbb_formatted_code = \"# LotFrontage\\navg_LotFrontage = house_data[\\\"LotFrontage\\\"].mean()\\nhouse_data[\\\"LotFrontage\\\"].fillna(avg_LotFrontage, inplace=True)\\n\\n# MasVnrArea\\navg_MasVnrArea = house_data[\\\"MasVnrArea\\\"].mean()\\nhouse_data[\\\"MasVnrArea\\\"].fillna(avg_MasVnrArea, inplace=True)\";\n",
       "                var nbb_cells = Jupyter.notebook.get_cells();\n",
       "                for (var i = 0; i < nbb_cells.length; ++i) {\n",
       "                    if (nbb_cells[i].input_prompt_number == nbb_cell_id) {\n",
       "                        if (nbb_cells[i].get_text() == nbb_unformatted_code) {\n",
       "                             nbb_cells[i].set_text(nbb_formatted_code);\n",
       "                        }\n",
       "                        break;\n",
       "                    }\n",
       "                }\n",
       "            }, 500);\n",
       "            "
      ],
      "text/plain": [
       "<IPython.core.display.Javascript object>"
      ]
     },
     "metadata": {},
     "output_type": "display_data"
    }
   ],
   "source": [
    "# LotFrontage\n",
    "avg_LotFrontage = house_data['LotFrontage'].mean()\n",
    "house_data['LotFrontage'].fillna(avg_LotFrontage, inplace=True)\n",
    "\n",
    "# MasVnrArea\n",
    "avg_MasVnrArea = house_data['MasVnrArea'].mean()\n",
    "house_data['MasVnrArea'].fillna(avg_MasVnrArea, inplace=True)\n"
   ]
  },
  {
   "cell_type": "code",
   "execution_count": 105,
   "metadata": {},
   "outputs": [
    {
     "data": {
      "application/javascript": [
       "\n",
       "            setTimeout(function() {\n",
       "                var nbb_cell_id = 105;\n",
       "                var nbb_unformatted_code = \"#Four Basement SF variables contains missing data for the same observation\\n# BsmtFinSF1\\nidx = house_data.index[house_data[\\\"BsmtFinSF1\\\"].isna()]\\n#house_data[\\\"BsmtCond\\\"][idx]  # Observation doesn't have a Basement, fill with 0\\nhouse_data[\\\"BsmtFinSF1\\\"].fillna(0, inplace=True)\\nhouse_data[\\\"BsmtFinSF2\\\"].fillna(0, inplace=True)\\nhouse_data[\\\"TotalBsmtSF\\\"].fillna(0, inplace=True)\\nhouse_data[\\\"BsmtUnfSF\\\"].fillna(0, inplace=True)\";\n",
       "                var nbb_formatted_code = \"# Four Basement SF variables contains missing data for the same observation\\n# BsmtFinSF1\\nidx = house_data.index[house_data[\\\"BsmtFinSF1\\\"].isna()]\\n# house_data[\\\"BsmtCond\\\"][idx]  # Observation doesn't have a Basement, fill with 0\\nhouse_data[\\\"BsmtFinSF1\\\"].fillna(0, inplace=True)\\nhouse_data[\\\"BsmtFinSF2\\\"].fillna(0, inplace=True)\\nhouse_data[\\\"TotalBsmtSF\\\"].fillna(0, inplace=True)\\nhouse_data[\\\"BsmtUnfSF\\\"].fillna(0, inplace=True)\";\n",
       "                var nbb_cells = Jupyter.notebook.get_cells();\n",
       "                for (var i = 0; i < nbb_cells.length; ++i) {\n",
       "                    if (nbb_cells[i].input_prompt_number == nbb_cell_id) {\n",
       "                        if (nbb_cells[i].get_text() == nbb_unformatted_code) {\n",
       "                             nbb_cells[i].set_text(nbb_formatted_code);\n",
       "                        }\n",
       "                        break;\n",
       "                    }\n",
       "                }\n",
       "            }, 500);\n",
       "            "
      ],
      "text/plain": [
       "<IPython.core.display.Javascript object>"
      ]
     },
     "metadata": {},
     "output_type": "display_data"
    }
   ],
   "source": [
    "#Four Basement SF variables contains missing data for the same observation\n",
    "# BsmtFinSF1\n",
    "idx = house_data.index[house_data[\"BsmtFinSF1\"].isna()]\n",
    "#house_data[\"BsmtCond\"][idx]  # Observation doesn't have a Basement, fill with 0\n",
    "house_data[\"BsmtFinSF1\"].fillna(0, inplace=True)\n",
    "house_data[\"BsmtFinSF2\"].fillna(0, inplace=True)\n",
    "house_data[\"TotalBsmtSF\"].fillna(0, inplace=True)\n",
    "house_data[\"BsmtUnfSF\"].fillna(0, inplace=True)\n"
   ]
  },
  {
   "cell_type": "code",
   "execution_count": 106,
   "metadata": {},
   "outputs": [
    {
     "name": "stdout",
     "output_type": "stream",
     "text": [
      "              n_missing  perc_missing\n",
      "OverallQual         0.0           0.0\n",
      "OverallCond         0.0           0.0\n",
      "LowQualFinSF        0.0           0.0\n",
      "BsmtFullBath        0.0           0.0\n",
      "BsmtHalfBath        0.0           0.0\n",
      "FullBath            0.0           0.0\n",
      "HalfBath            0.0           0.0\n",
      "BedroomAbvGr        0.0           0.0\n",
      "KitchenAbvGr        0.0           0.0\n",
      "TotRmsAbvGrd        0.0           0.0\n",
      "Fireplaces          0.0           0.0\n",
      "GarageCars          0.0           0.0\n",
      "3SsnPorch           0.0           0.0\n",
      "PoolArea            0.0           0.0\n",
      "               n_missing  perc_missing\n",
      "Id                   0.0           0.0\n",
      "MSSubClass           0.0           0.0\n",
      "LotFrontage          0.0           0.0\n",
      "LotArea              0.0           0.0\n",
      "YearBuilt            0.0           0.0\n",
      "YearRemodAdd         0.0           0.0\n",
      "MasVnrArea           0.0           0.0\n",
      "BsmtFinSF1           0.0           0.0\n",
      "BsmtFinSF2           0.0           0.0\n",
      "BsmtUnfSF            0.0           0.0\n",
      "TotalBsmtSF          0.0           0.0\n",
      "1stFlrSF             0.0           0.0\n",
      "2ndFlrSF             0.0           0.0\n",
      "GrLivArea            0.0           0.0\n",
      "GarageYrBlt          0.0           0.0\n",
      "GarageArea           0.0           0.0\n",
      "WoodDeckSF           0.0           0.0\n",
      "OpenPorchSF          0.0           0.0\n",
      "EnclosedPorch        0.0           0.0\n",
      "ScreenPorch          0.0           0.0\n",
      "MiscVal              0.0           0.0\n"
     ]
    },
    {
     "data": {
      "application/javascript": [
       "\n",
       "            setTimeout(function() {\n",
       "                var nbb_cell_id = 106;\n",
       "                var nbb_unformatted_code = \"# Sanity Check, should not have any NaN values\\nprint(miss_features(num_disc_features))\\nprint(miss_features(num_cont_features))\";\n",
       "                var nbb_formatted_code = \"# Sanity Check, should not have any NaN values\\nprint(miss_features(num_disc_features))\\nprint(miss_features(num_cont_features))\";\n",
       "                var nbb_cells = Jupyter.notebook.get_cells();\n",
       "                for (var i = 0; i < nbb_cells.length; ++i) {\n",
       "                    if (nbb_cells[i].input_prompt_number == nbb_cell_id) {\n",
       "                        if (nbb_cells[i].get_text() == nbb_unformatted_code) {\n",
       "                             nbb_cells[i].set_text(nbb_formatted_code);\n",
       "                        }\n",
       "                        break;\n",
       "                    }\n",
       "                }\n",
       "            }, 500);\n",
       "            "
      ],
      "text/plain": [
       "<IPython.core.display.Javascript object>"
      ]
     },
     "metadata": {},
     "output_type": "display_data"
    }
   ],
   "source": [
    "# Sanity Check, should not have any NaN values\n",
    "print(miss_features(num_disc_features))\n",
    "print(miss_features(num_cont_features))"
   ]
  },
  {
   "cell_type": "code",
   "execution_count": 107,
   "metadata": {},
   "outputs": [
    {
     "data": {
      "text/plain": [
       "Index(['Id', 'MSSubClass', 'MSZoning', 'LotFrontage', 'LotArea', 'Street',\n",
       "       'Alley', 'LotShape', 'LandContour', 'Utilities', 'LotConfig',\n",
       "       'LandSlope', 'Neighborhood', 'Condition1', 'Condition2', 'BldgType',\n",
       "       'HouseStyle', 'OverallQual', 'OverallCond', 'YearBuilt', 'YearRemodAdd',\n",
       "       'RoofStyle', 'RoofMatl', 'Exterior1st', 'Exterior2nd', 'MasVnrType',\n",
       "       'MasVnrArea', 'ExterQual', 'ExterCond', 'Foundation', 'BsmtQual',\n",
       "       'BsmtCond', 'BsmtExposure', 'BsmtFinType1', 'BsmtFinSF1',\n",
       "       'BsmtFinType2', 'BsmtFinSF2', 'BsmtUnfSF', 'TotalBsmtSF', 'Heating',\n",
       "       'HeatingQC', 'CentralAir', 'Electrical', '1stFlrSF', '2ndFlrSF',\n",
       "       'LowQualFinSF', 'GrLivArea', 'BsmtFullBath', 'BsmtHalfBath', 'FullBath',\n",
       "       'HalfBath', 'BedroomAbvGr', 'KitchenAbvGr', 'KitchenQual',\n",
       "       'TotRmsAbvGrd', 'Functional', 'Fireplaces', 'FireplaceQu', 'GarageType',\n",
       "       'GarageYrBlt', 'GarageFinish', 'GarageCars', 'GarageArea', 'GarageQual',\n",
       "       'GarageCond', 'PavedDrive', 'WoodDeckSF', 'OpenPorchSF',\n",
       "       'EnclosedPorch', '3SsnPorch', 'ScreenPorch', 'PoolArea', 'PoolQC',\n",
       "       'Fence', 'MiscFeature', 'MiscVal', 'MoSold', 'YrSold', 'SaleType',\n",
       "       'SaleCondition'],\n",
       "      dtype='object')"
      ]
     },
     "execution_count": 107,
     "metadata": {},
     "output_type": "execute_result"
    },
    {
     "data": {
      "application/javascript": [
       "\n",
       "            setTimeout(function() {\n",
       "                var nbb_cell_id = 107;\n",
       "                var nbb_unformatted_code = \"house_data.columns\";\n",
       "                var nbb_formatted_code = \"house_data.columns\";\n",
       "                var nbb_cells = Jupyter.notebook.get_cells();\n",
       "                for (var i = 0; i < nbb_cells.length; ++i) {\n",
       "                    if (nbb_cells[i].input_prompt_number == nbb_cell_id) {\n",
       "                        if (nbb_cells[i].get_text() == nbb_unformatted_code) {\n",
       "                             nbb_cells[i].set_text(nbb_formatted_code);\n",
       "                        }\n",
       "                        break;\n",
       "                    }\n",
       "                }\n",
       "            }, 500);\n",
       "            "
      ],
      "text/plain": [
       "<IPython.core.display.Javascript object>"
      ]
     },
     "metadata": {},
     "output_type": "display_data"
    }
   ],
   "source": [
    "house_data.columns"
   ]
  },
  {
   "cell_type": "markdown",
   "metadata": {},
   "source": [
    "## Feature Engineering"
   ]
  },
  {
   "cell_type": "code",
   "execution_count": 108,
   "metadata": {},
   "outputs": [
    {
     "data": {
      "application/javascript": [
       "\n",
       "            setTimeout(function() {\n",
       "                var nbb_cell_id = 108;\n",
       "                var nbb_unformatted_code = \"#Total area of house = Above ground living area + basement living area\\nhouse_data['TotalSF'] = house_data['GrLivArea'] + house_data['TotalBsmtSF']\";\n",
       "                var nbb_formatted_code = \"# Total area of house = Above ground living area + basement living area\\nhouse_data[\\\"TotalSF\\\"] = house_data[\\\"GrLivArea\\\"] + house_data[\\\"TotalBsmtSF\\\"]\";\n",
       "                var nbb_cells = Jupyter.notebook.get_cells();\n",
       "                for (var i = 0; i < nbb_cells.length; ++i) {\n",
       "                    if (nbb_cells[i].input_prompt_number == nbb_cell_id) {\n",
       "                        if (nbb_cells[i].get_text() == nbb_unformatted_code) {\n",
       "                             nbb_cells[i].set_text(nbb_formatted_code);\n",
       "                        }\n",
       "                        break;\n",
       "                    }\n",
       "                }\n",
       "            }, 500);\n",
       "            "
      ],
      "text/plain": [
       "<IPython.core.display.Javascript object>"
      ]
     },
     "metadata": {},
     "output_type": "display_data"
    }
   ],
   "source": [
    "#Total area of house = Above ground living area + basement living area\n",
    "house_data['TotalSF'] = house_data['GrLivArea'] + house_data['TotalBsmtSF']\n"
   ]
  },
  {
   "cell_type": "code",
   "execution_count": 109,
   "metadata": {},
   "outputs": [
    {
     "data": {
      "application/javascript": [
       "\n",
       "            setTimeout(function() {\n",
       "                var nbb_cell_id = 109;\n",
       "                var nbb_unformatted_code = \"#Age = Year sold - year built\\nhouse_data['Age'] = house_data['YrSold'] - house_data['YearBuilt']\";\n",
       "                var nbb_formatted_code = \"# Age = Year sold - year built\\nhouse_data[\\\"Age\\\"] = house_data[\\\"YrSold\\\"] - house_data[\\\"YearBuilt\\\"]\";\n",
       "                var nbb_cells = Jupyter.notebook.get_cells();\n",
       "                for (var i = 0; i < nbb_cells.length; ++i) {\n",
       "                    if (nbb_cells[i].input_prompt_number == nbb_cell_id) {\n",
       "                        if (nbb_cells[i].get_text() == nbb_unformatted_code) {\n",
       "                             nbb_cells[i].set_text(nbb_formatted_code);\n",
       "                        }\n",
       "                        break;\n",
       "                    }\n",
       "                }\n",
       "            }, 500);\n",
       "            "
      ],
      "text/plain": [
       "<IPython.core.display.Javascript object>"
      ]
     },
     "metadata": {},
     "output_type": "display_data"
    }
   ],
   "source": [
    "#Age = Year sold - year built\n",
    "house_data['Age'] = house_data['YrSold'] - house_data['YearBuilt']\n"
   ]
  },
  {
   "cell_type": "code",
   "execution_count": 110,
   "metadata": {},
   "outputs": [
    {
     "data": {
      "application/javascript": [
       "\n",
       "            setTimeout(function() {\n",
       "                var nbb_cell_id = 110;\n",
       "                var nbb_unformatted_code = \"#AgeRemod = Year sold - year remodeled\\nhouse_data['AgeRemod'] = house_data['YrSold'] - house_data['YearRemodAdd']\";\n",
       "                var nbb_formatted_code = \"# AgeRemod = Year sold - year remodeled\\nhouse_data[\\\"AgeRemod\\\"] = house_data[\\\"YrSold\\\"] - house_data[\\\"YearRemodAdd\\\"]\";\n",
       "                var nbb_cells = Jupyter.notebook.get_cells();\n",
       "                for (var i = 0; i < nbb_cells.length; ++i) {\n",
       "                    if (nbb_cells[i].input_prompt_number == nbb_cell_id) {\n",
       "                        if (nbb_cells[i].get_text() == nbb_unformatted_code) {\n",
       "                             nbb_cells[i].set_text(nbb_formatted_code);\n",
       "                        }\n",
       "                        break;\n",
       "                    }\n",
       "                }\n",
       "            }, 500);\n",
       "            "
      ],
      "text/plain": [
       "<IPython.core.display.Javascript object>"
      ]
     },
     "metadata": {},
     "output_type": "display_data"
    }
   ],
   "source": [
    "#AgeRemod = Year sold - year remodeled\n",
    "house_data['AgeRemod'] = house_data['YrSold'] - house_data['YearRemodAdd']\n"
   ]
  },
  {
   "cell_type": "code",
   "execution_count": 111,
   "metadata": {},
   "outputs": [
    {
     "data": {
      "application/javascript": [
       "\n",
       "            setTimeout(function() {\n",
       "                var nbb_cell_id = 111;\n",
       "                var nbb_unformatted_code = \"#Total porch SF = OpenPorchSF + EnclosedSF + 3SsnPorch + ScreenPorch\\nhouse_data['TotPorchSF'] = house_data['OpenPorchSF'] + house_data['EnclosedPorch'] + house_data['3SsnPorch'] + house_data['ScreenPorch']\";\n",
       "                var nbb_formatted_code = \"# Total porch SF = OpenPorchSF + EnclosedSF + 3SsnPorch + ScreenPorch\\nhouse_data[\\\"TotPorchSF\\\"] = (\\n    house_data[\\\"OpenPorchSF\\\"]\\n    + house_data[\\\"EnclosedPorch\\\"]\\n    + house_data[\\\"3SsnPorch\\\"]\\n    + house_data[\\\"ScreenPorch\\\"]\\n)\";\n",
       "                var nbb_cells = Jupyter.notebook.get_cells();\n",
       "                for (var i = 0; i < nbb_cells.length; ++i) {\n",
       "                    if (nbb_cells[i].input_prompt_number == nbb_cell_id) {\n",
       "                        if (nbb_cells[i].get_text() == nbb_unformatted_code) {\n",
       "                             nbb_cells[i].set_text(nbb_formatted_code);\n",
       "                        }\n",
       "                        break;\n",
       "                    }\n",
       "                }\n",
       "            }, 500);\n",
       "            "
      ],
      "text/plain": [
       "<IPython.core.display.Javascript object>"
      ]
     },
     "metadata": {},
     "output_type": "display_data"
    }
   ],
   "source": [
    "#Total porch SF = OpenPorchSF + EnclosedSF + 3SsnPorch + ScreenPorch\n",
    "house_data['TotPorchSF'] = house_data['OpenPorchSF'] + house_data['EnclosedPorch'] + house_data['3SsnPorch'] + house_data['ScreenPorch']\n"
   ]
  },
  {
   "cell_type": "code",
   "execution_count": 112,
   "metadata": {},
   "outputs": [
    {
     "data": {
      "application/javascript": [
       "\n",
       "            setTimeout(function() {\n",
       "                var nbb_cell_id = 112;\n",
       "                var nbb_unformatted_code = \"#Total bathrooms = Full bath + 0.5*Halfbath (for both house and basement)\\nhouse_data['TotBaths'] = house_data['FullBath'] + house_data['BsmtFullBath'] + 0.5*house_data['HalfBath'] + 0.5*house_data['BsmtHalfBath']\";\n",
       "                var nbb_formatted_code = \"# Total bathrooms = Full bath + 0.5*Halfbath (for both house and basement)\\nhouse_data[\\\"TotBaths\\\"] = (\\n    house_data[\\\"FullBath\\\"]\\n    + house_data[\\\"BsmtFullBath\\\"]\\n    + 0.5 * house_data[\\\"HalfBath\\\"]\\n    + 0.5 * house_data[\\\"BsmtHalfBath\\\"]\\n)\";\n",
       "                var nbb_cells = Jupyter.notebook.get_cells();\n",
       "                for (var i = 0; i < nbb_cells.length; ++i) {\n",
       "                    if (nbb_cells[i].input_prompt_number == nbb_cell_id) {\n",
       "                        if (nbb_cells[i].get_text() == nbb_unformatted_code) {\n",
       "                             nbb_cells[i].set_text(nbb_formatted_code);\n",
       "                        }\n",
       "                        break;\n",
       "                    }\n",
       "                }\n",
       "            }, 500);\n",
       "            "
      ],
      "text/plain": [
       "<IPython.core.display.Javascript object>"
      ]
     },
     "metadata": {},
     "output_type": "display_data"
    }
   ],
   "source": [
    "#Total bathrooms = Full bath + 0.5*Halfbath (for both house and basement)\n",
    "house_data['TotBaths'] = house_data['FullBath'] + house_data['BsmtFullBath'] + 0.5*house_data['HalfBath'] + 0.5*house_data['BsmtHalfBath']\n"
   ]
  },
  {
   "cell_type": "code",
   "execution_count": 113,
   "metadata": {},
   "outputs": [
    {
     "data": {
      "application/javascript": [
       "\n",
       "            setTimeout(function() {\n",
       "                var nbb_cell_id = 113;\n",
       "                var nbb_unformatted_code = \"# Total number of car garage = 1, 2, 3+ cars\\nhouse_data[\\\"TotCarGarage\\\"] = pd.Series(\\n    len(house_data[\\\"GarageCars\\\"]), index=house_data.index\\n)\\nhouse_data[\\\"TotCarGarage\\\"] = 0\\nhouse_data.loc[house_data[\\\"GarageCars\\\"] >= 3, \\\"TotCarGarage\\\"] = 3\";\n",
       "                var nbb_formatted_code = \"# Total number of car garage = 1, 2, 3+ cars\\nhouse_data[\\\"TotCarGarage\\\"] = pd.Series(\\n    len(house_data[\\\"GarageCars\\\"]), index=house_data.index\\n)\\nhouse_data[\\\"TotCarGarage\\\"] = 0\\nhouse_data.loc[house_data[\\\"GarageCars\\\"] >= 3, \\\"TotCarGarage\\\"] = 3\";\n",
       "                var nbb_cells = Jupyter.notebook.get_cells();\n",
       "                for (var i = 0; i < nbb_cells.length; ++i) {\n",
       "                    if (nbb_cells[i].input_prompt_number == nbb_cell_id) {\n",
       "                        if (nbb_cells[i].get_text() == nbb_unformatted_code) {\n",
       "                             nbb_cells[i].set_text(nbb_formatted_code);\n",
       "                        }\n",
       "                        break;\n",
       "                    }\n",
       "                }\n",
       "            }, 500);\n",
       "            "
      ],
      "text/plain": [
       "<IPython.core.display.Javascript object>"
      ]
     },
     "metadata": {},
     "output_type": "display_data"
    }
   ],
   "source": [
    "# Total number of car garage = 1, 2, 3+ cars\n",
    "house_data[\"TotCarGarage\"] = pd.Series(\n",
    "    len(house_data[\"GarageCars\"]), index=house_data.index\n",
    ")\n",
    "house_data[\"TotCarGarage\"] = 0\n",
    "house_data.loc[house_data[\"GarageCars\"] >= 3, \"TotCarGarage\"] = 3"
   ]
  },
  {
   "cell_type": "code",
   "execution_count": 114,
   "metadata": {},
   "outputs": [
    {
     "data": {
      "application/javascript": [
       "\n",
       "            setTimeout(function() {\n",
       "                var nbb_cell_id = 114;\n",
       "                var nbb_unformatted_code = \"#Has Second Floor = 0 (no) or 1 (yes)\\nhouse_data['Has2ndFl'] = pd.Series(len(house_data['2ndFlrSF']), index=house_data.index)\\nhouse_data['Has2ndFl'] = 0 \\nhouse_data.loc[house_data['2ndFlrSF'] > 0,'Has2ndFl'] = 1\";\n",
       "                var nbb_formatted_code = \"# Has Second Floor = 0 (no) or 1 (yes)\\nhouse_data[\\\"Has2ndFl\\\"] = pd.Series(len(house_data[\\\"2ndFlrSF\\\"]), index=house_data.index)\\nhouse_data[\\\"Has2ndFl\\\"] = 0\\nhouse_data.loc[house_data[\\\"2ndFlrSF\\\"] > 0, \\\"Has2ndFl\\\"] = 1\";\n",
       "                var nbb_cells = Jupyter.notebook.get_cells();\n",
       "                for (var i = 0; i < nbb_cells.length; ++i) {\n",
       "                    if (nbb_cells[i].input_prompt_number == nbb_cell_id) {\n",
       "                        if (nbb_cells[i].get_text() == nbb_unformatted_code) {\n",
       "                             nbb_cells[i].set_text(nbb_formatted_code);\n",
       "                        }\n",
       "                        break;\n",
       "                    }\n",
       "                }\n",
       "            }, 500);\n",
       "            "
      ],
      "text/plain": [
       "<IPython.core.display.Javascript object>"
      ]
     },
     "metadata": {},
     "output_type": "display_data"
    }
   ],
   "source": [
    "#Has Second Floor = 0 (no) or 1 (yes)\n",
    "house_data['Has2ndFl'] = pd.Series(len(house_data['2ndFlrSF']), index=house_data.index)\n",
    "house_data['Has2ndFl'] = 0 \n",
    "house_data.loc[house_data['2ndFlrSF'] > 0,'Has2ndFl'] = 1\n"
   ]
  },
  {
   "cell_type": "code",
   "execution_count": 115,
   "metadata": {},
   "outputs": [
    {
     "data": {
      "application/javascript": [
       "\n",
       "            setTimeout(function() {\n",
       "                var nbb_cell_id = 115;\n",
       "                var nbb_unformatted_code = \"#Has Porch = 0 (no) or 1 (yes)\\nhouse_data['HasPorch'] = pd.Series(len(house_data['TotPorchSF']), index=house_data.index)\\nhouse_data['HasPorch'] = 0 \\nhouse_data.loc[house_data['TotPorchSF'] > 0,'HasPorch'] = 1\";\n",
       "                var nbb_formatted_code = \"# Has Porch = 0 (no) or 1 (yes)\\nhouse_data[\\\"HasPorch\\\"] = pd.Series(\\n    len(house_data[\\\"TotPorchSF\\\"]), index=house_data.index\\n)\\nhouse_data[\\\"HasPorch\\\"] = 0\\nhouse_data.loc[house_data[\\\"TotPorchSF\\\"] > 0, \\\"HasPorch\\\"] = 1\";\n",
       "                var nbb_cells = Jupyter.notebook.get_cells();\n",
       "                for (var i = 0; i < nbb_cells.length; ++i) {\n",
       "                    if (nbb_cells[i].input_prompt_number == nbb_cell_id) {\n",
       "                        if (nbb_cells[i].get_text() == nbb_unformatted_code) {\n",
       "                             nbb_cells[i].set_text(nbb_formatted_code);\n",
       "                        }\n",
       "                        break;\n",
       "                    }\n",
       "                }\n",
       "            }, 500);\n",
       "            "
      ],
      "text/plain": [
       "<IPython.core.display.Javascript object>"
      ]
     },
     "metadata": {},
     "output_type": "display_data"
    }
   ],
   "source": [
    "#Has Porch = 0 (no) or 1 (yes)\n",
    "house_data['HasPorch'] = pd.Series(len(house_data['TotPorchSF']), index=house_data.index)\n",
    "house_data['HasPorch'] = 0 \n",
    "house_data.loc[house_data['TotPorchSF'] > 0,'HasPorch'] = 1\n"
   ]
  },
  {
   "cell_type": "code",
   "execution_count": 116,
   "metadata": {},
   "outputs": [
    {
     "data": {
      "application/javascript": [
       "\n",
       "            setTimeout(function() {\n",
       "                var nbb_cell_id = 116;\n",
       "                var nbb_unformatted_code = \"#Has Deck = 0 (no) or 1 (yes)\\nhouse_data['HasDeck'] = pd.Series(len(house_data['WoodDeckSF']), index=house_data.index)\\nhouse_data['HasDeck'] = 0 \\nhouse_data.loc[house_data['WoodDeckSF'] > 0,'HasDeck'] = 1\";\n",
       "                var nbb_formatted_code = \"# Has Deck = 0 (no) or 1 (yes)\\nhouse_data[\\\"HasDeck\\\"] = pd.Series(len(house_data[\\\"WoodDeckSF\\\"]), index=house_data.index)\\nhouse_data[\\\"HasDeck\\\"] = 0\\nhouse_data.loc[house_data[\\\"WoodDeckSF\\\"] > 0, \\\"HasDeck\\\"] = 1\";\n",
       "                var nbb_cells = Jupyter.notebook.get_cells();\n",
       "                for (var i = 0; i < nbb_cells.length; ++i) {\n",
       "                    if (nbb_cells[i].input_prompt_number == nbb_cell_id) {\n",
       "                        if (nbb_cells[i].get_text() == nbb_unformatted_code) {\n",
       "                             nbb_cells[i].set_text(nbb_formatted_code);\n",
       "                        }\n",
       "                        break;\n",
       "                    }\n",
       "                }\n",
       "            }, 500);\n",
       "            "
      ],
      "text/plain": [
       "<IPython.core.display.Javascript object>"
      ]
     },
     "metadata": {},
     "output_type": "display_data"
    }
   ],
   "source": [
    "#Has Deck = 0 (no) or 1 (yes)\n",
    "house_data['HasDeck'] = pd.Series(len(house_data['WoodDeckSF']), index=house_data.index)\n",
    "house_data['HasDeck'] = 0 \n",
    "house_data.loc[house_data['WoodDeckSF'] > 0,'HasDeck'] = 1\n"
   ]
  },
  {
   "cell_type": "code",
   "execution_count": 117,
   "metadata": {},
   "outputs": [
    {
     "data": {
      "application/javascript": [
       "\n",
       "            setTimeout(function() {\n",
       "                var nbb_cell_id = 117;\n",
       "                var nbb_unformatted_code = \"#Has Pool = 0 (no) or 1 (yes)\\nhouse_data['HasPool'] = pd.Series(len(house_data['PoolArea']), index=house_data.index)\\nhouse_data['HasPool'] = 0 \\nhouse_data.loc[house_data['PoolArea'] > 0,'HasPool'] = 1\";\n",
       "                var nbb_formatted_code = \"# Has Pool = 0 (no) or 1 (yes)\\nhouse_data[\\\"HasPool\\\"] = pd.Series(len(house_data[\\\"PoolArea\\\"]), index=house_data.index)\\nhouse_data[\\\"HasPool\\\"] = 0\\nhouse_data.loc[house_data[\\\"PoolArea\\\"] > 0, \\\"HasPool\\\"] = 1\";\n",
       "                var nbb_cells = Jupyter.notebook.get_cells();\n",
       "                for (var i = 0; i < nbb_cells.length; ++i) {\n",
       "                    if (nbb_cells[i].input_prompt_number == nbb_cell_id) {\n",
       "                        if (nbb_cells[i].get_text() == nbb_unformatted_code) {\n",
       "                             nbb_cells[i].set_text(nbb_formatted_code);\n",
       "                        }\n",
       "                        break;\n",
       "                    }\n",
       "                }\n",
       "            }, 500);\n",
       "            "
      ],
      "text/plain": [
       "<IPython.core.display.Javascript object>"
      ]
     },
     "metadata": {},
     "output_type": "display_data"
    }
   ],
   "source": [
    "#Has Pool = 0 (no) or 1 (yes)\n",
    "house_data['HasPool'] = pd.Series(len(house_data['PoolArea']), index=house_data.index)\n",
    "house_data['HasPool'] = 0 \n",
    "house_data.loc[house_data['PoolArea'] > 0,'HasPool'] = 1\n"
   ]
  },
  {
   "cell_type": "code",
   "execution_count": 118,
   "metadata": {},
   "outputs": [
    {
     "data": {
      "application/javascript": [
       "\n",
       "            setTimeout(function() {\n",
       "                var nbb_cell_id = 118;\n",
       "                var nbb_unformatted_code = \"# #Has Fireplace = 0 (no), 1 (yes, not excellent quality), or 2 (excellent quality)\\n# house_data['HasFirePlace'] = pd.Series(len(house_data['FireplaceQu']), index=house_data.index)\\n# house_data['HasFirePlace'] = 1 #default all houses have a fireplace \\n# house_data.loc[house_data['FireplaceQu'].isna(),'HasFirePlace'] = 0 #replace 1 with 0 for 'No Fireplace'\\n# house_data.loc[house_data['FireplaceQu']== 'Ex','HasFirePlace'] = 2 #replace 1 with 2 for 'Excellent Fireplace'\";\n",
       "                var nbb_formatted_code = \"# #Has Fireplace = 0 (no), 1 (yes, not excellent quality), or 2 (excellent quality)\\n# house_data['HasFirePlace'] = pd.Series(len(house_data['FireplaceQu']), index=house_data.index)\\n# house_data['HasFirePlace'] = 1 #default all houses have a fireplace\\n# house_data.loc[house_data['FireplaceQu'].isna(),'HasFirePlace'] = 0 #replace 1 with 0 for 'No Fireplace'\\n# house_data.loc[house_data['FireplaceQu']== 'Ex','HasFirePlace'] = 2 #replace 1 with 2 for 'Excellent Fireplace'\";\n",
       "                var nbb_cells = Jupyter.notebook.get_cells();\n",
       "                for (var i = 0; i < nbb_cells.length; ++i) {\n",
       "                    if (nbb_cells[i].input_prompt_number == nbb_cell_id) {\n",
       "                        if (nbb_cells[i].get_text() == nbb_unformatted_code) {\n",
       "                             nbb_cells[i].set_text(nbb_formatted_code);\n",
       "                        }\n",
       "                        break;\n",
       "                    }\n",
       "                }\n",
       "            }, 500);\n",
       "            "
      ],
      "text/plain": [
       "<IPython.core.display.Javascript object>"
      ]
     },
     "metadata": {},
     "output_type": "display_data"
    }
   ],
   "source": [
    "# #Has Fireplace = 0 (no), 1 (yes, not excellent quality), or 2 (excellent quality)\n",
    "# house_data['HasFirePlace'] = pd.Series(len(house_data['FireplaceQu']), index=house_data.index)\n",
    "# house_data['HasFirePlace'] = 1 #default all houses have a fireplace \n",
    "# house_data.loc[house_data['FireplaceQu'].isna(),'HasFirePlace'] = 0 #replace 1 with 0 for 'No Fireplace'\n",
    "# house_data.loc[house_data['FireplaceQu']== 'Ex','HasFirePlace'] = 2 #replace 1 with 2 for 'Excellent Fireplace'\n"
   ]
  },
  {
   "cell_type": "code",
   "execution_count": 119,
   "metadata": {},
   "outputs": [
    {
     "data": {
      "application/javascript": [
       "\n",
       "            setTimeout(function() {\n",
       "                var nbb_cell_id = 119;\n",
       "                var nbb_unformatted_code = \"# #Has Gas Heating = 0 (no) or 1 (yes, GasA or GasW)\\n# house_data['HasGasHeating'] = pd.Series(len(house_data['Heating']), index=house_data.index)\\n# house_data['HasGasHeating'] = 0 \\n# house_data.loc[house_data['Heating']== 'GasA','HasGasHeating'] = 1\\n# house_data.loc[house_data['Heating']== 'GasW','HasGasHeating'] = 1\";\n",
       "                var nbb_formatted_code = \"# #Has Gas Heating = 0 (no) or 1 (yes, GasA or GasW)\\n# house_data['HasGasHeating'] = pd.Series(len(house_data['Heating']), index=house_data.index)\\n# house_data['HasGasHeating'] = 0\\n# house_data.loc[house_data['Heating']== 'GasA','HasGasHeating'] = 1\\n# house_data.loc[house_data['Heating']== 'GasW','HasGasHeating'] = 1\";\n",
       "                var nbb_cells = Jupyter.notebook.get_cells();\n",
       "                for (var i = 0; i < nbb_cells.length; ++i) {\n",
       "                    if (nbb_cells[i].input_prompt_number == nbb_cell_id) {\n",
       "                        if (nbb_cells[i].get_text() == nbb_unformatted_code) {\n",
       "                             nbb_cells[i].set_text(nbb_formatted_code);\n",
       "                        }\n",
       "                        break;\n",
       "                    }\n",
       "                }\n",
       "            }, 500);\n",
       "            "
      ],
      "text/plain": [
       "<IPython.core.display.Javascript object>"
      ]
     },
     "metadata": {},
     "output_type": "display_data"
    }
   ],
   "source": [
    "# #Has Gas Heating = 0 (no) or 1 (yes, GasA or GasW)\n",
    "# house_data['HasGasHeating'] = pd.Series(len(house_data['Heating']), index=house_data.index)\n",
    "# house_data['HasGasHeating'] = 0 \n",
    "# house_data.loc[house_data['Heating']== 'GasA','HasGasHeating'] = 1\n",
    "# house_data.loc[house_data['Heating']== 'GasW','HasGasHeating'] = 1\n"
   ]
  },
  {
   "cell_type": "code",
   "execution_count": 120,
   "metadata": {},
   "outputs": [
    {
     "data": {
      "application/javascript": [
       "\n",
       "            setTimeout(function() {\n",
       "                var nbb_cell_id = 120;\n",
       "                var nbb_unformatted_code = \"# #Has Modern Circuitbreaker = 0 (no) or 1 (yes)\\n# house_data['HasSBrkr'] = pd.Series(len(house_data['Electrical']), index=house_data.index)\\n# house_data['HasSBrkr'] = 0 \\n# house_data.loc[house_data['Electrical']== 'SBrkr','HasSBrkr'] = 1\";\n",
       "                var nbb_formatted_code = \"# #Has Modern Circuitbreaker = 0 (no) or 1 (yes)\\n# house_data['HasSBrkr'] = pd.Series(len(house_data['Electrical']), index=house_data.index)\\n# house_data['HasSBrkr'] = 0\\n# house_data.loc[house_data['Electrical']== 'SBrkr','HasSBrkr'] = 1\";\n",
       "                var nbb_cells = Jupyter.notebook.get_cells();\n",
       "                for (var i = 0; i < nbb_cells.length; ++i) {\n",
       "                    if (nbb_cells[i].input_prompt_number == nbb_cell_id) {\n",
       "                        if (nbb_cells[i].get_text() == nbb_unformatted_code) {\n",
       "                             nbb_cells[i].set_text(nbb_formatted_code);\n",
       "                        }\n",
       "                        break;\n",
       "                    }\n",
       "                }\n",
       "            }, 500);\n",
       "            "
      ],
      "text/plain": [
       "<IPython.core.display.Javascript object>"
      ]
     },
     "metadata": {},
     "output_type": "display_data"
    }
   ],
   "source": [
    "# #Has Modern Circuitbreaker = 0 (no) or 1 (yes)\n",
    "# house_data['HasSBrkr'] = pd.Series(len(house_data['Electrical']), index=house_data.index)\n",
    "# house_data['HasSBrkr'] = 0 \n",
    "# house_data.loc[house_data['Electrical']== 'SBrkr','HasSBrkr'] = 1\n"
   ]
  },
  {
   "cell_type": "code",
   "execution_count": 121,
   "metadata": {},
   "outputs": [
    {
     "data": {
      "application/javascript": [
       "\n",
       "            setTimeout(function() {\n",
       "                var nbb_cell_id = 121;\n",
       "                var nbb_unformatted_code = \"# #Has excellent basement quality = 0 (no) or 1 (yes)\\n# house_data['HasExBsmtQual'] = pd.Series(len(house_data['BsmtQual']), index=house_data.index)\\n# house_data['HasExBsmtQual'] = 0 \\n# house_data.loc[house_data['BsmtQual']== 'Ex','HasExBsmtQual'] = 1\";\n",
       "                var nbb_formatted_code = \"# #Has excellent basement quality = 0 (no) or 1 (yes)\\n# house_data['HasExBsmtQual'] = pd.Series(len(house_data['BsmtQual']), index=house_data.index)\\n# house_data['HasExBsmtQual'] = 0\\n# house_data.loc[house_data['BsmtQual']== 'Ex','HasExBsmtQual'] = 1\";\n",
       "                var nbb_cells = Jupyter.notebook.get_cells();\n",
       "                for (var i = 0; i < nbb_cells.length; ++i) {\n",
       "                    if (nbb_cells[i].input_prompt_number == nbb_cell_id) {\n",
       "                        if (nbb_cells[i].get_text() == nbb_unformatted_code) {\n",
       "                             nbb_cells[i].set_text(nbb_formatted_code);\n",
       "                        }\n",
       "                        break;\n",
       "                    }\n",
       "                }\n",
       "            }, 500);\n",
       "            "
      ],
      "text/plain": [
       "<IPython.core.display.Javascript object>"
      ]
     },
     "metadata": {},
     "output_type": "display_data"
    }
   ],
   "source": [
    "# #Has excellent basement quality = 0 (no) or 1 (yes)\n",
    "# house_data['HasExBsmtQual'] = pd.Series(len(house_data['BsmtQual']), index=house_data.index)\n",
    "# house_data['HasExBsmtQual'] = 0 \n",
    "# house_data.loc[house_data['BsmtQual']== 'Ex','HasExBsmtQual'] = 1\n"
   ]
  },
  {
   "cell_type": "code",
   "execution_count": 122,
   "metadata": {},
   "outputs": [
    {
     "data": {
      "application/javascript": [
       "\n",
       "            setTimeout(function() {\n",
       "                var nbb_cell_id = 122;\n",
       "                var nbb_unformatted_code = \"# #Has Basement Exposure = 0 (no) or 1 (yes)\\n# house_data['HasGd'] = pd.Series(len(house_data['BsmtExposure']), index=house_data.index)\\n# house_data['HasGd'] = 0 \\n# house_data.loc[house_data['BsmtExposure']== 'Gd','HasGd'] = 1\";\n",
       "                var nbb_formatted_code = \"# #Has Basement Exposure = 0 (no) or 1 (yes)\\n# house_data['HasGd'] = pd.Series(len(house_data['BsmtExposure']), index=house_data.index)\\n# house_data['HasGd'] = 0\\n# house_data.loc[house_data['BsmtExposure']== 'Gd','HasGd'] = 1\";\n",
       "                var nbb_cells = Jupyter.notebook.get_cells();\n",
       "                for (var i = 0; i < nbb_cells.length; ++i) {\n",
       "                    if (nbb_cells[i].input_prompt_number == nbb_cell_id) {\n",
       "                        if (nbb_cells[i].get_text() == nbb_unformatted_code) {\n",
       "                             nbb_cells[i].set_text(nbb_formatted_code);\n",
       "                        }\n",
       "                        break;\n",
       "                    }\n",
       "                }\n",
       "            }, 500);\n",
       "            "
      ],
      "text/plain": [
       "<IPython.core.display.Javascript object>"
      ]
     },
     "metadata": {},
     "output_type": "display_data"
    }
   ],
   "source": [
    "# #Has Basement Exposure = 0 (no) or 1 (yes)\n",
    "# house_data['HasGd'] = pd.Series(len(house_data['BsmtExposure']), index=house_data.index)\n",
    "# house_data['HasGd'] = 0 \n",
    "# house_data.loc[house_data['BsmtExposure']== 'Gd','HasGd'] = 1\n"
   ]
  },
  {
   "cell_type": "code",
   "execution_count": 123,
   "metadata": {},
   "outputs": [
    {
     "data": {
      "application/javascript": [
       "\n",
       "            setTimeout(function() {\n",
       "                var nbb_cell_id = 123;\n",
       "                var nbb_unformatted_code = \"# #Has Basement with good living quarters = 0 (no) or 1 (yes)\\n# house_data['HasGLQ'] = pd.Series(len(house_data['BsmtFinType1']), index=house_data.index)\\n# house_data['HasGLQ'] = 0 \\n# house_data.loc[house_data['BsmtFinType1']== 'GLQ','HasGLQ'] = 1\";\n",
       "                var nbb_formatted_code = \"# #Has Basement with good living quarters = 0 (no) or 1 (yes)\\n# house_data['HasGLQ'] = pd.Series(len(house_data['BsmtFinType1']), index=house_data.index)\\n# house_data['HasGLQ'] = 0\\n# house_data.loc[house_data['BsmtFinType1']== 'GLQ','HasGLQ'] = 1\";\n",
       "                var nbb_cells = Jupyter.notebook.get_cells();\n",
       "                for (var i = 0; i < nbb_cells.length; ++i) {\n",
       "                    if (nbb_cells[i].input_prompt_number == nbb_cell_id) {\n",
       "                        if (nbb_cells[i].get_text() == nbb_unformatted_code) {\n",
       "                             nbb_cells[i].set_text(nbb_formatted_code);\n",
       "                        }\n",
       "                        break;\n",
       "                    }\n",
       "                }\n",
       "            }, 500);\n",
       "            "
      ],
      "text/plain": [
       "<IPython.core.display.Javascript object>"
      ]
     },
     "metadata": {},
     "output_type": "display_data"
    }
   ],
   "source": [
    "# #Has Basement with good living quarters = 0 (no) or 1 (yes)\n",
    "# house_data['HasGLQ'] = pd.Series(len(house_data['BsmtFinType1']), index=house_data.index)\n",
    "# house_data['HasGLQ'] = 0 \n",
    "# house_data.loc[house_data['BsmtFinType1']== 'GLQ','HasGLQ'] = 1\n"
   ]
  },
  {
   "cell_type": "code",
   "execution_count": 124,
   "metadata": {},
   "outputs": [
    {
     "data": {
      "application/javascript": [
       "\n",
       "            setTimeout(function() {\n",
       "                var nbb_cell_id = 124;\n",
       "                var nbb_unformatted_code = \"# #Has paved driveway = 0 (no) or 1 (yes)\\n# house_data['HasPavedDrive'] = pd.Series(len(house_data['PavedDrive']), index=house_data.index)\\n# house_data['HasPavedDrive'] = 0 \\n# house_data.loc[house_data['PavedDrive']== 'Y','HasPavedDrive'] = 1\";\n",
       "                var nbb_formatted_code = \"# #Has paved driveway = 0 (no) or 1 (yes)\\n# house_data['HasPavedDrive'] = pd.Series(len(house_data['PavedDrive']), index=house_data.index)\\n# house_data['HasPavedDrive'] = 0\\n# house_data.loc[house_data['PavedDrive']== 'Y','HasPavedDrive'] = 1\";\n",
       "                var nbb_cells = Jupyter.notebook.get_cells();\n",
       "                for (var i = 0; i < nbb_cells.length; ++i) {\n",
       "                    if (nbb_cells[i].input_prompt_number == nbb_cell_id) {\n",
       "                        if (nbb_cells[i].get_text() == nbb_unformatted_code) {\n",
       "                             nbb_cells[i].set_text(nbb_formatted_code);\n",
       "                        }\n",
       "                        break;\n",
       "                    }\n",
       "                }\n",
       "            }, 500);\n",
       "            "
      ],
      "text/plain": [
       "<IPython.core.display.Javascript object>"
      ]
     },
     "metadata": {},
     "output_type": "display_data"
    }
   ],
   "source": [
    "# #Has paved driveway = 0 (no) or 1 (yes)\n",
    "# house_data['HasPavedDrive'] = pd.Series(len(house_data['PavedDrive']), index=house_data.index)\n",
    "# house_data['HasPavedDrive'] = 0 \n",
    "# house_data.loc[house_data['PavedDrive']== 'Y','HasPavedDrive'] = 1\n"
   ]
  },
  {
   "cell_type": "code",
   "execution_count": 125,
   "metadata": {},
   "outputs": [
    {
     "data": {
      "application/javascript": [
       "\n",
       "            setTimeout(function() {\n",
       "                var nbb_cell_id = 125;\n",
       "                var nbb_unformatted_code = \"#HasIrregularLotShape = 0 (no) or 1 (yes)\\nhouse_data['HasIrregularLotShape'] = pd.Series(len(house_data['LotShape']), index=house_data.index)\\nhouse_data['HasIrregularLotShape'] = 0 \\nhouse_data.loc[house_data['LotShape'] != 'Reg','HasIrregularLotShape'] = 1\";\n",
       "                var nbb_formatted_code = \"# HasIrregularLotShape = 0 (no) or 1 (yes)\\nhouse_data[\\\"HasIrregularLotShape\\\"] = pd.Series(\\n    len(house_data[\\\"LotShape\\\"]), index=house_data.index\\n)\\nhouse_data[\\\"HasIrregularLotShape\\\"] = 0\\nhouse_data.loc[house_data[\\\"LotShape\\\"] != \\\"Reg\\\", \\\"HasIrregularLotShape\\\"] = 1\";\n",
       "                var nbb_cells = Jupyter.notebook.get_cells();\n",
       "                for (var i = 0; i < nbb_cells.length; ++i) {\n",
       "                    if (nbb_cells[i].input_prompt_number == nbb_cell_id) {\n",
       "                        if (nbb_cells[i].get_text() == nbb_unformatted_code) {\n",
       "                             nbb_cells[i].set_text(nbb_formatted_code);\n",
       "                        }\n",
       "                        break;\n",
       "                    }\n",
       "                }\n",
       "            }, 500);\n",
       "            "
      ],
      "text/plain": [
       "<IPython.core.display.Javascript object>"
      ]
     },
     "metadata": {},
     "output_type": "display_data"
    }
   ],
   "source": [
    "#HasIrregularLotShape = 0 (no) or 1 (yes)\n",
    "house_data['HasIrregularLotShape'] = pd.Series(len(house_data['LotShape']), index=house_data.index)\n",
    "house_data['HasIrregularLotShape'] = 0 \n",
    "house_data.loc[house_data['LotShape'] != 'Reg','HasIrregularLotShape'] = 1\n"
   ]
  },
  {
   "cell_type": "code",
   "execution_count": 126,
   "metadata": {},
   "outputs": [
    {
     "data": {
      "application/javascript": [
       "\n",
       "            setTimeout(function() {\n",
       "                var nbb_cell_id = 126;\n",
       "                var nbb_unformatted_code = \"#HasLandSlope = 0 (gentle) or 1 (~gentle)\\nhouse_data['HasLandSlope'] = pd.Series(len(house_data['LandSlope']), index=house_data.index)\\nhouse_data['HasLandSlope'] = 0 \\nhouse_data.loc[house_data['LandSlope'] != 'Gtl','HasLandSlope'] = 1\";\n",
       "                var nbb_formatted_code = \"# HasLandSlope = 0 (gentle) or 1 (~gentle)\\nhouse_data[\\\"HasLandSlope\\\"] = pd.Series(\\n    len(house_data[\\\"LandSlope\\\"]), index=house_data.index\\n)\\nhouse_data[\\\"HasLandSlope\\\"] = 0\\nhouse_data.loc[house_data[\\\"LandSlope\\\"] != \\\"Gtl\\\", \\\"HasLandSlope\\\"] = 1\";\n",
       "                var nbb_cells = Jupyter.notebook.get_cells();\n",
       "                for (var i = 0; i < nbb_cells.length; ++i) {\n",
       "                    if (nbb_cells[i].input_prompt_number == nbb_cell_id) {\n",
       "                        if (nbb_cells[i].get_text() == nbb_unformatted_code) {\n",
       "                             nbb_cells[i].set_text(nbb_formatted_code);\n",
       "                        }\n",
       "                        break;\n",
       "                    }\n",
       "                }\n",
       "            }, 500);\n",
       "            "
      ],
      "text/plain": [
       "<IPython.core.display.Javascript object>"
      ]
     },
     "metadata": {},
     "output_type": "display_data"
    }
   ],
   "source": [
    "#HasLandSlope = 0 (gentle) or 1 (~gentle)\n",
    "house_data['HasLandSlope'] = pd.Series(len(house_data['LandSlope']), index=house_data.index)\n",
    "house_data['HasLandSlope'] = 0 \n",
    "house_data.loc[house_data['LandSlope'] != 'Gtl','HasLandSlope'] = 1\n"
   ]
  },
  {
   "cell_type": "code",
   "execution_count": 127,
   "metadata": {},
   "outputs": [
    {
     "data": {
      "application/javascript": [
       "\n",
       "            setTimeout(function() {\n",
       "                var nbb_cell_id = 127;\n",
       "                var nbb_unformatted_code = \"#FoundationType = 0 (Other) or 1 (CBlock) or 2 (PConc)\\nhouse_data['FoundationType'] = pd.Series(len(house_data['Foundation']), index=house_data.index)\\nhouse_data['FoundationType'] = 0\\nhouse_data.loc[house_data['Foundation'] == 'CBlock','FoundationType'] = 1\\nhouse_data.loc[house_data['Foundation'] == 'PConc','FoundationType'] = 2\";\n",
       "                var nbb_formatted_code = \"# FoundationType = 0 (Other) or 1 (CBlock) or 2 (PConc)\\nhouse_data[\\\"FoundationType\\\"] = pd.Series(\\n    len(house_data[\\\"Foundation\\\"]), index=house_data.index\\n)\\nhouse_data[\\\"FoundationType\\\"] = 0\\nhouse_data.loc[house_data[\\\"Foundation\\\"] == \\\"CBlock\\\", \\\"FoundationType\\\"] = 1\\nhouse_data.loc[house_data[\\\"Foundation\\\"] == \\\"PConc\\\", \\\"FoundationType\\\"] = 2\";\n",
       "                var nbb_cells = Jupyter.notebook.get_cells();\n",
       "                for (var i = 0; i < nbb_cells.length; ++i) {\n",
       "                    if (nbb_cells[i].input_prompt_number == nbb_cell_id) {\n",
       "                        if (nbb_cells[i].get_text() == nbb_unformatted_code) {\n",
       "                             nbb_cells[i].set_text(nbb_formatted_code);\n",
       "                        }\n",
       "                        break;\n",
       "                    }\n",
       "                }\n",
       "            }, 500);\n",
       "            "
      ],
      "text/plain": [
       "<IPython.core.display.Javascript object>"
      ]
     },
     "metadata": {},
     "output_type": "display_data"
    }
   ],
   "source": [
    "#FoundationType = 0 (Other) or 1 (CBlock) or 2 (PConc)\n",
    "house_data['FoundationType'] = pd.Series(len(house_data['Foundation']), index=house_data.index)\n",
    "house_data['FoundationType'] = 0\n",
    "house_data.loc[house_data['Foundation'] == 'CBlock','FoundationType'] = 1\n",
    "house_data.loc[house_data['Foundation'] == 'PConc','FoundationType'] = 2\n"
   ]
  },
  {
   "cell_type": "code",
   "execution_count": 128,
   "metadata": {},
   "outputs": [
    {
     "data": {
      "application/javascript": [
       "\n",
       "            setTimeout(function() {\n",
       "                var nbb_cell_id = 128;\n",
       "                var nbb_unformatted_code = \"#Has stone masonry = 0 (no) or 1 (yes)\\nhouse_data['HasStoneMas'] = pd.Series(len(house_data['MasVnrType']), index=house_data.index)\\nhouse_data['HasStoneMas'] = 0\\nhouse_data.loc[house_data['MasVnrType'] == 'Stone','HasStoneMas'] = 1\";\n",
       "                var nbb_formatted_code = \"# Has stone masonry = 0 (no) or 1 (yes)\\nhouse_data[\\\"HasStoneMas\\\"] = pd.Series(\\n    len(house_data[\\\"MasVnrType\\\"]), index=house_data.index\\n)\\nhouse_data[\\\"HasStoneMas\\\"] = 0\\nhouse_data.loc[house_data[\\\"MasVnrType\\\"] == \\\"Stone\\\", \\\"HasStoneMas\\\"] = 1\";\n",
       "                var nbb_cells = Jupyter.notebook.get_cells();\n",
       "                for (var i = 0; i < nbb_cells.length; ++i) {\n",
       "                    if (nbb_cells[i].input_prompt_number == nbb_cell_id) {\n",
       "                        if (nbb_cells[i].get_text() == nbb_unformatted_code) {\n",
       "                             nbb_cells[i].set_text(nbb_formatted_code);\n",
       "                        }\n",
       "                        break;\n",
       "                    }\n",
       "                }\n",
       "            }, 500);\n",
       "            "
      ],
      "text/plain": [
       "<IPython.core.display.Javascript object>"
      ]
     },
     "metadata": {},
     "output_type": "display_data"
    }
   ],
   "source": [
    "#Has stone masonry = 0 (no) or 1 (yes)\n",
    "house_data['HasStoneMas'] = pd.Series(len(house_data['MasVnrType']), index=house_data.index)\n",
    "house_data['HasStoneMas'] = 0\n",
    "house_data.loc[house_data['MasVnrType'] == 'Stone','HasStoneMas'] = 1\n"
   ]
  },
  {
   "cell_type": "code",
   "execution_count": 129,
   "metadata": {},
   "outputs": [
    {
     "data": {
      "application/javascript": [
       "\n",
       "            setTimeout(function() {\n",
       "                var nbb_cell_id = 129;\n",
       "                var nbb_unformatted_code = \"# #Determine which neighborhoods are of high value and low value\\n# n_data = house_data[[\\\"SalePrice_log\\\", \\\"Neighborhood\\\"]]\\n# avg_logprice = n_data.groupby(house_data.Neighborhood).mean()\\n# avg_logprice = avg_logprice.sort_values(ascending=False, by='SalePrice_log')\\n\\n# top_3 = avg_logprice.iloc[0:3, :].index #top3 neighborhoods\\n# bot_3 = avg_logprice.iloc[-3:, :].index #bot3 neighborhoods\\n\\n\\n\\n#NeighborhoodType = 0 (bottom 3 salesprice) or 1 (middle) or 2 (top 3 salesprice)\\nhouse_data['NeighborhoodType'] = pd.Series(len(house_data['Neighborhood']), index=house_data.index)\\nhouse_data['NeighborhoodType'] = 1\\n\\nhouse_data.loc[house_data['Neighborhood'] == 'BrDale','NeighborhoodType'] = 0\\nhouse_data.loc[house_data['Neighborhood'] == 'MeadowV','NeighborhoodType'] = 0\\nhouse_data.loc[house_data['Neighborhood'] == 'IDOTRR','NeighborhoodType'] = 0\\n\\nhouse_data.loc[house_data['Neighborhood'] == 'NoRidge','NeighborhoodType'] = 2\\nhouse_data.loc[house_data['Neighborhood'] == 'NridgHt','NeighborhoodType'] = 2\\nhouse_data.loc[house_data['Neighborhood'] == 'StoneBr','NeighborhoodType'] = 2\";\n",
       "                var nbb_formatted_code = \"# #Determine which neighborhoods are of high value and low value\\n# n_data = house_data[[\\\"SalePrice_log\\\", \\\"Neighborhood\\\"]]\\n# avg_logprice = n_data.groupby(house_data.Neighborhood).mean()\\n# avg_logprice = avg_logprice.sort_values(ascending=False, by='SalePrice_log')\\n\\n# top_3 = avg_logprice.iloc[0:3, :].index #top3 neighborhoods\\n# bot_3 = avg_logprice.iloc[-3:, :].index #bot3 neighborhoods\\n\\n\\n# NeighborhoodType = 0 (bottom 3 salesprice) or 1 (middle) or 2 (top 3 salesprice)\\nhouse_data[\\\"NeighborhoodType\\\"] = pd.Series(\\n    len(house_data[\\\"Neighborhood\\\"]), index=house_data.index\\n)\\nhouse_data[\\\"NeighborhoodType\\\"] = 1\\n\\nhouse_data.loc[house_data[\\\"Neighborhood\\\"] == \\\"BrDale\\\", \\\"NeighborhoodType\\\"] = 0\\nhouse_data.loc[house_data[\\\"Neighborhood\\\"] == \\\"MeadowV\\\", \\\"NeighborhoodType\\\"] = 0\\nhouse_data.loc[house_data[\\\"Neighborhood\\\"] == \\\"IDOTRR\\\", \\\"NeighborhoodType\\\"] = 0\\n\\nhouse_data.loc[house_data[\\\"Neighborhood\\\"] == \\\"NoRidge\\\", \\\"NeighborhoodType\\\"] = 2\\nhouse_data.loc[house_data[\\\"Neighborhood\\\"] == \\\"NridgHt\\\", \\\"NeighborhoodType\\\"] = 2\\nhouse_data.loc[house_data[\\\"Neighborhood\\\"] == \\\"StoneBr\\\", \\\"NeighborhoodType\\\"] = 2\";\n",
       "                var nbb_cells = Jupyter.notebook.get_cells();\n",
       "                for (var i = 0; i < nbb_cells.length; ++i) {\n",
       "                    if (nbb_cells[i].input_prompt_number == nbb_cell_id) {\n",
       "                        if (nbb_cells[i].get_text() == nbb_unformatted_code) {\n",
       "                             nbb_cells[i].set_text(nbb_formatted_code);\n",
       "                        }\n",
       "                        break;\n",
       "                    }\n",
       "                }\n",
       "            }, 500);\n",
       "            "
      ],
      "text/plain": [
       "<IPython.core.display.Javascript object>"
      ]
     },
     "metadata": {},
     "output_type": "display_data"
    }
   ],
   "source": [
    "# #Determine which neighborhoods are of high value and low value\n",
    "# n_data = house_data[[\"SalePrice_log\", \"Neighborhood\"]]\n",
    "# avg_logprice = n_data.groupby(house_data.Neighborhood).mean()\n",
    "# avg_logprice = avg_logprice.sort_values(ascending=False, by='SalePrice_log')\n",
    "\n",
    "# top_3 = avg_logprice.iloc[0:3, :].index #top3 neighborhoods\n",
    "# bot_3 = avg_logprice.iloc[-3:, :].index #bot3 neighborhoods\n",
    "\n",
    "\n",
    "\n",
    "#NeighborhoodType = 0 (bottom 3 salesprice) or 1 (middle) or 2 (top 3 salesprice)\n",
    "house_data['NeighborhoodType'] = pd.Series(len(house_data['Neighborhood']), index=house_data.index)\n",
    "house_data['NeighborhoodType'] = 1\n",
    "\n",
    "house_data.loc[house_data['Neighborhood'] == 'BrDale','NeighborhoodType'] = 0\n",
    "house_data.loc[house_data['Neighborhood'] == 'MeadowV','NeighborhoodType'] = 0\n",
    "house_data.loc[house_data['Neighborhood'] == 'IDOTRR','NeighborhoodType'] = 0\n",
    "\n",
    "house_data.loc[house_data['Neighborhood'] == 'NoRidge','NeighborhoodType'] = 2\n",
    "house_data.loc[house_data['Neighborhood'] == 'NridgHt','NeighborhoodType'] = 2\n",
    "house_data.loc[house_data['Neighborhood'] == 'StoneBr','NeighborhoodType'] = 2\n"
   ]
  },
  {
   "cell_type": "markdown",
   "metadata": {},
   "source": [
    "## Remove Variables"
   ]
  },
  {
   "cell_type": "code",
   "execution_count": 130,
   "metadata": {},
   "outputs": [
    {
     "data": {
      "application/javascript": [
       "\n",
       "            setTimeout(function() {\n",
       "                var nbb_cell_id = 130;\n",
       "                var nbb_unformatted_code = \"# MUST ADD RICHARD'S VARIABLES TO LIST\\nvar_toremove = [\\n    \\\"MSSubClass\\\",\\n    \\\"MSZoning\\\",\\n    \\\"Street\\\",\\n    \\\"Alley\\\",\\n    \\\"LotShape\\\",\\n    \\\"LandContour\\\",\\n    \\\"Utilities\\\",\\n    \\\"LotConfig\\\",\\n    \\\"LandSlope\\\",\\n    \\\"Neighborhood\\\",\\n    \\\"Condition1\\\",\\n    \\\"Condition2\\\",\\n    \\\"BldgType\\\",\\n    \\\"HouseStyle\\\",\\n    \\\"RoofStyle\\\",\\n    \\\"RoofMatl\\\",\\n    \\\"Exterior1st\\\",\\n    \\\"Exterior2nd\\\",\\n    \\\"MasVnrType\\\",\\n    \\\"ExterQual\\\",\\n    \\\"ExterCond\\\",\\n    \\\"Foundation\\\",\\n    \\\"BsmtQual\\\",\\n    \\\"BsmtCond\\\",\\n    \\\"BsmtExposure\\\",\\n    \\\"BsmtFinType1\\\",\\n    \\\"Heating\\\",\\n    \\\"HeatingQC\\\",\\n    \\\"CentralAir\\\",\\n    \\\"Electrical\\\",\\n    \\\"KitchenQual\\\",\\n    \\\"Functional\\\",\\n    \\\"FireplaceQu\\\",\\n    \\\"GarageType\\\",\\n    \\\"GarageFinish\\\",\\n    \\\"GarageQual\\\",\\n    \\\"GarageCond\\\",\\n    \\\"PavedDrive\\\",\\n    \\\"PoolQC\\\",\\n    \\\"Fence\\\",\\n    \\\"MiscFeature\\\",\\n    \\\"SaleType\\\",\\n    \\\"SaleCondition\\\",\\n]\\n\\nhouse_data.drop(var_toremove, axis=1, inplace=True)\";\n",
       "                var nbb_formatted_code = \"# MUST ADD RICHARD'S VARIABLES TO LIST\\nvar_toremove = [\\n    \\\"MSSubClass\\\",\\n    \\\"MSZoning\\\",\\n    \\\"Street\\\",\\n    \\\"Alley\\\",\\n    \\\"LotShape\\\",\\n    \\\"LandContour\\\",\\n    \\\"Utilities\\\",\\n    \\\"LotConfig\\\",\\n    \\\"LandSlope\\\",\\n    \\\"Neighborhood\\\",\\n    \\\"Condition1\\\",\\n    \\\"Condition2\\\",\\n    \\\"BldgType\\\",\\n    \\\"HouseStyle\\\",\\n    \\\"RoofStyle\\\",\\n    \\\"RoofMatl\\\",\\n    \\\"Exterior1st\\\",\\n    \\\"Exterior2nd\\\",\\n    \\\"MasVnrType\\\",\\n    \\\"ExterQual\\\",\\n    \\\"ExterCond\\\",\\n    \\\"Foundation\\\",\\n    \\\"BsmtQual\\\",\\n    \\\"BsmtCond\\\",\\n    \\\"BsmtExposure\\\",\\n    \\\"BsmtFinType1\\\",\\n    \\\"Heating\\\",\\n    \\\"HeatingQC\\\",\\n    \\\"CentralAir\\\",\\n    \\\"Electrical\\\",\\n    \\\"KitchenQual\\\",\\n    \\\"Functional\\\",\\n    \\\"FireplaceQu\\\",\\n    \\\"GarageType\\\",\\n    \\\"GarageFinish\\\",\\n    \\\"GarageQual\\\",\\n    \\\"GarageCond\\\",\\n    \\\"PavedDrive\\\",\\n    \\\"PoolQC\\\",\\n    \\\"Fence\\\",\\n    \\\"MiscFeature\\\",\\n    \\\"SaleType\\\",\\n    \\\"SaleCondition\\\",\\n]\\n\\nhouse_data.drop(var_toremove, axis=1, inplace=True)\";\n",
       "                var nbb_cells = Jupyter.notebook.get_cells();\n",
       "                for (var i = 0; i < nbb_cells.length; ++i) {\n",
       "                    if (nbb_cells[i].input_prompt_number == nbb_cell_id) {\n",
       "                        if (nbb_cells[i].get_text() == nbb_unformatted_code) {\n",
       "                             nbb_cells[i].set_text(nbb_formatted_code);\n",
       "                        }\n",
       "                        break;\n",
       "                    }\n",
       "                }\n",
       "            }, 500);\n",
       "            "
      ],
      "text/plain": [
       "<IPython.core.display.Javascript object>"
      ]
     },
     "metadata": {},
     "output_type": "display_data"
    }
   ],
   "source": [
    "# MUST ADD RICHARD'S VARIABLES TO LIST\n",
    "var_toremove = [\n",
    "    \"MSSubClass\",\n",
    "    \"MSZoning\",\n",
    "    \"Street\",\n",
    "    \"Alley\",\n",
    "    \"LotShape\",\n",
    "    \"LandContour\",\n",
    "    \"Utilities\",\n",
    "    \"LotConfig\",\n",
    "    \"LandSlope\",\n",
    "    \"Neighborhood\",\n",
    "    \"Condition1\",\n",
    "    \"Condition2\",\n",
    "    \"BldgType\",\n",
    "    \"HouseStyle\",\n",
    "    \"RoofStyle\",\n",
    "    \"RoofMatl\",\n",
    "    \"Exterior1st\",\n",
    "    \"Exterior2nd\",\n",
    "    \"MasVnrType\",\n",
    "    \"ExterQual\",\n",
    "    \"ExterCond\",\n",
    "    \"Foundation\",\n",
    "    \"BsmtQual\",\n",
    "    \"BsmtCond\",\n",
    "    \"BsmtExposure\",\n",
    "    \"BsmtFinType1\",\n",
    "    \"Heating\",\n",
    "    \"HeatingQC\",\n",
    "    \"CentralAir\",\n",
    "    \"Electrical\",\n",
    "    \"KitchenQual\",\n",
    "    \"Functional\",\n",
    "    \"FireplaceQu\",\n",
    "    \"GarageType\",\n",
    "    \"GarageFinish\",\n",
    "    \"GarageQual\",\n",
    "    \"GarageCond\",\n",
    "    \"PavedDrive\",\n",
    "    \"PoolQC\",\n",
    "    \"Fence\",\n",
    "    \"MiscFeature\",\n",
    "    \"SaleType\",\n",
    "    \"SaleCondition\",\n",
    "]\n",
    "\n",
    "house_data.drop(var_toremove, axis=1, inplace=True)"
   ]
  },
  {
   "cell_type": "code",
   "execution_count": 131,
   "metadata": {},
   "outputs": [
    {
     "data": {
      "application/javascript": [
       "\n",
       "            setTimeout(function() {\n",
       "                var nbb_cell_id = 131;\n",
       "                var nbb_unformatted_code = \"house_data.to_csv(\\\"jon_test_HouseData.csv\\\")\";\n",
       "                var nbb_formatted_code = \"house_data.to_csv(\\\"jon_test_HouseData.csv\\\")\";\n",
       "                var nbb_cells = Jupyter.notebook.get_cells();\n",
       "                for (var i = 0; i < nbb_cells.length; ++i) {\n",
       "                    if (nbb_cells[i].input_prompt_number == nbb_cell_id) {\n",
       "                        if (nbb_cells[i].get_text() == nbb_unformatted_code) {\n",
       "                             nbb_cells[i].set_text(nbb_formatted_code);\n",
       "                        }\n",
       "                        break;\n",
       "                    }\n",
       "                }\n",
       "            }, 500);\n",
       "            "
      ],
      "text/plain": [
       "<IPython.core.display.Javascript object>"
      ]
     },
     "metadata": {},
     "output_type": "display_data"
    }
   ],
   "source": [
    "house_data.to_csv(\"jon_test_HouseData.csv\")"
   ]
  }
 ],
 "metadata": {
  "kernelspec": {
   "display_name": "Python 3",
   "language": "python",
   "name": "python3"
  },
  "language_info": {
   "codemirror_mode": {
    "name": "ipython",
    "version": 3
   },
   "file_extension": ".py",
   "mimetype": "text/x-python",
   "name": "python",
   "nbconvert_exporter": "python",
   "pygments_lexer": "ipython3",
   "version": "3.7.4"
  }
 },
 "nbformat": 4,
 "nbformat_minor": 2
}
