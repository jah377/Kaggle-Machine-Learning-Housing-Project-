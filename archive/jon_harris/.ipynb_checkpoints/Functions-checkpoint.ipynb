{
 "cells": [
  {
   "cell_type": "code",
   "execution_count": 1,
   "metadata": {},
   "outputs": [],
   "source": [
    "#Categorize Features\n",
    "\n",
    "def categorize(data):\n",
    "    #Input: dataframe\n",
    "    #Return: column names of categorical, continuous numerical, and discreet numerical features\n",
    "    \n",
    "    # Separate predictors by numerical and categorical features\n",
    "    num_features = data.select_dtypes(include=[\"int64\", \"float64\"]).columns\n",
    "    cat_features = data.select_dtypes(include=[\"object\"]).columns\n",
    "    \n",
    "    # Remove SalePrice and SalePrice_log from feature list\n",
    "    num_features = num_features[0:-2]\n",
    "\n",
    "    # If more than 15 unique values, consider continuous\n",
    "    for colm in num_features:\n",
    "        if house_data[colm].nunique() > 15:\n",
    "            num_cont_features.append(colm)\n",
    "        else:\n",
    "            num_disc_features.append(colm)\n",
    "    \n",
    "    \n",
    "    return(cat_features, num_cont_features, num_disc_features)\n"
   ]
  },
  {
   "cell_type": "code",
   "execution_count": null,
   "metadata": {},
   "outputs": [],
   "source": [
    "# Determine Outliers of Continuous Data\n",
    "def outlier_idx(feature, thresh):\n",
    "\n",
    "    data = house_data[feature]  # feature data\n",
    "    avg = np.mean(data)  # calc average\n",
    "    stdev = data.std()  # calc standard deviation\n",
    "    z_score = (data - avg) / stdev  # calc z_score\n",
    "    ol = z_score > thresh  # boolean (True=outlier)\n",
    "    outlier_idx = data.index[ol]  # indexes of outliers\n",
    "\n",
    "    return list(outlier_idx)"
   ]
  }
 ],
 "metadata": {
  "kernelspec": {
   "display_name": "Python 3",
   "language": "python",
   "name": "python3"
  },
  "language_info": {
   "codemirror_mode": {
    "name": "ipython",
    "version": 3
   },
   "file_extension": ".py",
   "mimetype": "text/x-python",
   "name": "python",
   "nbconvert_exporter": "python",
   "pygments_lexer": "ipython3",
   "version": "3.7.4"
  }
 },
 "nbformat": 4,
 "nbformat_minor": 2
}
