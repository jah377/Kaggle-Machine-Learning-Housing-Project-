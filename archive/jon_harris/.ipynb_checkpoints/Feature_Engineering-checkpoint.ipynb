{
 "cells": [
  {
   "cell_type": "markdown",
   "metadata": {},
   "source": [
    "## Import Data"
   ]
  },
  {
   "cell_type": "code",
   "execution_count": 275,
   "metadata": {},
   "outputs": [
    {
     "name": "stdout",
     "output_type": "stream",
     "text": [
      "The nb_black extension is already loaded. To reload it, use:\n",
      "  %reload_ext nb_black\n"
     ]
    },
    {
     "data": {
      "application/javascript": [
       "\n",
       "            setTimeout(function() {\n",
       "                var nbb_cell_id = 275;\n",
       "                var nbb_unformatted_code = \"# Setup Packages\\nimport numpy as np\\nimport pandas as pd\\nimport math\\nimport matplotlib.pyplot as plt\\n\\n%matplotlib inline\\n\\n# Used for auto-formatting code\\n# terminal - pip install nb_black\\n%load_ext nb_black\\n\\n# Display all rows and columns\\npd.set_option(\\\"display.max_columns\\\", None)\\npd.set_option(\\\"display.max_rows\\\", None)\";\n",
       "                var nbb_formatted_code = \"# Setup Packages\\nimport numpy as np\\nimport pandas as pd\\nimport math\\nimport matplotlib.pyplot as plt\\n\\n%matplotlib inline\\n\\n# Used for auto-formatting code\\n# terminal - pip install nb_black\\n%load_ext nb_black\\n\\n# Display all rows and columns\\npd.set_option(\\\"display.max_columns\\\", None)\\npd.set_option(\\\"display.max_rows\\\", None)\";\n",
       "                var nbb_cells = Jupyter.notebook.get_cells();\n",
       "                for (var i = 0; i < nbb_cells.length; ++i) {\n",
       "                    if (nbb_cells[i].input_prompt_number == nbb_cell_id) {\n",
       "                        if (nbb_cells[i].get_text() == nbb_unformatted_code) {\n",
       "                             nbb_cells[i].set_text(nbb_formatted_code);\n",
       "                        }\n",
       "                        break;\n",
       "                    }\n",
       "                }\n",
       "            }, 500);\n",
       "            "
      ],
      "text/plain": [
       "<IPython.core.display.Javascript object>"
      ]
     },
     "metadata": {},
     "output_type": "display_data"
    }
   ],
   "source": [
    "# Setup Packages\n",
    "import numpy as np\n",
    "import pandas as pd\n",
    "import math\n",
    "import matplotlib.pyplot as plt\n",
    "\n",
    "%matplotlib inline\n",
    "\n",
    "# Used for auto-formatting code\n",
    "# terminal - pip install nb_black\n",
    "%load_ext nb_black\n",
    "\n",
    "# Display all rows and columns\n",
    "pd.set_option(\"display.max_columns\", None)\n",
    "pd.set_option(\"display.max_rows\", None)"
   ]
  },
  {
   "cell_type": "code",
   "execution_count": 276,
   "metadata": {},
   "outputs": [
    {
     "data": {
      "application/javascript": [
       "\n",
       "            setTimeout(function() {\n",
       "                var nbb_cell_id = 276;\n",
       "                var nbb_unformatted_code = \"house_data = pd.read_csv(\\\"train.csv\\\")\";\n",
       "                var nbb_formatted_code = \"house_data = pd.read_csv(\\\"train.csv\\\")\";\n",
       "                var nbb_cells = Jupyter.notebook.get_cells();\n",
       "                for (var i = 0; i < nbb_cells.length; ++i) {\n",
       "                    if (nbb_cells[i].input_prompt_number == nbb_cell_id) {\n",
       "                        if (nbb_cells[i].get_text() == nbb_unformatted_code) {\n",
       "                             nbb_cells[i].set_text(nbb_formatted_code);\n",
       "                        }\n",
       "                        break;\n",
       "                    }\n",
       "                }\n",
       "            }, 500);\n",
       "            "
      ],
      "text/plain": [
       "<IPython.core.display.Javascript object>"
      ]
     },
     "metadata": {},
     "output_type": "display_data"
    }
   ],
   "source": [
    "house_data = pd.read_csv(\"train.csv\")"
   ]
  },
  {
   "cell_type": "code",
   "execution_count": 277,
   "metadata": {},
   "outputs": [
    {
     "data": {
      "application/javascript": [
       "\n",
       "            setTimeout(function() {\n",
       "                var nbb_cell_id = 277;\n",
       "                var nbb_unformatted_code = \"var_toremove = [\\n    \\\"BsmtQual\\\",\\n    \\\"BsmtCond\\\",\\n    \\\"BsmtExposure\\\",\\n    \\\"BsmtFinType1\\\",\\n    \\\"BsmtFinType2\\\",\\n    \\\"Heating\\\",\\n    \\\"HeatingQC\\\",\\n    \\\"CentralAir\\\",\\n    \\\"Electrical\\\",\\n    \\\"KitchenQual\\\",\\n    \\\"Functional\\\",\\n    \\\"FireplaceQu\\\",\\n    \\\"GarageType\\\",\\n    \\\"GarageFinish\\\",\\n    \\\"GarageQual\\\",\\n    \\\"GarageCond\\\",\\n    \\\"PavedDrive\\\",\\n    \\\"PoolQC\\\",\\n    \\\"Fence\\\",\\n    \\\"MiscFeature\\\",\\n    \\\"SaleType\\\",\\n    \\\"SaleCondition\\\",\\n]\\n\\n\\nhouse_data.drop(var_toremove, axis=1, inplace=True)\";\n",
       "                var nbb_formatted_code = \"var_toremove = [\\n    \\\"BsmtQual\\\",\\n    \\\"BsmtCond\\\",\\n    \\\"BsmtExposure\\\",\\n    \\\"BsmtFinType1\\\",\\n    \\\"BsmtFinType2\\\",\\n    \\\"Heating\\\",\\n    \\\"HeatingQC\\\",\\n    \\\"CentralAir\\\",\\n    \\\"Electrical\\\",\\n    \\\"KitchenQual\\\",\\n    \\\"Functional\\\",\\n    \\\"FireplaceQu\\\",\\n    \\\"GarageType\\\",\\n    \\\"GarageFinish\\\",\\n    \\\"GarageQual\\\",\\n    \\\"GarageCond\\\",\\n    \\\"PavedDrive\\\",\\n    \\\"PoolQC\\\",\\n    \\\"Fence\\\",\\n    \\\"MiscFeature\\\",\\n    \\\"SaleType\\\",\\n    \\\"SaleCondition\\\",\\n]\\n\\n\\nhouse_data.drop(var_toremove, axis=1, inplace=True)\";\n",
       "                var nbb_cells = Jupyter.notebook.get_cells();\n",
       "                for (var i = 0; i < nbb_cells.length; ++i) {\n",
       "                    if (nbb_cells[i].input_prompt_number == nbb_cell_id) {\n",
       "                        if (nbb_cells[i].get_text() == nbb_unformatted_code) {\n",
       "                             nbb_cells[i].set_text(nbb_formatted_code);\n",
       "                        }\n",
       "                        break;\n",
       "                    }\n",
       "                }\n",
       "            }, 500);\n",
       "            "
      ],
      "text/plain": [
       "<IPython.core.display.Javascript object>"
      ]
     },
     "metadata": {},
     "output_type": "display_data"
    }
   ],
   "source": [
    "var_toremove = [\n",
    "    \"BsmtQual\",\n",
    "    \"BsmtCond\",\n",
    "    \"BsmtExposure\",\n",
    "    \"BsmtFinType1\",\n",
    "    \"BsmtFinType2\",\n",
    "    \"Heating\",\n",
    "    \"HeatingQC\",\n",
    "    \"CentralAir\",\n",
    "    \"Electrical\",\n",
    "    \"KitchenQual\",\n",
    "    \"Functional\",\n",
    "    \"FireplaceQu\",\n",
    "    \"GarageType\",\n",
    "    \"GarageFinish\",\n",
    "    \"GarageQual\",\n",
    "    \"GarageCond\",\n",
    "    \"PavedDrive\",\n",
    "    \"PoolQC\",\n",
    "    \"Fence\",\n",
    "    \"MiscFeature\",\n",
    "    \"SaleType\",\n",
    "    \"SaleCondition\",\n",
    "]\n",
    "\n",
    "\n",
    "house_data.drop(var_toremove, axis=1, inplace=True)"
   ]
  },
  {
   "cell_type": "markdown",
   "metadata": {},
   "source": [
    "## Data Manipulation"
   ]
  },
  {
   "cell_type": "markdown",
   "metadata": {},
   "source": [
    "### Response Variable - Log Transform\n",
    "- Transformation validated in DataExploration Notebook"
   ]
  },
  {
   "cell_type": "code",
   "execution_count": 278,
   "metadata": {},
   "outputs": [
    {
     "data": {
      "application/javascript": [
       "\n",
       "            setTimeout(function() {\n",
       "                var nbb_cell_id = 278;\n",
       "                var nbb_unformatted_code = \"house_data[\\\"SalePrice_log\\\"] = np.log(house_data[\\\"SalePrice\\\"])\";\n",
       "                var nbb_formatted_code = \"house_data[\\\"SalePrice_log\\\"] = np.log(house_data[\\\"SalePrice\\\"])\";\n",
       "                var nbb_cells = Jupyter.notebook.get_cells();\n",
       "                for (var i = 0; i < nbb_cells.length; ++i) {\n",
       "                    if (nbb_cells[i].input_prompt_number == nbb_cell_id) {\n",
       "                        if (nbb_cells[i].get_text() == nbb_unformatted_code) {\n",
       "                             nbb_cells[i].set_text(nbb_formatted_code);\n",
       "                        }\n",
       "                        break;\n",
       "                    }\n",
       "                }\n",
       "            }, 500);\n",
       "            "
      ],
      "text/plain": [
       "<IPython.core.display.Javascript object>"
      ]
     },
     "metadata": {},
     "output_type": "display_data"
    }
   ],
   "source": [
    "house_data[\"SalePrice_log\"] = np.log(house_data[\"SalePrice\"])"
   ]
  },
  {
   "cell_type": "markdown",
   "metadata": {},
   "source": [
    "### Impute Continuous Variables\n",
    "- Imputation with mean validated in DataExploration Notebook"
   ]
  },
  {
   "cell_type": "code",
   "execution_count": 279,
   "metadata": {},
   "outputs": [
    {
     "data": {
      "application/javascript": [
       "\n",
       "            setTimeout(function() {\n",
       "                var nbb_cell_id = 279;\n",
       "                var nbb_unformatted_code = \"# LotFrontage\\navg_LotFrontage = house_data['LotFrontage'].mean()\\nhouse_data['LotFrontage'].fillna(avg_LotFrontage, inplace=True)\\n\\n# MasVnrArea\\navg_MasVnrArea = house_data['MasVnrArea'].mean()\\nhouse_data['MasVnrArea'].fillna(avg_MasVnrArea, inplace=True)\";\n",
       "                var nbb_formatted_code = \"# LotFrontage\\navg_LotFrontage = house_data[\\\"LotFrontage\\\"].mean()\\nhouse_data[\\\"LotFrontage\\\"].fillna(avg_LotFrontage, inplace=True)\\n\\n# MasVnrArea\\navg_MasVnrArea = house_data[\\\"MasVnrArea\\\"].mean()\\nhouse_data[\\\"MasVnrArea\\\"].fillna(avg_MasVnrArea, inplace=True)\";\n",
       "                var nbb_cells = Jupyter.notebook.get_cells();\n",
       "                for (var i = 0; i < nbb_cells.length; ++i) {\n",
       "                    if (nbb_cells[i].input_prompt_number == nbb_cell_id) {\n",
       "                        if (nbb_cells[i].get_text() == nbb_unformatted_code) {\n",
       "                             nbb_cells[i].set_text(nbb_formatted_code);\n",
       "                        }\n",
       "                        break;\n",
       "                    }\n",
       "                }\n",
       "            }, 500);\n",
       "            "
      ],
      "text/plain": [
       "<IPython.core.display.Javascript object>"
      ]
     },
     "metadata": {},
     "output_type": "display_data"
    }
   ],
   "source": [
    "# LotFrontage\n",
    "avg_LotFrontage = house_data['LotFrontage'].mean()\n",
    "house_data['LotFrontage'].fillna(avg_LotFrontage, inplace=True)\n",
    "\n",
    "# MasVnrArea\n",
    "avg_MasVnrArea = house_data['MasVnrArea'].mean()\n",
    "house_data['MasVnrArea'].fillna(avg_MasVnrArea, inplace=True)\n"
   ]
  },
  {
   "cell_type": "markdown",
   "metadata": {},
   "source": [
    "### Impute Categorical Variables"
   ]
  },
  {
   "cell_type": "code",
   "execution_count": 280,
   "metadata": {},
   "outputs": [
    {
     "data": {
      "application/javascript": [
       "\n",
       "            setTimeout(function() {\n",
       "                var nbb_cell_id = 280;\n",
       "                var nbb_unformatted_code = \"# #Basement Related Variables\\n\\n# #Locate NA indices\\n# bsmt_null_list=np.array(house_data['BsmtCond'][house_data['BsmtCond'].isnull()].index)\\n# bsmt_null_list2=np.array(house_data['BsmtQual'][house_data['BsmtQual'].isnull()].index)\\n# bsmt_null_list3=np.array(house_data['BsmtExposure'][house_data['BsmtExposure'].isnull()].index)\\n# bsmt_null_list4=np.array(house_data['BsmtFinType1'][house_data['BsmtFinType1'].isnull()].index)\\n# bsmt_null_list5=np.array(house_data['BsmtFinType2'][house_data['BsmtFinType2'].isnull()].index)\\n\\n# #Impute NA values with 'None'\\n# house_data['BsmtQual'].fillna('None', inplace=True)\\n# house_data['BsmtCond'].fillna('None', inplace=True)\\n# house_data['BsmtExposure'].fillna('None', inplace=True)\\n# house_data['BsmtFinType1'].fillna('None', inplace=True)\";\n",
       "                var nbb_formatted_code = \"# #Basement Related Variables\\n\\n# #Locate NA indices\\n# bsmt_null_list=np.array(house_data['BsmtCond'][house_data['BsmtCond'].isnull()].index)\\n# bsmt_null_list2=np.array(house_data['BsmtQual'][house_data['BsmtQual'].isnull()].index)\\n# bsmt_null_list3=np.array(house_data['BsmtExposure'][house_data['BsmtExposure'].isnull()].index)\\n# bsmt_null_list4=np.array(house_data['BsmtFinType1'][house_data['BsmtFinType1'].isnull()].index)\\n# bsmt_null_list5=np.array(house_data['BsmtFinType2'][house_data['BsmtFinType2'].isnull()].index)\\n\\n# #Impute NA values with 'None'\\n# house_data['BsmtQual'].fillna('None', inplace=True)\\n# house_data['BsmtCond'].fillna('None', inplace=True)\\n# house_data['BsmtExposure'].fillna('None', inplace=True)\\n# house_data['BsmtFinType1'].fillna('None', inplace=True)\";\n",
       "                var nbb_cells = Jupyter.notebook.get_cells();\n",
       "                for (var i = 0; i < nbb_cells.length; ++i) {\n",
       "                    if (nbb_cells[i].input_prompt_number == nbb_cell_id) {\n",
       "                        if (nbb_cells[i].get_text() == nbb_unformatted_code) {\n",
       "                             nbb_cells[i].set_text(nbb_formatted_code);\n",
       "                        }\n",
       "                        break;\n",
       "                    }\n",
       "                }\n",
       "            }, 500);\n",
       "            "
      ],
      "text/plain": [
       "<IPython.core.display.Javascript object>"
      ]
     },
     "metadata": {},
     "output_type": "display_data"
    }
   ],
   "source": [
    "# #Basement Related Variables\n",
    "\n",
    "# #Locate NA indices\n",
    "# bsmt_null_list=np.array(house_data['BsmtCond'][house_data['BsmtCond'].isnull()].index)\n",
    "# bsmt_null_list2=np.array(house_data['BsmtQual'][house_data['BsmtQual'].isnull()].index)\n",
    "# bsmt_null_list3=np.array(house_data['BsmtExposure'][house_data['BsmtExposure'].isnull()].index)\n",
    "# bsmt_null_list4=np.array(house_data['BsmtFinType1'][house_data['BsmtFinType1'].isnull()].index)\n",
    "# bsmt_null_list5=np.array(house_data['BsmtFinType2'][house_data['BsmtFinType2'].isnull()].index)\n",
    "\n",
    "# #Impute NA values with 'None'\n",
    "# house_data['BsmtQual'].fillna('None', inplace=True)\n",
    "# house_data['BsmtCond'].fillna('None', inplace=True)\n",
    "# house_data['BsmtExposure'].fillna('None', inplace=True)\n",
    "# house_data['BsmtFinType1'].fillna('None', inplace=True)\n"
   ]
  },
  {
   "cell_type": "code",
   "execution_count": 281,
   "metadata": {},
   "outputs": [
    {
     "data": {
      "application/javascript": [
       "\n",
       "            setTimeout(function() {\n",
       "                var nbb_cell_id = 281;\n",
       "                var nbb_unformatted_code = \"# #Electrical Fill with Mode\\n# house_data['Electrical'].fillna(house_data['Electrical'].mode()[0], inplace=True)\";\n",
       "                var nbb_formatted_code = \"# #Electrical Fill with Mode\\n# house_data['Electrical'].fillna(house_data['Electrical'].mode()[0], inplace=True)\";\n",
       "                var nbb_cells = Jupyter.notebook.get_cells();\n",
       "                for (var i = 0; i < nbb_cells.length; ++i) {\n",
       "                    if (nbb_cells[i].input_prompt_number == nbb_cell_id) {\n",
       "                        if (nbb_cells[i].get_text() == nbb_unformatted_code) {\n",
       "                             nbb_cells[i].set_text(nbb_formatted_code);\n",
       "                        }\n",
       "                        break;\n",
       "                    }\n",
       "                }\n",
       "            }, 500);\n",
       "            "
      ],
      "text/plain": [
       "<IPython.core.display.Javascript object>"
      ]
     },
     "metadata": {},
     "output_type": "display_data"
    }
   ],
   "source": [
    "# #Electrical Fill with Mode\n",
    "# house_data['Electrical'].fillna(house_data['Electrical'].mode()[0], inplace=True)\n"
   ]
  },
  {
   "cell_type": "code",
   "execution_count": 282,
   "metadata": {},
   "outputs": [
    {
     "data": {
      "application/javascript": [
       "\n",
       "            setTimeout(function() {\n",
       "                var nbb_cell_id = 282;\n",
       "                var nbb_unformatted_code = \"# #Fire Place Quality\\n# fireplace_null_list=np.array(house_data['FireplaceQu'][house_data['FireplaceQu'].isnull()].index)\\n# house_data['FireplaceQu'].fillna('None', inplace=True)\";\n",
       "                var nbb_formatted_code = \"# #Fire Place Quality\\n# fireplace_null_list=np.array(house_data['FireplaceQu'][house_data['FireplaceQu'].isnull()].index)\\n# house_data['FireplaceQu'].fillna('None', inplace=True)\";\n",
       "                var nbb_cells = Jupyter.notebook.get_cells();\n",
       "                for (var i = 0; i < nbb_cells.length; ++i) {\n",
       "                    if (nbb_cells[i].input_prompt_number == nbb_cell_id) {\n",
       "                        if (nbb_cells[i].get_text() == nbb_unformatted_code) {\n",
       "                             nbb_cells[i].set_text(nbb_formatted_code);\n",
       "                        }\n",
       "                        break;\n",
       "                    }\n",
       "                }\n",
       "            }, 500);\n",
       "            "
      ],
      "text/plain": [
       "<IPython.core.display.Javascript object>"
      ]
     },
     "metadata": {},
     "output_type": "display_data"
    }
   ],
   "source": [
    "# #Fire Place Quality\n",
    "# fireplace_null_list=np.array(house_data['FireplaceQu'][house_data['FireplaceQu'].isnull()].index)\n",
    "# house_data['FireplaceQu'].fillna('None', inplace=True)\n"
   ]
  },
  {
   "cell_type": "code",
   "execution_count": 283,
   "metadata": {},
   "outputs": [
    {
     "data": {
      "application/javascript": [
       "\n",
       "            setTimeout(function() {\n",
       "                var nbb_cell_id = 283;\n",
       "                var nbb_unformatted_code = \"# #Garage Related Variables\\n# house_data['GarageType'].fillna('None', inplace=True)\\n# house_data['GarageFinish'].fillna('None', inplace=True)\\n# house_data['GarageQual'].fillna('None', inplace=True)\";\n",
       "                var nbb_formatted_code = \"# #Garage Related Variables\\n# house_data['GarageType'].fillna('None', inplace=True)\\n# house_data['GarageFinish'].fillna('None', inplace=True)\\n# house_data['GarageQual'].fillna('None', inplace=True)\";\n",
       "                var nbb_cells = Jupyter.notebook.get_cells();\n",
       "                for (var i = 0; i < nbb_cells.length; ++i) {\n",
       "                    if (nbb_cells[i].input_prompt_number == nbb_cell_id) {\n",
       "                        if (nbb_cells[i].get_text() == nbb_unformatted_code) {\n",
       "                             nbb_cells[i].set_text(nbb_formatted_code);\n",
       "                        }\n",
       "                        break;\n",
       "                    }\n",
       "                }\n",
       "            }, 500);\n",
       "            "
      ],
      "text/plain": [
       "<IPython.core.display.Javascript object>"
      ]
     },
     "metadata": {},
     "output_type": "display_data"
    }
   ],
   "source": [
    "# #Garage Related Variables\n",
    "# house_data['GarageType'].fillna('None', inplace=True)\n",
    "# house_data['GarageFinish'].fillna('None', inplace=True)\n",
    "# house_data['GarageQual'].fillna('None', inplace=True)\n"
   ]
  },
  {
   "cell_type": "markdown",
   "metadata": {},
   "source": [
    "## Remove Outliers"
   ]
  },
  {
   "cell_type": "code",
   "execution_count": 284,
   "metadata": {},
   "outputs": [
    {
     "data": {
      "application/javascript": [
       "\n",
       "            setTimeout(function() {\n",
       "                var nbb_cell_id = 284;\n",
       "                var nbb_unformatted_code = \"# Separate predictors by numerical and categorical features\\nfrom functions_file import categorize\\n\\ncat_features, num_cont_features, num_disc_features = categorize(house_data)\";\n",
       "                var nbb_formatted_code = \"# Separate predictors by numerical and categorical features\\nfrom functions_file import categorize\\n\\ncat_features, num_cont_features, num_disc_features = categorize(house_data)\";\n",
       "                var nbb_cells = Jupyter.notebook.get_cells();\n",
       "                for (var i = 0; i < nbb_cells.length; ++i) {\n",
       "                    if (nbb_cells[i].input_prompt_number == nbb_cell_id) {\n",
       "                        if (nbb_cells[i].get_text() == nbb_unformatted_code) {\n",
       "                             nbb_cells[i].set_text(nbb_formatted_code);\n",
       "                        }\n",
       "                        break;\n",
       "                    }\n",
       "                }\n",
       "            }, 500);\n",
       "            "
      ],
      "text/plain": [
       "<IPython.core.display.Javascript object>"
      ]
     },
     "metadata": {},
     "output_type": "display_data"
    }
   ],
   "source": [
    "# Separate predictors by numerical and categorical features\n",
    "from functions_file import categorize\n",
    "\n",
    "cat_features, num_cont_features, num_disc_features = categorize(house_data)"
   ]
  },
  {
   "cell_type": "code",
   "execution_count": 285,
   "metadata": {},
   "outputs": [
    {
     "data": {
      "application/javascript": [
       "\n",
       "            setTimeout(function() {\n",
       "                var nbb_cell_id = 285;\n",
       "                var nbb_unformatted_code = \"# Determine Outliers of Continuous Data\\ndef outlier_idx(data, thresh):\\n\\n    avg = data.mean()  # calc average\\n    stdev = data.std()  # calc standard deviation\\n    z_score = (data - avg) / stdev  # calc z_score\\n    ol = z_score > thresh  # boolean (True=outlier)\\n    outlier_idx = data.index[ol]  # indexes of outliers\\n\\n    return list(outlier_idx)\";\n",
       "                var nbb_formatted_code = \"# Determine Outliers of Continuous Data\\ndef outlier_idx(data, thresh):\\n\\n    avg = data.mean()  # calc average\\n    stdev = data.std()  # calc standard deviation\\n    z_score = (data - avg) / stdev  # calc z_score\\n    ol = z_score > thresh  # boolean (True=outlier)\\n    outlier_idx = data.index[ol]  # indexes of outliers\\n\\n    return list(outlier_idx)\";\n",
       "                var nbb_cells = Jupyter.notebook.get_cells();\n",
       "                for (var i = 0; i < nbb_cells.length; ++i) {\n",
       "                    if (nbb_cells[i].input_prompt_number == nbb_cell_id) {\n",
       "                        if (nbb_cells[i].get_text() == nbb_unformatted_code) {\n",
       "                             nbb_cells[i].set_text(nbb_formatted_code);\n",
       "                        }\n",
       "                        break;\n",
       "                    }\n",
       "                }\n",
       "            }, 500);\n",
       "            "
      ],
      "text/plain": [
       "<IPython.core.display.Javascript object>"
      ]
     },
     "metadata": {},
     "output_type": "display_data"
    }
   ],
   "source": [
    "# Determine Outliers of Continuous Data\n",
    "def outlier_idx(data, thresh):\n",
    "\n",
    "    avg = data.mean()  # calc average\n",
    "    stdev = data.std()  # calc standard deviation\n",
    "    z_score = (data - avg) / stdev  # calc z_score\n",
    "    ol = z_score > thresh  # boolean (True=outlier)\n",
    "    outlier_idx = data.index[ol]  # indexes of outliers\n",
    "\n",
    "    return list(outlier_idx)"
   ]
  },
  {
   "cell_type": "code",
   "execution_count": 286,
   "metadata": {},
   "outputs": [
    {
     "data": {
      "image/png": "[encoded data removed]",
      "text/plain": [
       "<Figure size 1080x1440 with 22 Axes>"
      ]
     },
     "metadata": {
      "needs_background": "light"
     },
     "output_type": "display_data"
    },
    {
     "data": {
      "application/javascript": [
       "\n",
       "            setTimeout(function() {\n",
       "                var nbb_cell_id = 286;\n",
       "                var nbb_unformatted_code = \"# Plot Outliers\\nplt.figure(figsize=(15, 20))\\nfor idx, col in enumerate(num_cont_features):\\n    outliers = outlier_idx(house_data[col], 6)  # outlier indices\\n    plt.subplot(math.ceil(len(num_cont_features) / 4), 4, idx + 1)\\n    plt.scatter(x=house_data[col], y=house_data[\\\"SalePrice_log\\\"], c=\\\"blue\\\")\\n    plt.scatter(\\n        x=house_data[col][outliers], y=house_data[\\\"SalePrice_log\\\"][outliers], c=\\\"red\\\"\\n    )\\n    plt.ylabel(\\\"SalePrice_log\\\")\\n    plt.xlabel(col)\";\n",
       "                var nbb_formatted_code = \"# Plot Outliers\\nplt.figure(figsize=(15, 20))\\nfor idx, col in enumerate(num_cont_features):\\n    outliers = outlier_idx(house_data[col], 6)  # outlier indices\\n    plt.subplot(math.ceil(len(num_cont_features) / 4), 4, idx + 1)\\n    plt.scatter(x=house_data[col], y=house_data[\\\"SalePrice_log\\\"], c=\\\"blue\\\")\\n    plt.scatter(\\n        x=house_data[col][outliers], y=house_data[\\\"SalePrice_log\\\"][outliers], c=\\\"red\\\"\\n    )\\n    plt.ylabel(\\\"SalePrice_log\\\")\\n    plt.xlabel(col)\";\n",
       "                var nbb_cells = Jupyter.notebook.get_cells();\n",
       "                for (var i = 0; i < nbb_cells.length; ++i) {\n",
       "                    if (nbb_cells[i].input_prompt_number == nbb_cell_id) {\n",
       "                        if (nbb_cells[i].get_text() == nbb_unformatted_code) {\n",
       "                             nbb_cells[i].set_text(nbb_formatted_code);\n",
       "                        }\n",
       "                        break;\n",
       "                    }\n",
       "                }\n",
       "            }, 500);\n",
       "            "
      ],
      "text/plain": [
       "<IPython.core.display.Javascript object>"
      ]
     },
     "metadata": {},
     "output_type": "display_data"
    }
   ],
   "source": [
    "# Plot Outliers\n",
    "plt.figure(figsize=(15, 20))\n",
    "for idx, col in enumerate(num_cont_features):\n",
    "    outliers = outlier_idx(house_data[col], 6)  # outlier indices\n",
    "    plt.subplot(math.ceil(len(num_cont_features) / 4), 4, idx + 1)\n",
    "    plt.scatter(x=house_data[col], y=house_data[\"SalePrice_log\"], c=\"blue\")\n",
    "    plt.scatter(\n",
    "        x=house_data[col][outliers], y=house_data[\"SalePrice_log\"][outliers], c=\"red\"\n",
    "    )\n",
    "    plt.ylabel(\"SalePrice_log\")\n",
    "    plt.xlabel(col)"
   ]
  },
  {
   "cell_type": "code",
   "execution_count": 287,
   "metadata": {},
   "outputs": [
    {
     "data": {
      "application/javascript": [
       "\n",
       "            setTimeout(function() {\n",
       "                var nbb_cell_id = 287;\n",
       "                var nbb_unformatted_code = \"# Identify outliers within listed variables\\nvars_outliers = (\\n    \\\"LotFrontage\\\",\\n    \\\"LotArea\\\",\\n    \\\"MasVnrArea\\\",\\n    \\\"TotalBsmtSF\\\",\\n    \\\"1stFlrSF\\\",\\n    \\\"2ndFlrSF\\\",\\n    \\\"GrLivArea\\\",\\n)\\n\\noutlier_store = {}\\nthresh = 6  # outlier > +6std away from mean\\nfor idx, col in enumerate(vars_outliers):\\n    outliers = outlier_idx(house_data[col], thresh)  # outlier indices\\n    if len(outliers) > 0:\\n        outlier_store[col] = outliers  # only store features with outliers\";\n",
       "                var nbb_formatted_code = \"# Identify outliers within listed variables\\nvars_outliers = (\\n    \\\"LotFrontage\\\",\\n    \\\"LotArea\\\",\\n    \\\"MasVnrArea\\\",\\n    \\\"TotalBsmtSF\\\",\\n    \\\"1stFlrSF\\\",\\n    \\\"2ndFlrSF\\\",\\n    \\\"GrLivArea\\\",\\n)\\n\\noutlier_store = {}\\nthresh = 6  # outlier > +6std away from mean\\nfor idx, col in enumerate(vars_outliers):\\n    outliers = outlier_idx(house_data[col], thresh)  # outlier indices\\n    if len(outliers) > 0:\\n        outlier_store[col] = outliers  # only store features with outliers\";\n",
       "                var nbb_cells = Jupyter.notebook.get_cells();\n",
       "                for (var i = 0; i < nbb_cells.length; ++i) {\n",
       "                    if (nbb_cells[i].input_prompt_number == nbb_cell_id) {\n",
       "                        if (nbb_cells[i].get_text() == nbb_unformatted_code) {\n",
       "                             nbb_cells[i].set_text(nbb_formatted_code);\n",
       "                        }\n",
       "                        break;\n",
       "                    }\n",
       "                }\n",
       "            }, 500);\n",
       "            "
      ],
      "text/plain": [
       "<IPython.core.display.Javascript object>"
      ]
     },
     "metadata": {},
     "output_type": "display_data"
    }
   ],
   "source": [
    "# Identify outliers within listed variables\n",
    "vars_outliers = (\n",
    "    \"LotFrontage\",\n",
    "    \"LotArea\",\n",
    "    \"MasVnrArea\",\n",
    "    \"TotalBsmtSF\",\n",
    "    \"1stFlrSF\",\n",
    "    \"2ndFlrSF\",\n",
    "    \"GrLivArea\",\n",
    ")\n",
    "\n",
    "outlier_store = {}\n",
    "thresh = 6  # outlier > +6std away from mean\n",
    "for idx, col in enumerate(vars_outliers):\n",
    "    outliers = outlier_idx(house_data[col], thresh)  # outlier indices\n",
    "    if len(outliers) > 0:\n",
    "        outlier_store[col] = outliers  # only store features with outliers"
   ]
  },
  {
   "cell_type": "code",
   "execution_count": 288,
   "metadata": {},
   "outputs": [
    {
     "data": {
      "application/javascript": [
       "\n",
       "            setTimeout(function() {\n",
       "                var nbb_cell_id = 288;\n",
       "                var nbb_unformatted_code = \"# Remove outlier observations\\nres = []\\nfor key in outlier_store.keys():\\n    res.append(outlier_store[key])\\noutlier_idx = [item for sublist in res for item in sublist]\\n\\nhouse_data.drop(outlier_idx, inplace=True)\";\n",
       "                var nbb_formatted_code = \"# Remove outlier observations\\nres = []\\nfor key in outlier_store.keys():\\n    res.append(outlier_store[key])\\noutlier_idx = [item for sublist in res for item in sublist]\\n\\nhouse_data.drop(outlier_idx, inplace=True)\";\n",
       "                var nbb_cells = Jupyter.notebook.get_cells();\n",
       "                for (var i = 0; i < nbb_cells.length; ++i) {\n",
       "                    if (nbb_cells[i].input_prompt_number == nbb_cell_id) {\n",
       "                        if (nbb_cells[i].get_text() == nbb_unformatted_code) {\n",
       "                             nbb_cells[i].set_text(nbb_formatted_code);\n",
       "                        }\n",
       "                        break;\n",
       "                    }\n",
       "                }\n",
       "            }, 500);\n",
       "            "
      ],
      "text/plain": [
       "<IPython.core.display.Javascript object>"
      ]
     },
     "metadata": {},
     "output_type": "display_data"
    }
   ],
   "source": [
    "# Remove outlier observations\n",
    "res = []\n",
    "for key in outlier_store.keys():\n",
    "    res.append(outlier_store[key])\n",
    "outlier_idx = [item for sublist in res for item in sublist]\n",
    "\n",
    "house_data.drop(outlier_idx, inplace=True)"
   ]
  },
  {
   "cell_type": "markdown",
   "metadata": {},
   "source": [
    "## Feature Engineering"
   ]
  },
  {
   "cell_type": "code",
   "execution_count": 289,
   "metadata": {},
   "outputs": [
    {
     "data": {
      "application/javascript": [
       "\n",
       "            setTimeout(function() {\n",
       "                var nbb_cell_id = 289;\n",
       "                var nbb_unformatted_code = \"#Total area of house = Above ground living area + basement living area\\nhouse_data['TotalSF'] = house_data['GrLivArea'] + house_data['TotalBsmtSF']\";\n",
       "                var nbb_formatted_code = \"# Total area of house = Above ground living area + basement living area\\nhouse_data[\\\"TotalSF\\\"] = house_data[\\\"GrLivArea\\\"] + house_data[\\\"TotalBsmtSF\\\"]\";\n",
       "                var nbb_cells = Jupyter.notebook.get_cells();\n",
       "                for (var i = 0; i < nbb_cells.length; ++i) {\n",
       "                    if (nbb_cells[i].input_prompt_number == nbb_cell_id) {\n",
       "                        if (nbb_cells[i].get_text() == nbb_unformatted_code) {\n",
       "                             nbb_cells[i].set_text(nbb_formatted_code);\n",
       "                        }\n",
       "                        break;\n",
       "                    }\n",
       "                }\n",
       "            }, 500);\n",
       "            "
      ],
      "text/plain": [
       "<IPython.core.display.Javascript object>"
      ]
     },
     "metadata": {},
     "output_type": "display_data"
    }
   ],
   "source": [
    "#Total area of house = Above ground living area + basement living area\n",
    "house_data['TotalSF'] = house_data['GrLivArea'] + house_data['TotalBsmtSF']\n"
   ]
  },
  {
   "cell_type": "code",
   "execution_count": 290,
   "metadata": {},
   "outputs": [
    {
     "data": {
      "application/javascript": [
       "\n",
       "            setTimeout(function() {\n",
       "                var nbb_cell_id = 290;\n",
       "                var nbb_unformatted_code = \"#Age = Year sold - year built\\nhouse_data['Age'] = house_data['YrSold'] - house_data['YearBuilt']\";\n",
       "                var nbb_formatted_code = \"# Age = Year sold - year built\\nhouse_data[\\\"Age\\\"] = house_data[\\\"YrSold\\\"] - house_data[\\\"YearBuilt\\\"]\";\n",
       "                var nbb_cells = Jupyter.notebook.get_cells();\n",
       "                for (var i = 0; i < nbb_cells.length; ++i) {\n",
       "                    if (nbb_cells[i].input_prompt_number == nbb_cell_id) {\n",
       "                        if (nbb_cells[i].get_text() == nbb_unformatted_code) {\n",
       "                             nbb_cells[i].set_text(nbb_formatted_code);\n",
       "                        }\n",
       "                        break;\n",
       "                    }\n",
       "                }\n",
       "            }, 500);\n",
       "            "
      ],
      "text/plain": [
       "<IPython.core.display.Javascript object>"
      ]
     },
     "metadata": {},
     "output_type": "display_data"
    }
   ],
   "source": [
    "#Age = Year sold - year built\n",
    "house_data['Age'] = house_data['YrSold'] - house_data['YearBuilt']\n"
   ]
  },
  {
   "cell_type": "code",
   "execution_count": 291,
   "metadata": {},
   "outputs": [
    {
     "data": {
      "application/javascript": [
       "\n",
       "            setTimeout(function() {\n",
       "                var nbb_cell_id = 291;\n",
       "                var nbb_unformatted_code = \"#AgeRemod = Year sold - year remodeled\\nhouse_data['Age'] = house_data['YrSold'] - house_data['YearRemodAdd']\";\n",
       "                var nbb_formatted_code = \"# AgeRemod = Year sold - year remodeled\\nhouse_data[\\\"Age\\\"] = house_data[\\\"YrSold\\\"] - house_data[\\\"YearRemodAdd\\\"]\";\n",
       "                var nbb_cells = Jupyter.notebook.get_cells();\n",
       "                for (var i = 0; i < nbb_cells.length; ++i) {\n",
       "                    if (nbb_cells[i].input_prompt_number == nbb_cell_id) {\n",
       "                        if (nbb_cells[i].get_text() == nbb_unformatted_code) {\n",
       "                             nbb_cells[i].set_text(nbb_formatted_code);\n",
       "                        }\n",
       "                        break;\n",
       "                    }\n",
       "                }\n",
       "            }, 500);\n",
       "            "
      ],
      "text/plain": [
       "<IPython.core.display.Javascript object>"
      ]
     },
     "metadata": {},
     "output_type": "display_data"
    }
   ],
   "source": [
    "#AgeRemod = Year sold - year remodeled\n",
    "house_data['AgeRemod'] = house_data['YrSold'] - house_data['YearRemodAdd']\n"
   ]
  },
  {
   "cell_type": "code",
   "execution_count": 292,
   "metadata": {},
   "outputs": [
    {
     "data": {
      "application/javascript": [
       "\n",
       "            setTimeout(function() {\n",
       "                var nbb_cell_id = 292;\n",
       "                var nbb_unformatted_code = \"#Total porch SF = OpenPorchSF + EnclosedSF + 3SsnPorch + ScreenPorch\\nhouse_data['TotPorchSF'] = house_data['OpenPorchSF'] + house_data['EnclosedPorch'] + house_data['3SsnPorch'] + house_data['ScreenPorch']\";\n",
       "                var nbb_formatted_code = \"# Total porch SF = OpenPorchSF + EnclosedSF + 3SsnPorch + ScreenPorch\\nhouse_data[\\\"TotPorchSF\\\"] = (\\n    house_data[\\\"OpenPorchSF\\\"]\\n    + house_data[\\\"EnclosedPorch\\\"]\\n    + house_data[\\\"3SsnPorch\\\"]\\n    + house_data[\\\"ScreenPorch\\\"]\\n)\";\n",
       "                var nbb_cells = Jupyter.notebook.get_cells();\n",
       "                for (var i = 0; i < nbb_cells.length; ++i) {\n",
       "                    if (nbb_cells[i].input_prompt_number == nbb_cell_id) {\n",
       "                        if (nbb_cells[i].get_text() == nbb_unformatted_code) {\n",
       "                             nbb_cells[i].set_text(nbb_formatted_code);\n",
       "                        }\n",
       "                        break;\n",
       "                    }\n",
       "                }\n",
       "            }, 500);\n",
       "            "
      ],
      "text/plain": [
       "<IPython.core.display.Javascript object>"
      ]
     },
     "metadata": {},
     "output_type": "display_data"
    }
   ],
   "source": [
    "#Total porch SF = OpenPorchSF + EnclosedSF + 3SsnPorch + ScreenPorch\n",
    "house_data['TotPorchSF'] = house_data['OpenPorchSF'] + house_data['EnclosedPorch'] + house_data['3SsnPorch'] + house_data['ScreenPorch']\n"
   ]
  },
  {
   "cell_type": "code",
   "execution_count": 293,
   "metadata": {},
   "outputs": [
    {
     "data": {
      "application/javascript": [
       "\n",
       "            setTimeout(function() {\n",
       "                var nbb_cell_id = 293;\n",
       "                var nbb_unformatted_code = \"#Total bathrooms = Full bath + 0.5*Halfbath (for both house and basement)\\nhouse_data['TotBaths'] = house_data['FullBath'] + house_data['BsmtFullBath'] + 0.5*house_data['HalfBath'] + 0.5*house_data['BsmtHalfBath']\";\n",
       "                var nbb_formatted_code = \"# Total bathrooms = Full bath + 0.5*Halfbath (for both house and basement)\\nhouse_data[\\\"TotBaths\\\"] = (\\n    house_data[\\\"FullBath\\\"]\\n    + house_data[\\\"BsmtFullBath\\\"]\\n    + 0.5 * house_data[\\\"HalfBath\\\"]\\n    + 0.5 * house_data[\\\"BsmtHalfBath\\\"]\\n)\";\n",
       "                var nbb_cells = Jupyter.notebook.get_cells();\n",
       "                for (var i = 0; i < nbb_cells.length; ++i) {\n",
       "                    if (nbb_cells[i].input_prompt_number == nbb_cell_id) {\n",
       "                        if (nbb_cells[i].get_text() == nbb_unformatted_code) {\n",
       "                             nbb_cells[i].set_text(nbb_formatted_code);\n",
       "                        }\n",
       "                        break;\n",
       "                    }\n",
       "                }\n",
       "            }, 500);\n",
       "            "
      ],
      "text/plain": [
       "<IPython.core.display.Javascript object>"
      ]
     },
     "metadata": {},
     "output_type": "display_data"
    }
   ],
   "source": [
    "#Total bathrooms = Full bath + 0.5*Halfbath (for both house and basement)\n",
    "house_data['TotBaths'] = house_data['FullBath'] + house_data['BsmtFullBath'] + 0.5*house_data['HalfBath'] + 0.5*house_data['BsmtHalfBath']\n"
   ]
  },
  {
   "cell_type": "code",
   "execution_count": 294,
   "metadata": {},
   "outputs": [
    {
     "data": {
      "application/javascript": [
       "\n",
       "            setTimeout(function() {\n",
       "                var nbb_cell_id = 294;\n",
       "                var nbb_unformatted_code = \"# Total number of car garage = 1, 2, 3+ cars\\nhouse_data[\\\"TotCarGarage\\\"] = pd.Series(\\n    len(house_data[\\\"GarageCars\\\"]), index=house_data.index\\n)\\nhouse_data[\\\"TotCarGarage\\\"] = 0\\nhouse_data.loc[house_data[\\\"GarageCars\\\"] >= 3, \\\"TotCarGarage\\\"] = 3\";\n",
       "                var nbb_formatted_code = \"# Total number of car garage = 1, 2, 3+ cars\\nhouse_data[\\\"TotCarGarage\\\"] = pd.Series(\\n    len(house_data[\\\"GarageCars\\\"]), index=house_data.index\\n)\\nhouse_data[\\\"TotCarGarage\\\"] = 0\\nhouse_data.loc[house_data[\\\"GarageCars\\\"] >= 3, \\\"TotCarGarage\\\"] = 3\";\n",
       "                var nbb_cells = Jupyter.notebook.get_cells();\n",
       "                for (var i = 0; i < nbb_cells.length; ++i) {\n",
       "                    if (nbb_cells[i].input_prompt_number == nbb_cell_id) {\n",
       "                        if (nbb_cells[i].get_text() == nbb_unformatted_code) {\n",
       "                             nbb_cells[i].set_text(nbb_formatted_code);\n",
       "                        }\n",
       "                        break;\n",
       "                    }\n",
       "                }\n",
       "            }, 500);\n",
       "            "
      ],
      "text/plain": [
       "<IPython.core.display.Javascript object>"
      ]
     },
     "metadata": {},
     "output_type": "display_data"
    }
   ],
   "source": [
    "# Total number of car garage = 1, 2, 3+ cars\n",
    "house_data[\"TotCarGarage\"] = pd.Series(\n",
    "    len(house_data[\"GarageCars\"]), index=house_data.index\n",
    ")\n",
    "house_data[\"TotCarGarage\"] = 0\n",
    "house_data.loc[house_data[\"GarageCars\"] >= 3, \"TotCarGarage\"] = 3"
   ]
  },
  {
   "cell_type": "code",
   "execution_count": 295,
   "metadata": {},
   "outputs": [
    {
     "data": {
      "application/javascript": [
       "\n",
       "            setTimeout(function() {\n",
       "                var nbb_cell_id = 295;\n",
       "                var nbb_unformatted_code = \"#Has Second Floor = 0 (no) or 1 (yes)\\nhouse_data['Has2ndFl'] = pd.Series(len(house_data['2ndFlrSF']), index=house_data.index)\\nhouse_data['Has2ndFl'] = 0 \\nhouse_data.loc[house_data['2ndFlrSF'] > 0,'Has2ndFl'] = 1\";\n",
       "                var nbb_formatted_code = \"# Has Second Floor = 0 (no) or 1 (yes)\\nhouse_data[\\\"Has2ndFl\\\"] = pd.Series(len(house_data[\\\"2ndFlrSF\\\"]), index=house_data.index)\\nhouse_data[\\\"Has2ndFl\\\"] = 0\\nhouse_data.loc[house_data[\\\"2ndFlrSF\\\"] > 0, \\\"Has2ndFl\\\"] = 1\";\n",
       "                var nbb_cells = Jupyter.notebook.get_cells();\n",
       "                for (var i = 0; i < nbb_cells.length; ++i) {\n",
       "                    if (nbb_cells[i].input_prompt_number == nbb_cell_id) {\n",
       "                        if (nbb_cells[i].get_text() == nbb_unformatted_code) {\n",
       "                             nbb_cells[i].set_text(nbb_formatted_code);\n",
       "                        }\n",
       "                        break;\n",
       "                    }\n",
       "                }\n",
       "            }, 500);\n",
       "            "
      ],
      "text/plain": [
       "<IPython.core.display.Javascript object>"
      ]
     },
     "metadata": {},
     "output_type": "display_data"
    }
   ],
   "source": [
    "#Has Second Floor = 0 (no) or 1 (yes)\n",
    "house_data['Has2ndFl'] = pd.Series(len(house_data['2ndFlrSF']), index=house_data.index)\n",
    "house_data['Has2ndFl'] = 0 \n",
    "house_data.loc[house_data['2ndFlrSF'] > 0,'Has2ndFl'] = 1\n"
   ]
  },
  {
   "cell_type": "code",
   "execution_count": 296,
   "metadata": {},
   "outputs": [
    {
     "data": {
      "application/javascript": [
       "\n",
       "            setTimeout(function() {\n",
       "                var nbb_cell_id = 296;\n",
       "                var nbb_unformatted_code = \"#Has Porch = 0 (no) or 1 (yes)\\nhouse_data['HasPorch'] = pd.Series(len(house_data['TotPorchSF']), index=house_data.index)\\nhouse_data['HasPorch'] = 0 \\nhouse_data.loc[house_data['TotPorchSF'] > 0,'HasPorch'] = 1\";\n",
       "                var nbb_formatted_code = \"# Has Porch = 0 (no) or 1 (yes)\\nhouse_data[\\\"HasPorch\\\"] = pd.Series(\\n    len(house_data[\\\"TotPorchSF\\\"]), index=house_data.index\\n)\\nhouse_data[\\\"HasPorch\\\"] = 0\\nhouse_data.loc[house_data[\\\"TotPorchSF\\\"] > 0, \\\"HasPorch\\\"] = 1\";\n",
       "                var nbb_cells = Jupyter.notebook.get_cells();\n",
       "                for (var i = 0; i < nbb_cells.length; ++i) {\n",
       "                    if (nbb_cells[i].input_prompt_number == nbb_cell_id) {\n",
       "                        if (nbb_cells[i].get_text() == nbb_unformatted_code) {\n",
       "                             nbb_cells[i].set_text(nbb_formatted_code);\n",
       "                        }\n",
       "                        break;\n",
       "                    }\n",
       "                }\n",
       "            }, 500);\n",
       "            "
      ],
      "text/plain": [
       "<IPython.core.display.Javascript object>"
      ]
     },
     "metadata": {},
     "output_type": "display_data"
    }
   ],
   "source": [
    "#Has Porch = 0 (no) or 1 (yes)\n",
    "house_data['HasPorch'] = pd.Series(len(house_data['TotPorchSF']), index=house_data.index)\n",
    "house_data['HasPorch'] = 0 \n",
    "house_data.loc[house_data['TotPorchSF'] > 0,'HasPorch'] = 1\n"
   ]
  },
  {
   "cell_type": "code",
   "execution_count": 297,
   "metadata": {},
   "outputs": [
    {
     "data": {
      "application/javascript": [
       "\n",
       "            setTimeout(function() {\n",
       "                var nbb_cell_id = 297;\n",
       "                var nbb_unformatted_code = \"#Has Deck = 0 (no) or 1 (yes)\\nhouse_data['HasDeck'] = pd.Series(len(house_data['WoodDeckSF']), index=house_data.index)\\nhouse_data['HasDeck'] = 0 \\nhouse_data.loc[house_data['WoodDeckSF'] > 0,'HasDeck'] = 1\";\n",
       "                var nbb_formatted_code = \"# Has Deck = 0 (no) or 1 (yes)\\nhouse_data[\\\"HasDeck\\\"] = pd.Series(len(house_data[\\\"WoodDeckSF\\\"]), index=house_data.index)\\nhouse_data[\\\"HasDeck\\\"] = 0\\nhouse_data.loc[house_data[\\\"WoodDeckSF\\\"] > 0, \\\"HasDeck\\\"] = 1\";\n",
       "                var nbb_cells = Jupyter.notebook.get_cells();\n",
       "                for (var i = 0; i < nbb_cells.length; ++i) {\n",
       "                    if (nbb_cells[i].input_prompt_number == nbb_cell_id) {\n",
       "                        if (nbb_cells[i].get_text() == nbb_unformatted_code) {\n",
       "                             nbb_cells[i].set_text(nbb_formatted_code);\n",
       "                        }\n",
       "                        break;\n",
       "                    }\n",
       "                }\n",
       "            }, 500);\n",
       "            "
      ],
      "text/plain": [
       "<IPython.core.display.Javascript object>"
      ]
     },
     "metadata": {},
     "output_type": "display_data"
    }
   ],
   "source": [
    "#Has Deck = 0 (no) or 1 (yes)\n",
    "house_data['HasDeck'] = pd.Series(len(house_data['WoodDeckSF']), index=house_data.index)\n",
    "house_data['HasDeck'] = 0 \n",
    "house_data.loc[house_data['WoodDeckSF'] > 0,'HasDeck'] = 1\n"
   ]
  },
  {
   "cell_type": "code",
   "execution_count": 298,
   "metadata": {},
   "outputs": [
    {
     "data": {
      "application/javascript": [
       "\n",
       "            setTimeout(function() {\n",
       "                var nbb_cell_id = 298;\n",
       "                var nbb_unformatted_code = \"#Has Pool = 0 (no) or 1 (yes)\\nhouse_data['HasPool'] = pd.Series(len(house_data['PoolArea']), index=house_data.index)\\nhouse_data['HasPool'] = 0 \\nhouse_data.loc[house_data['PoolArea'] > 0,'HasPool'] = 1\";\n",
       "                var nbb_formatted_code = \"# Has Pool = 0 (no) or 1 (yes)\\nhouse_data[\\\"HasPool\\\"] = pd.Series(len(house_data[\\\"PoolArea\\\"]), index=house_data.index)\\nhouse_data[\\\"HasPool\\\"] = 0\\nhouse_data.loc[house_data[\\\"PoolArea\\\"] > 0, \\\"HasPool\\\"] = 1\";\n",
       "                var nbb_cells = Jupyter.notebook.get_cells();\n",
       "                for (var i = 0; i < nbb_cells.length; ++i) {\n",
       "                    if (nbb_cells[i].input_prompt_number == nbb_cell_id) {\n",
       "                        if (nbb_cells[i].get_text() == nbb_unformatted_code) {\n",
       "                             nbb_cells[i].set_text(nbb_formatted_code);\n",
       "                        }\n",
       "                        break;\n",
       "                    }\n",
       "                }\n",
       "            }, 500);\n",
       "            "
      ],
      "text/plain": [
       "<IPython.core.display.Javascript object>"
      ]
     },
     "metadata": {},
     "output_type": "display_data"
    }
   ],
   "source": [
    "#Has Pool = 0 (no) or 1 (yes)\n",
    "house_data['HasPool'] = pd.Series(len(house_data['PoolArea']), index=house_data.index)\n",
    "house_data['HasPool'] = 0 \n",
    "house_data.loc[house_data['PoolArea'] > 0,'HasPool'] = 1\n"
   ]
  },
  {
   "cell_type": "code",
   "execution_count": 299,
   "metadata": {},
   "outputs": [
    {
     "data": {
      "application/javascript": [
       "\n",
       "            setTimeout(function() {\n",
       "                var nbb_cell_id = 299;\n",
       "                var nbb_unformatted_code = \"# #Has Fireplace = 0 (no), 1 (yes, not excellent quality), or 2 (excellent quality)\\n# house_data['HasFirePlace'] = pd.Series(len(house_data['FireplaceQu']), index=house_data.index)\\n# house_data['HasFirePlace'] = 1 #default all houses have a fireplace \\n# house_data.loc[house_data['FireplaceQu'].isna(),'HasFirePlace'] = 0 #replace 1 with 0 for 'No Fireplace'\\n# house_data.loc[house_data['FireplaceQu']== 'Ex','HasFirePlace'] = 2 #replace 1 with 2 for 'Excellent Fireplace'\";\n",
       "                var nbb_formatted_code = \"# #Has Fireplace = 0 (no), 1 (yes, not excellent quality), or 2 (excellent quality)\\n# house_data['HasFirePlace'] = pd.Series(len(house_data['FireplaceQu']), index=house_data.index)\\n# house_data['HasFirePlace'] = 1 #default all houses have a fireplace\\n# house_data.loc[house_data['FireplaceQu'].isna(),'HasFirePlace'] = 0 #replace 1 with 0 for 'No Fireplace'\\n# house_data.loc[house_data['FireplaceQu']== 'Ex','HasFirePlace'] = 2 #replace 1 with 2 for 'Excellent Fireplace'\";\n",
       "                var nbb_cells = Jupyter.notebook.get_cells();\n",
       "                for (var i = 0; i < nbb_cells.length; ++i) {\n",
       "                    if (nbb_cells[i].input_prompt_number == nbb_cell_id) {\n",
       "                        if (nbb_cells[i].get_text() == nbb_unformatted_code) {\n",
       "                             nbb_cells[i].set_text(nbb_formatted_code);\n",
       "                        }\n",
       "                        break;\n",
       "                    }\n",
       "                }\n",
       "            }, 500);\n",
       "            "
      ],
      "text/plain": [
       "<IPython.core.display.Javascript object>"
      ]
     },
     "metadata": {},
     "output_type": "display_data"
    }
   ],
   "source": [
    "# #Has Fireplace = 0 (no), 1 (yes, not excellent quality), or 2 (excellent quality)\n",
    "# house_data['HasFirePlace'] = pd.Series(len(house_data['FireplaceQu']), index=house_data.index)\n",
    "# house_data['HasFirePlace'] = 1 #default all houses have a fireplace \n",
    "# house_data.loc[house_data['FireplaceQu'].isna(),'HasFirePlace'] = 0 #replace 1 with 0 for 'No Fireplace'\n",
    "# house_data.loc[house_data['FireplaceQu']== 'Ex','HasFirePlace'] = 2 #replace 1 with 2 for 'Excellent Fireplace'\n"
   ]
  },
  {
   "cell_type": "code",
   "execution_count": 300,
   "metadata": {},
   "outputs": [
    {
     "data": {
      "application/javascript": [
       "\n",
       "            setTimeout(function() {\n",
       "                var nbb_cell_id = 300;\n",
       "                var nbb_unformatted_code = \"# #Has Gas Heating = 0 (no) or 1 (yes, GasA or GasW)\\n# house_data['HasGasHeating'] = pd.Series(len(house_data['Heating']), index=house_data.index)\\n# house_data['HasGasHeating'] = 0 \\n# house_data.loc[house_data['Heating']== 'GasA','HasGasHeating'] = 1\\n# house_data.loc[house_data['Heating']== 'GasW','HasGasHeating'] = 1\";\n",
       "                var nbb_formatted_code = \"# #Has Gas Heating = 0 (no) or 1 (yes, GasA or GasW)\\n# house_data['HasGasHeating'] = pd.Series(len(house_data['Heating']), index=house_data.index)\\n# house_data['HasGasHeating'] = 0\\n# house_data.loc[house_data['Heating']== 'GasA','HasGasHeating'] = 1\\n# house_data.loc[house_data['Heating']== 'GasW','HasGasHeating'] = 1\";\n",
       "                var nbb_cells = Jupyter.notebook.get_cells();\n",
       "                for (var i = 0; i < nbb_cells.length; ++i) {\n",
       "                    if (nbb_cells[i].input_prompt_number == nbb_cell_id) {\n",
       "                        if (nbb_cells[i].get_text() == nbb_unformatted_code) {\n",
       "                             nbb_cells[i].set_text(nbb_formatted_code);\n",
       "                        }\n",
       "                        break;\n",
       "                    }\n",
       "                }\n",
       "            }, 500);\n",
       "            "
      ],
      "text/plain": [
       "<IPython.core.display.Javascript object>"
      ]
     },
     "metadata": {},
     "output_type": "display_data"
    }
   ],
   "source": [
    "# #Has Gas Heating = 0 (no) or 1 (yes, GasA or GasW)\n",
    "# house_data['HasGasHeating'] = pd.Series(len(house_data['Heating']), index=house_data.index)\n",
    "# house_data['HasGasHeating'] = 0 \n",
    "# house_data.loc[house_data['Heating']== 'GasA','HasGasHeating'] = 1\n",
    "# house_data.loc[house_data['Heating']== 'GasW','HasGasHeating'] = 1\n"
   ]
  },
  {
   "cell_type": "code",
   "execution_count": 301,
   "metadata": {},
   "outputs": [
    {
     "data": {
      "application/javascript": [
       "\n",
       "            setTimeout(function() {\n",
       "                var nbb_cell_id = 301;\n",
       "                var nbb_unformatted_code = \"# #Has Modern Circuitbreaker = 0 (no) or 1 (yes)\\n# house_data['HasSBrkr'] = pd.Series(len(house_data['Electrical']), index=house_data.index)\\n# house_data['HasSBrkr'] = 0 \\n# house_data.loc[house_data['Electrical']== 'SBrkr','HasSBrkr'] = 1\";\n",
       "                var nbb_formatted_code = \"# #Has Modern Circuitbreaker = 0 (no) or 1 (yes)\\n# house_data['HasSBrkr'] = pd.Series(len(house_data['Electrical']), index=house_data.index)\\n# house_data['HasSBrkr'] = 0\\n# house_data.loc[house_data['Electrical']== 'SBrkr','HasSBrkr'] = 1\";\n",
       "                var nbb_cells = Jupyter.notebook.get_cells();\n",
       "                for (var i = 0; i < nbb_cells.length; ++i) {\n",
       "                    if (nbb_cells[i].input_prompt_number == nbb_cell_id) {\n",
       "                        if (nbb_cells[i].get_text() == nbb_unformatted_code) {\n",
       "                             nbb_cells[i].set_text(nbb_formatted_code);\n",
       "                        }\n",
       "                        break;\n",
       "                    }\n",
       "                }\n",
       "            }, 500);\n",
       "            "
      ],
      "text/plain": [
       "<IPython.core.display.Javascript object>"
      ]
     },
     "metadata": {},
     "output_type": "display_data"
    }
   ],
   "source": [
    "# #Has Modern Circuitbreaker = 0 (no) or 1 (yes)\n",
    "# house_data['HasSBrkr'] = pd.Series(len(house_data['Electrical']), index=house_data.index)\n",
    "# house_data['HasSBrkr'] = 0 \n",
    "# house_data.loc[house_data['Electrical']== 'SBrkr','HasSBrkr'] = 1\n"
   ]
  },
  {
   "cell_type": "code",
   "execution_count": 302,
   "metadata": {},
   "outputs": [
    {
     "data": {
      "application/javascript": [
       "\n",
       "            setTimeout(function() {\n",
       "                var nbb_cell_id = 302;\n",
       "                var nbb_unformatted_code = \"# #Has excellent basement quality = 0 (no) or 1 (yes)\\n# house_data['HasExBsmtQual'] = pd.Series(len(house_data['BsmtQual']), index=house_data.index)\\n# house_data['HasExBsmtQual'] = 0 \\n# house_data.loc[house_data['BsmtQual']== 'Ex','HasExBsmtQual'] = 1\";\n",
       "                var nbb_formatted_code = \"# #Has excellent basement quality = 0 (no) or 1 (yes)\\n# house_data['HasExBsmtQual'] = pd.Series(len(house_data['BsmtQual']), index=house_data.index)\\n# house_data['HasExBsmtQual'] = 0\\n# house_data.loc[house_data['BsmtQual']== 'Ex','HasExBsmtQual'] = 1\";\n",
       "                var nbb_cells = Jupyter.notebook.get_cells();\n",
       "                for (var i = 0; i < nbb_cells.length; ++i) {\n",
       "                    if (nbb_cells[i].input_prompt_number == nbb_cell_id) {\n",
       "                        if (nbb_cells[i].get_text() == nbb_unformatted_code) {\n",
       "                             nbb_cells[i].set_text(nbb_formatted_code);\n",
       "                        }\n",
       "                        break;\n",
       "                    }\n",
       "                }\n",
       "            }, 500);\n",
       "            "
      ],
      "text/plain": [
       "<IPython.core.display.Javascript object>"
      ]
     },
     "metadata": {},
     "output_type": "display_data"
    }
   ],
   "source": [
    "# #Has excellent basement quality = 0 (no) or 1 (yes)\n",
    "# house_data['HasExBsmtQual'] = pd.Series(len(house_data['BsmtQual']), index=house_data.index)\n",
    "# house_data['HasExBsmtQual'] = 0 \n",
    "# house_data.loc[house_data['BsmtQual']== 'Ex','HasExBsmtQual'] = 1\n"
   ]
  },
  {
   "cell_type": "code",
   "execution_count": 303,
   "metadata": {},
   "outputs": [
    {
     "data": {
      "application/javascript": [
       "\n",
       "            setTimeout(function() {\n",
       "                var nbb_cell_id = 303;\n",
       "                var nbb_unformatted_code = \"# #Has Basement Exposure = 0 (no) or 1 (yes)\\n# house_data['HasGd'] = pd.Series(len(house_data['BsmtExposure']), index=house_data.index)\\n# house_data['HasGd'] = 0 \\n# house_data.loc[house_data['BsmtExposure']== 'Gd','HasGd'] = 1\";\n",
       "                var nbb_formatted_code = \"# #Has Basement Exposure = 0 (no) or 1 (yes)\\n# house_data['HasGd'] = pd.Series(len(house_data['BsmtExposure']), index=house_data.index)\\n# house_data['HasGd'] = 0\\n# house_data.loc[house_data['BsmtExposure']== 'Gd','HasGd'] = 1\";\n",
       "                var nbb_cells = Jupyter.notebook.get_cells();\n",
       "                for (var i = 0; i < nbb_cells.length; ++i) {\n",
       "                    if (nbb_cells[i].input_prompt_number == nbb_cell_id) {\n",
       "                        if (nbb_cells[i].get_text() == nbb_unformatted_code) {\n",
       "                             nbb_cells[i].set_text(nbb_formatted_code);\n",
       "                        }\n",
       "                        break;\n",
       "                    }\n",
       "                }\n",
       "            }, 500);\n",
       "            "
      ],
      "text/plain": [
       "<IPython.core.display.Javascript object>"
      ]
     },
     "metadata": {},
     "output_type": "display_data"
    }
   ],
   "source": [
    "# #Has Basement Exposure = 0 (no) or 1 (yes)\n",
    "# house_data['HasGd'] = pd.Series(len(house_data['BsmtExposure']), index=house_data.index)\n",
    "# house_data['HasGd'] = 0 \n",
    "# house_data.loc[house_data['BsmtExposure']== 'Gd','HasGd'] = 1\n"
   ]
  },
  {
   "cell_type": "code",
   "execution_count": 304,
   "metadata": {},
   "outputs": [
    {
     "data": {
      "application/javascript": [
       "\n",
       "            setTimeout(function() {\n",
       "                var nbb_cell_id = 304;\n",
       "                var nbb_unformatted_code = \"# #Has Basement with good living quarters = 0 (no) or 1 (yes)\\n# house_data['HasGLQ'] = pd.Series(len(house_data['BsmtFinType1']), index=house_data.index)\\n# house_data['HasGLQ'] = 0 \\n# house_data.loc[house_data['BsmtFinType1']== 'GLQ','HasGLQ'] = 1\";\n",
       "                var nbb_formatted_code = \"# #Has Basement with good living quarters = 0 (no) or 1 (yes)\\n# house_data['HasGLQ'] = pd.Series(len(house_data['BsmtFinType1']), index=house_data.index)\\n# house_data['HasGLQ'] = 0\\n# house_data.loc[house_data['BsmtFinType1']== 'GLQ','HasGLQ'] = 1\";\n",
       "                var nbb_cells = Jupyter.notebook.get_cells();\n",
       "                for (var i = 0; i < nbb_cells.length; ++i) {\n",
       "                    if (nbb_cells[i].input_prompt_number == nbb_cell_id) {\n",
       "                        if (nbb_cells[i].get_text() == nbb_unformatted_code) {\n",
       "                             nbb_cells[i].set_text(nbb_formatted_code);\n",
       "                        }\n",
       "                        break;\n",
       "                    }\n",
       "                }\n",
       "            }, 500);\n",
       "            "
      ],
      "text/plain": [
       "<IPython.core.display.Javascript object>"
      ]
     },
     "metadata": {},
     "output_type": "display_data"
    }
   ],
   "source": [
    "# #Has Basement with good living quarters = 0 (no) or 1 (yes)\n",
    "# house_data['HasGLQ'] = pd.Series(len(house_data['BsmtFinType1']), index=house_data.index)\n",
    "# house_data['HasGLQ'] = 0 \n",
    "# house_data.loc[house_data['BsmtFinType1']== 'GLQ','HasGLQ'] = 1\n"
   ]
  },
  {
   "cell_type": "code",
   "execution_count": 305,
   "metadata": {},
   "outputs": [
    {
     "data": {
      "application/javascript": [
       "\n",
       "            setTimeout(function() {\n",
       "                var nbb_cell_id = 305;\n",
       "                var nbb_unformatted_code = \"# #Has paved driveway = 0 (no) or 1 (yes)\\n# house_data['HasPavedDrive'] = pd.Series(len(house_data['PavedDrive']), index=house_data.index)\\n# house_data['HasPavedDrive'] = 0 \\n# house_data.loc[house_data['PavedDrive']== 'Y','HasPavedDrive'] = 1\";\n",
       "                var nbb_formatted_code = \"# #Has paved driveway = 0 (no) or 1 (yes)\\n# house_data['HasPavedDrive'] = pd.Series(len(house_data['PavedDrive']), index=house_data.index)\\n# house_data['HasPavedDrive'] = 0\\n# house_data.loc[house_data['PavedDrive']== 'Y','HasPavedDrive'] = 1\";\n",
       "                var nbb_cells = Jupyter.notebook.get_cells();\n",
       "                for (var i = 0; i < nbb_cells.length; ++i) {\n",
       "                    if (nbb_cells[i].input_prompt_number == nbb_cell_id) {\n",
       "                        if (nbb_cells[i].get_text() == nbb_unformatted_code) {\n",
       "                             nbb_cells[i].set_text(nbb_formatted_code);\n",
       "                        }\n",
       "                        break;\n",
       "                    }\n",
       "                }\n",
       "            }, 500);\n",
       "            "
      ],
      "text/plain": [
       "<IPython.core.display.Javascript object>"
      ]
     },
     "metadata": {},
     "output_type": "display_data"
    }
   ],
   "source": [
    "# #Has paved driveway = 0 (no) or 1 (yes)\n",
    "# house_data['HasPavedDrive'] = pd.Series(len(house_data['PavedDrive']), index=house_data.index)\n",
    "# house_data['HasPavedDrive'] = 0 \n",
    "# house_data.loc[house_data['PavedDrive']== 'Y','HasPavedDrive'] = 1\n"
   ]
  },
  {
   "cell_type": "code",
   "execution_count": 306,
   "metadata": {},
   "outputs": [
    {
     "data": {
      "application/javascript": [
       "\n",
       "            setTimeout(function() {\n",
       "                var nbb_cell_id = 306;\n",
       "                var nbb_unformatted_code = \"#HasIrregularLotShape = 0 (no) or 1 (yes)\\nhouse_data['HasIrregularLotShape'] = pd.Series(len(house_data['LotShape']), index=house_data.index)\\nhouse_data['HasIrregularLotShape'] = 0 \\nhouse_data.loc[house_data['LotShape'] != 'Reg','HasIrregularLotShape'] = 1\";\n",
       "                var nbb_formatted_code = \"# HasIrregularLotShape = 0 (no) or 1 (yes)\\nhouse_data[\\\"HasIrregularLotShape\\\"] = pd.Series(\\n    len(house_data[\\\"LotShape\\\"]), index=house_data.index\\n)\\nhouse_data[\\\"HasIrregularLotShape\\\"] = 0\\nhouse_data.loc[house_data[\\\"LotShape\\\"] != \\\"Reg\\\", \\\"HasIrregularLotShape\\\"] = 1\";\n",
       "                var nbb_cells = Jupyter.notebook.get_cells();\n",
       "                for (var i = 0; i < nbb_cells.length; ++i) {\n",
       "                    if (nbb_cells[i].input_prompt_number == nbb_cell_id) {\n",
       "                        if (nbb_cells[i].get_text() == nbb_unformatted_code) {\n",
       "                             nbb_cells[i].set_text(nbb_formatted_code);\n",
       "                        }\n",
       "                        break;\n",
       "                    }\n",
       "                }\n",
       "            }, 500);\n",
       "            "
      ],
      "text/plain": [
       "<IPython.core.display.Javascript object>"
      ]
     },
     "metadata": {},
     "output_type": "display_data"
    }
   ],
   "source": [
    "#HasIrregularLotShape = 0 (no) or 1 (yes)\n",
    "house_data['HasIrregularLotShape'] = pd.Series(len(house_data['LotShape']), index=house_data.index)\n",
    "house_data['HasIrregularLotShape'] = 0 \n",
    "house_data.loc[house_data['LotShape'] != 'Reg','HasIrregularLotShape'] = 1\n"
   ]
  },
  {
   "cell_type": "code",
   "execution_count": 307,
   "metadata": {},
   "outputs": [
    {
     "data": {
      "application/javascript": [
       "\n",
       "            setTimeout(function() {\n",
       "                var nbb_cell_id = 307;\n",
       "                var nbb_unformatted_code = \"#HasLandSlope = 0 (gentle) or 1 (~gentle)\\nhouse_data['HasLandSlope'] = pd.Series(len(house_data['LandSlope']), index=house_data.index)\\nhouse_data['HasLandSlope'] = 0 \\nhouse_data.loc[house_data['LandSlope'] != 'Gtl','HasLandSlope'] = 1\";\n",
       "                var nbb_formatted_code = \"# HasLandSlope = 0 (gentle) or 1 (~gentle)\\nhouse_data[\\\"HasLandSlope\\\"] = pd.Series(\\n    len(house_data[\\\"LandSlope\\\"]), index=house_data.index\\n)\\nhouse_data[\\\"HasLandSlope\\\"] = 0\\nhouse_data.loc[house_data[\\\"LandSlope\\\"] != \\\"Gtl\\\", \\\"HasLandSlope\\\"] = 1\";\n",
       "                var nbb_cells = Jupyter.notebook.get_cells();\n",
       "                for (var i = 0; i < nbb_cells.length; ++i) {\n",
       "                    if (nbb_cells[i].input_prompt_number == nbb_cell_id) {\n",
       "                        if (nbb_cells[i].get_text() == nbb_unformatted_code) {\n",
       "                             nbb_cells[i].set_text(nbb_formatted_code);\n",
       "                        }\n",
       "                        break;\n",
       "                    }\n",
       "                }\n",
       "            }, 500);\n",
       "            "
      ],
      "text/plain": [
       "<IPython.core.display.Javascript object>"
      ]
     },
     "metadata": {},
     "output_type": "display_data"
    }
   ],
   "source": [
    "#HasLandSlope = 0 (gentle) or 1 (~gentle)\n",
    "house_data['HasLandSlope'] = pd.Series(len(house_data['LandSlope']), index=house_data.index)\n",
    "house_data['HasLandSlope'] = 0 \n",
    "house_data.loc[house_data['LandSlope'] != 'Gtl','HasLandSlope'] = 1\n"
   ]
  },
  {
   "cell_type": "code",
   "execution_count": 308,
   "metadata": {},
   "outputs": [
    {
     "data": {
      "application/javascript": [
       "\n",
       "            setTimeout(function() {\n",
       "                var nbb_cell_id = 308;\n",
       "                var nbb_unformatted_code = \"#FoundationType = 0 (Other) or 1 (CBlock) or 2 (PConc)\\nhouse_data['FoundationType'] = pd.Series(len(house_data['Foundation']), index=house_data.index)\\nhouse_data['FoundationType'] = 0\\nhouse_data.loc[house_data['Foundation'] == 'CBlock','FoundationType'] = 1\\nhouse_data.loc[house_data['Foundation'] == 'PConc','FoundationType'] = 2\";\n",
       "                var nbb_formatted_code = \"# FoundationType = 0 (Other) or 1 (CBlock) or 2 (PConc)\\nhouse_data[\\\"FoundationType\\\"] = pd.Series(\\n    len(house_data[\\\"Foundation\\\"]), index=house_data.index\\n)\\nhouse_data[\\\"FoundationType\\\"] = 0\\nhouse_data.loc[house_data[\\\"Foundation\\\"] == \\\"CBlock\\\", \\\"FoundationType\\\"] = 1\\nhouse_data.loc[house_data[\\\"Foundation\\\"] == \\\"PConc\\\", \\\"FoundationType\\\"] = 2\";\n",
       "                var nbb_cells = Jupyter.notebook.get_cells();\n",
       "                for (var i = 0; i < nbb_cells.length; ++i) {\n",
       "                    if (nbb_cells[i].input_prompt_number == nbb_cell_id) {\n",
       "                        if (nbb_cells[i].get_text() == nbb_unformatted_code) {\n",
       "                             nbb_cells[i].set_text(nbb_formatted_code);\n",
       "                        }\n",
       "                        break;\n",
       "                    }\n",
       "                }\n",
       "            }, 500);\n",
       "            "
      ],
      "text/plain": [
       "<IPython.core.display.Javascript object>"
      ]
     },
     "metadata": {},
     "output_type": "display_data"
    }
   ],
   "source": [
    "#FoundationType = 0 (Other) or 1 (CBlock) or 2 (PConc)\n",
    "house_data['FoundationType'] = pd.Series(len(house_data['Foundation']), index=house_data.index)\n",
    "house_data['FoundationType'] = 0\n",
    "house_data.loc[house_data['Foundation'] == 'CBlock','FoundationType'] = 1\n",
    "house_data.loc[house_data['Foundation'] == 'PConc','FoundationType'] = 2\n"
   ]
  },
  {
   "cell_type": "code",
   "execution_count": 309,
   "metadata": {},
   "outputs": [
    {
     "data": {
      "application/javascript": [
       "\n",
       "            setTimeout(function() {\n",
       "                var nbb_cell_id = 309;\n",
       "                var nbb_unformatted_code = \"#Has stone masonry = 0 (no) or 1 (yes)\\nhouse_data['HasStoneMas'] = pd.Series(len(house_data['MasVnrType']), index=house_data.index)\\nhouse_data['HasStoneMas'] = 0\\nhouse_data.loc[house_data['MasVnrType'] == 'Stone','HasStoneMas'] = 1\";\n",
       "                var nbb_formatted_code = \"# Has stone masonry = 0 (no) or 1 (yes)\\nhouse_data[\\\"HasStoneMas\\\"] = pd.Series(\\n    len(house_data[\\\"MasVnrType\\\"]), index=house_data.index\\n)\\nhouse_data[\\\"HasStoneMas\\\"] = 0\\nhouse_data.loc[house_data[\\\"MasVnrType\\\"] == \\\"Stone\\\", \\\"HasStoneMas\\\"] = 1\";\n",
       "                var nbb_cells = Jupyter.notebook.get_cells();\n",
       "                for (var i = 0; i < nbb_cells.length; ++i) {\n",
       "                    if (nbb_cells[i].input_prompt_number == nbb_cell_id) {\n",
       "                        if (nbb_cells[i].get_text() == nbb_unformatted_code) {\n",
       "                             nbb_cells[i].set_text(nbb_formatted_code);\n",
       "                        }\n",
       "                        break;\n",
       "                    }\n",
       "                }\n",
       "            }, 500);\n",
       "            "
      ],
      "text/plain": [
       "<IPython.core.display.Javascript object>"
      ]
     },
     "metadata": {},
     "output_type": "display_data"
    }
   ],
   "source": [
    "#Has stone masonry = 0 (no) or 1 (yes)\n",
    "house_data['HasStoneMas'] = pd.Series(len(house_data['MasVnrType']), index=house_data.index)\n",
    "house_data['HasStoneMas'] = 0\n",
    "house_data.loc[house_data['MasVnrType'] == 'Stone','HasStoneMas'] = 1\n"
   ]
  },
  {
   "cell_type": "code",
   "execution_count": 310,
   "metadata": {},
   "outputs": [
    {
     "data": {
      "application/javascript": [
       "\n",
       "            setTimeout(function() {\n",
       "                var nbb_cell_id = 310;\n",
       "                var nbb_unformatted_code = \"#NeighborhoodType = 0 (bottom 3 salesprice) or 1 (middle) or 2 (top 3 salesprice)\\nhouse_data['NeighborhoodType'] = pd.Series(len(house_data['Neighborhood']), index=house_data.index)\\nhouse_data['NeighborhoodType'] = 1\\n\\nhouse_data.loc[house_data['Neighborhood'] == 'BrDale','NeighborhoodType'] = 0\\nhouse_data.loc[house_data['Neighborhood'] == 'MeadowV','NeighborhoodType'] = 0\\nhouse_data.loc[house_data['Neighborhood'] == 'IDOTRR','NeighborhoodType'] = 0\\n\\nhouse_data.loc[house_data['Neighborhood'] == 'NoRidge','NeighborhoodType'] = 2\\nhouse_data.loc[house_data['Neighborhood'] == 'NridgHt','NeighborhoodType'] = 2\\nhouse_data.loc[house_data['Neighborhood'] == 'StoneBr','NeighborhoodType'] = 2\\n\\n# #Determine which neighborhoods are of high value and low value\\n# n_data = house_data[[\\\"SalePrice_log\\\", \\\"Neighborhood\\\"]]\\n# avg_logprice = n_data.groupby(house_data.Neighborhood).mean()\\n# avg_logprice = avg_logprice.sort_values(ascending=False, by='SalePrice_log')\\n\\n# top_3 = avg_logprice.iloc[0:3, :].index #top3 neighborhoods\\n# bot_3 = avg_logprice.iloc[-3:, :].index #bot3 neighborhoods\";\n",
       "                var nbb_formatted_code = \"# NeighborhoodType = 0 (bottom 3 salesprice) or 1 (middle) or 2 (top 3 salesprice)\\nhouse_data[\\\"NeighborhoodType\\\"] = pd.Series(\\n    len(house_data[\\\"Neighborhood\\\"]), index=house_data.index\\n)\\nhouse_data[\\\"NeighborhoodType\\\"] = 1\\n\\nhouse_data.loc[house_data[\\\"Neighborhood\\\"] == \\\"BrDale\\\", \\\"NeighborhoodType\\\"] = 0\\nhouse_data.loc[house_data[\\\"Neighborhood\\\"] == \\\"MeadowV\\\", \\\"NeighborhoodType\\\"] = 0\\nhouse_data.loc[house_data[\\\"Neighborhood\\\"] == \\\"IDOTRR\\\", \\\"NeighborhoodType\\\"] = 0\\n\\nhouse_data.loc[house_data[\\\"Neighborhood\\\"] == \\\"NoRidge\\\", \\\"NeighborhoodType\\\"] = 2\\nhouse_data.loc[house_data[\\\"Neighborhood\\\"] == \\\"NridgHt\\\", \\\"NeighborhoodType\\\"] = 2\\nhouse_data.loc[house_data[\\\"Neighborhood\\\"] == \\\"StoneBr\\\", \\\"NeighborhoodType\\\"] = 2\\n\\n# #Determine which neighborhoods are of high value and low value\\n# n_data = house_data[[\\\"SalePrice_log\\\", \\\"Neighborhood\\\"]]\\n# avg_logprice = n_data.groupby(house_data.Neighborhood).mean()\\n# avg_logprice = avg_logprice.sort_values(ascending=False, by='SalePrice_log')\\n\\n# top_3 = avg_logprice.iloc[0:3, :].index #top3 neighborhoods\\n# bot_3 = avg_logprice.iloc[-3:, :].index #bot3 neighborhoods\";\n",
       "                var nbb_cells = Jupyter.notebook.get_cells();\n",
       "                for (var i = 0; i < nbb_cells.length; ++i) {\n",
       "                    if (nbb_cells[i].input_prompt_number == nbb_cell_id) {\n",
       "                        if (nbb_cells[i].get_text() == nbb_unformatted_code) {\n",
       "                             nbb_cells[i].set_text(nbb_formatted_code);\n",
       "                        }\n",
       "                        break;\n",
       "                    }\n",
       "                }\n",
       "            }, 500);\n",
       "            "
      ],
      "text/plain": [
       "<IPython.core.display.Javascript object>"
      ]
     },
     "metadata": {},
     "output_type": "display_data"
    }
   ],
   "source": [
    "#NeighborhoodType = 0 (bottom 3 salesprice) or 1 (middle) or 2 (top 3 salesprice)\n",
    "house_data['NeighborhoodType'] = pd.Series(len(house_data['Neighborhood']), index=house_data.index)\n",
    "house_data['NeighborhoodType'] = 1\n",
    "\n",
    "house_data.loc[house_data['Neighborhood'] == 'BrDale','NeighborhoodType'] = 0\n",
    "house_data.loc[house_data['Neighborhood'] == 'MeadowV','NeighborhoodType'] = 0\n",
    "house_data.loc[house_data['Neighborhood'] == 'IDOTRR','NeighborhoodType'] = 0\n",
    "\n",
    "house_data.loc[house_data['Neighborhood'] == 'NoRidge','NeighborhoodType'] = 2\n",
    "house_data.loc[house_data['Neighborhood'] == 'NridgHt','NeighborhoodType'] = 2\n",
    "house_data.loc[house_data['Neighborhood'] == 'StoneBr','NeighborhoodType'] = 2\n",
    "\n",
    "# #Determine which neighborhoods are of high value and low value\n",
    "# n_data = house_data[[\"SalePrice_log\", \"Neighborhood\"]]\n",
    "# avg_logprice = n_data.groupby(house_data.Neighborhood).mean()\n",
    "# avg_logprice = avg_logprice.sort_values(ascending=False, by='SalePrice_log')\n",
    "\n",
    "# top_3 = avg_logprice.iloc[0:3, :].index #top3 neighborhoods\n",
    "# bot_3 = avg_logprice.iloc[-3:, :].index #bot3 neighborhoods\n"
   ]
  },
  {
   "cell_type": "markdown",
   "metadata": {},
   "source": [
    "## Remove Variables"
   ]
  },
  {
   "cell_type": "code",
   "execution_count": 311,
   "metadata": {},
   "outputs": [
    {
     "data": {
      "application/javascript": [
       "\n",
       "            setTimeout(function() {\n",
       "                var nbb_cell_id = 311;\n",
       "                var nbb_unformatted_code = \"# MUST ADD RICHARD'S VARIABLES TO LIST\\nvar_toremove = [\\n    \\\"YrSold\\\",\\n    \\\"YearBuilt\\\",\\n    \\\"YearRemodAdd\\\",\\n    \\\"OpenPorchSF\\\",\\n    \\\"EnclosedPorch\\\",\\n    \\\"3SsnPorch\\\",\\n    \\\"ScreenPorch\\\",\\n    \\\"FullBath\\\",\\n    \\\"BsmtFullBath\\\",\\n    \\\"HalfBath\\\",\\n    \\\"BsmtHalfBath\\\",\\n    \\\"GarageCars\\\",\\n    \\\"2ndFlrSF\\\",\\n    \\\"PoolArea\\\",\\n    \\\"LotShape\\\",\\n    \\\"LandSlope\\\",\\n    \\\"Foundation\\\",\\n    \\\"MasVnrType\\\",\\n    \\\"Neighborhood\\\",\\n    \\\"Street\\\",\\n    \\\"Alley\\\",\\n    \\\"Utilities\\\",\\n    \\\"LotConfig\\\",\\n    \\\"Condition1\\\",\\n    \\\"Condition2\\\",\\n    \\\"Exterior1st\\\",\\n    \\\"Exterior2nd\\\",\\n    \\\"MSZoning\\\",\\n    \\\"Alley\\\",\\n    \\\"LandContour\\\",\\n    \\\"LotConfig\\\",\\n    \\\"Condition1\\\",\\n    \\\"Condition2\\\",\\n    \\\"BldgType\\\",\\n    \\\"HouseStyle\\\",\\n    \\\"RoofStyle\\\",\\n    \\\"RoofMatl\\\",\\n    \\\"Exterior1st\\\",\\n    \\\"Exterior2nd\\\",\\n    \\\"ExterCond\\\",\\n]\\n\\nhouse_data.drop(var_toremove, axis=1, inplace=True)\";\n",
       "                var nbb_formatted_code = \"# MUST ADD RICHARD'S VARIABLES TO LIST\\nvar_toremove = [\\n    \\\"YrSold\\\",\\n    \\\"YearBuilt\\\",\\n    \\\"YearRemodAdd\\\",\\n    \\\"OpenPorchSF\\\",\\n    \\\"EnclosedPorch\\\",\\n    \\\"3SsnPorch\\\",\\n    \\\"ScreenPorch\\\",\\n    \\\"FullBath\\\",\\n    \\\"BsmtFullBath\\\",\\n    \\\"HalfBath\\\",\\n    \\\"BsmtHalfBath\\\",\\n    \\\"GarageCars\\\",\\n    \\\"2ndFlrSF\\\",\\n    \\\"PoolArea\\\",\\n    \\\"LotShape\\\",\\n    \\\"LandSlope\\\",\\n    \\\"Foundation\\\",\\n    \\\"MasVnrType\\\",\\n    \\\"Neighborhood\\\",\\n    \\\"Street\\\",\\n    \\\"Alley\\\",\\n    \\\"Utilities\\\",\\n    \\\"LotConfig\\\",\\n    \\\"Condition1\\\",\\n    \\\"Condition2\\\",\\n    \\\"Exterior1st\\\",\\n    \\\"Exterior2nd\\\",\\n    \\\"MSZoning\\\",\\n    \\\"Alley\\\",\\n    \\\"LandContour\\\",\\n    \\\"LotConfig\\\",\\n    \\\"Condition1\\\",\\n    \\\"Condition2\\\",\\n    \\\"BldgType\\\",\\n    \\\"HouseStyle\\\",\\n    \\\"RoofStyle\\\",\\n    \\\"RoofMatl\\\",\\n    \\\"Exterior1st\\\",\\n    \\\"Exterior2nd\\\",\\n    \\\"ExterCond\\\",\\n]\\n\\nhouse_data.drop(var_toremove, axis=1, inplace=True)\";\n",
       "                var nbb_cells = Jupyter.notebook.get_cells();\n",
       "                for (var i = 0; i < nbb_cells.length; ++i) {\n",
       "                    if (nbb_cells[i].input_prompt_number == nbb_cell_id) {\n",
       "                        if (nbb_cells[i].get_text() == nbb_unformatted_code) {\n",
       "                             nbb_cells[i].set_text(nbb_formatted_code);\n",
       "                        }\n",
       "                        break;\n",
       "                    }\n",
       "                }\n",
       "            }, 500);\n",
       "            "
      ],
      "text/plain": [
       "<IPython.core.display.Javascript object>"
      ]
     },
     "metadata": {},
     "output_type": "display_data"
    }
   ],
   "source": [
    "# MUST ADD RICHARD'S VARIABLES TO LIST\n",
    "var_toremove = [\n",
    "    'YrSold',\n",
    "    'YearBuilt',\n",
    "    'YearRemodAdd',\n",
    "    'OpenPorchSF',\n",
    "    'EnclosedPorch',\n",
    "    '3SsnPorch',\n",
    "    'ScreenPorch',\n",
    "    'FullBath',\n",
    "    'BsmtFullBath',\n",
    "    'HalfBath',\n",
    "    'BsmtHalfBath',\n",
    "    'GarageCars',\n",
    "    '2ndFlrSF',\n",
    "    'PoolArea',\n",
    "    'LotShape',\n",
    "    'LandSlope',\n",
    "    'Foundation',\n",
    "    'MasVnrType',\n",
    "    'Neighborhood',\n",
    "    'Street',\n",
    "    'Alley',\n",
    "    'Utilities',\n",
    "    'LotConfig',\n",
    "    'Condition1',\n",
    "    'Condition2',\n",
    "    'Exterior1st',\n",
    "    'Exterior2nd',\n",
    "    'MSZoning',\n",
    "    'Alley',\n",
    "    'LandContour',\n",
    "    'LotConfig',\n",
    "    'Condition1',\n",
    "    'Condition2',\n",
    "    'BldgType',\n",
    "    'HouseStyle',\n",
    "    'RoofStyle',\n",
    "    'RoofMatl',\n",
    "    'Exterior1st',\n",
    "    'Exterior2nd',\n",
    "    'ExterCond',\n",
    "    'BsmtFinSF2',\n",
    "    'LowQualFinSF',\n",
    "    'GarageYrBlt',\n",
    "    'MiscVal',\n",
    "    'MoSold'   \n",
    "]\n",
    "\n",
    "house_data.drop(var_toremove, axis=1, inplace=True)"
   ]
  },
  {
   "cell_type": "code",
   "execution_count": 312,
   "metadata": {},
   "outputs": [
    {
     "data": {
      "application/javascript": [
       "\n",
       "            setTimeout(function() {\n",
       "                var nbb_cell_id = 312;\n",
       "                var nbb_unformatted_code = \"house_data.to_csv(\\\"jon_HouseData.csv\\\")\";\n",
       "                var nbb_formatted_code = \"house_data.to_csv(\\\"jon_HouseData.csv\\\")\";\n",
       "                var nbb_cells = Jupyter.notebook.get_cells();\n",
       "                for (var i = 0; i < nbb_cells.length; ++i) {\n",
       "                    if (nbb_cells[i].input_prompt_number == nbb_cell_id) {\n",
       "                        if (nbb_cells[i].get_text() == nbb_unformatted_code) {\n",
       "                             nbb_cells[i].set_text(nbb_formatted_code);\n",
       "                        }\n",
       "                        break;\n",
       "                    }\n",
       "                }\n",
       "            }, 500);\n",
       "            "
      ],
      "text/plain": [
       "<IPython.core.display.Javascript object>"
      ]
     },
     "metadata": {},
     "output_type": "display_data"
    }
   ],
   "source": [
    "house_data.to_csv(\"jon_HouseData.csv\")"
   ]
  }
 ],
 "metadata": {
  "kernelspec": {
   "display_name": "Python 3",
   "language": "python",
   "name": "python3"
  },
  "language_info": {
   "codemirror_mode": {
    "name": "ipython",
    "version": 3
   },
   "file_extension": ".py",
   "mimetype": "text/x-python",
   "name": "python",
   "nbconvert_exporter": "python",
   "pygments_lexer": "ipython3",
   "version": "3.7.4"
  }
 },
 "nbformat": 4,
 "nbformat_minor": 2
}
